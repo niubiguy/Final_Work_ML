{
 "cells": [
  {
   "cell_type": "markdown",
   "metadata": {},
   "source": [
    "# Monografía final\n",
    "\n",
    "### Presentado por: Ivancovish J. Huancco Mamani"
   ]
  },
  {
   "cell_type": "markdown",
   "metadata": {},
   "source": [
    "## INTRODUCCIÓN"
   ]
  },
  {
   "cell_type": "markdown",
   "metadata": {},
   "source": [
    "Un chip semiconductor es un circuito eléctrico con muchos componentes, como transistores y cableado. Aunque la superficie de los chips parece lisa, están construidos físicamente por estructuras tridimensionales y normalmente incluyen muchas capas de circuitos complejos. El proceso de fabricación de semiconductores se produce en una sala limpia en la que se controlan la temperatura, la presión barométrica y la humedad para evitar la contaminación. Un proceso de fabricación típico a menudo implica cientos de pasos de procesamiento que se ejecutan capa por capa en una oblea desnuda, que puede contener cientos de chips (también llamados muere). (Más detalles en la monografia)"
   ]
  },
  {
   "cell_type": "markdown",
   "metadata": {},
   "source": [
    "Todo el proceso se compone de unos pocos procesos unitarios repetidos: película fina, fotolitografía, planarización química mecánica, difusión, implantación de iones y grabado. La Figura 1 es un flujo de proceso general para la mayoría de la fabricación de semiconductores para ilustrar la interrelación entre estos procesos unitarios."
   ]
  },
  {
   "cell_type": "markdown",
   "metadata": {},
   "source": [
    "Esta naturaleza de la fabricación de semiconductores conduce a tiempos de ciclo prolongados y afecta los cambios de tamaño de la oblea no solo debido a la mejora del rendimiento, sino también a la reducción del costo de producción por chip, por lo que se utiliza el mismo número de pasos del proceso para producir más chips."
   ]
  },
  {
   "cell_type": "markdown",
   "metadata": {},
   "source": [
    "Primero importamos las librerías principales.\n"
   ]
  },
  {
   "cell_type": "code",
   "execution_count": 1,
   "metadata": {},
   "outputs": [],
   "source": [
    "import pandas as pd\n",
    "import numpy as np\n",
    "import os\n",
    "import missingno as msno\n",
    "import matplotlib.pyplot as plt\n",
    "import xgboost as xgb\n",
    "import os\n",
    "import matplotlib.pyplot as plt\n",
    "%matplotlib inline"
   ]
  },
  {
   "cell_type": "markdown",
   "metadata": {},
   "source": [
    "La data fue almacenada en formato .csv lo cual vamos a exportarla de la siguiente forma."
   ]
  },
  {
   "cell_type": "markdown",
   "metadata": {},
   "source": [
    "Se utiliza un conjunto de datos de los procesos de prueba y ensamblaje de semiconductores para evaluar el método de predicción de selección de modelos. La variable de respuesta se refiere a la tasa de rendimiento de una combinación específica de máquina y producto en uno de los pasos del proceso de ensamblaje y prueba según los datos históricos. Este conjunto de datos incluye 1 variable de respuesta, 5 atributos categóricos de máquina y producto y 11 atributos numéricos. El conjunto de datos contiene 13186 observaciones."
   ]
  },
  {
   "cell_type": "markdown",
   "metadata": {},
   "source": [
    "Los cinco atributos categóricos representan los tipos de máquina, producto, material, paquete y receta que son factores clave que afectan las tasas de producción registradas por el Sistema de Ejecución de Fabricación (SEF) durante la producción. Los 11 atributos numéricos representan las características geométricas y físicas de un chip semiconductor, como el espesor de rectificado, el número de cables, el ancho y la longitud del cable, el número de troqueles en un sustrato, el número de conductores, el tamaño del troquel 2D y el tamaño del paquete 3D. La variable de respuesta se refiere a la tasa de rendimiento de una combinación específica de máquina-producto durante la producción."
   ]
  },
  {
   "cell_type": "markdown",
   "metadata": {},
   "source": [
    "- X1: Maquina\n",
    "- X2: Producto\n",
    "- X3: Material\n",
    "- X4: Paquete\n",
    "- X5: Recipiente para un numero n de obleas\n",
    "- X6: Espesor de Rectificado\n",
    "- X7: Número de cables\n",
    "- X8: Ancho del cable\n",
    "- X9: Longitud del cable\n",
    "- X10: Número de Troqueles en un sustrato\n",
    "- X11: Número de conductores\n",
    "- X12: Tamaño del troquel eje-x\n",
    "- X13: Tamaño del troquel eje-y\n",
    "- X14: Tamaño del paquete eje-x\n",
    "- X15: Tamaño del paquete eje-y\n",
    "- X16: Tamaño del paquete eje-z\n",
    "- lotName: Número de lote\n",
    "- wafer_id: indice de oblea\n",
    "- dieSize: Medida de troquel\n",
    "- Pred: Predicción del oblea\n",
    "- Real: Tipo de oblea aproximada\n",
    "- Center: dimensión de oblea central\n",
    "- Donut: dimensión de oblea tipo rosquilla\n",
    "- Edge-Loc: dimensión de oblea localizada en el borde\n",
    "- Edge-Ring: dimensión de oblea tipo anillo en el borde\n",
    "- Loc: dimensión de oblea local\n",
    "- Near-Full: dimensión de oblea casi llena\n",
    "- Random: dimensión de oblea aleatoria sin forma\n",
    "- Scratch: dimensión de oblea tipo rayadura\n",
    "\n",
    "\n",
    "\n",
    "\n",
    "\n",
    "\n",
    "\n",
    "\n"
   ]
  },
  {
   "cell_type": "markdown",
   "metadata": {},
   "source": [
    "- Y: Pass/Fail. Obtenido de la tasa de rendimiento de una combinación específica de máquina-producto y tipo de oblea durante la producción."
   ]
  },
  {
   "cell_type": "markdown",
   "metadata": {},
   "source": [
    "# Seleccion de Data"
   ]
  },
  {
   "cell_type": "markdown",
   "metadata": {},
   "source": [
    "El conjunto de datos comprende 8000 mapas de obleas, junto con información adicional como el tamaño del troquel de obleas (dieSize), el nombre del lote y el índice de obleas. (data obtenida a traves de la empresa en donde laboro, Dedicado a la manufactura, Calibración, Intrumentación entre otros)\n",
    "\n",
    "El conjunto de entrenamiento / prueba ya fue dividido por expertos en el dominio, pero en este kernel ignoramos esta información y re-dividimos el conjunto de datos en conjunto de entrenamiento y conjunto de prueba por método de retención que se presentará en la sección posterior."
   ]
  },
  {
   "cell_type": "code",
   "execution_count": 2,
   "metadata": {},
   "outputs": [],
   "source": [
    "df_sem=pd.read_csv(\"sem_data.csv\")"
   ]
  },
  {
   "cell_type": "code",
   "execution_count": 3,
   "metadata": {},
   "outputs": [
    {
     "data": {
      "text/plain": [
       "Index(['Y', 'X1', 'X2', 'X3', 'X4', 'X5', 'X6', 'X7', 'X8', 'X9', 'X10', 'X11',\n",
       "       'X12', 'X13', 'X14', 'X15', 'X16', 'lotName', 'wafer_id', 'dieSize',\n",
       "       'Real', 'Center', 'Donut', 'Edge-Loc', 'Edge-Ring', 'Loc', 'Near-full',\n",
       "       'Random', 'Scratch'],\n",
       "      dtype='object')"
      ]
     },
     "execution_count": 3,
     "metadata": {},
     "output_type": "execute_result"
    }
   ],
   "source": [
    "df_sem.columns"
   ]
  },
  {
   "cell_type": "markdown",
   "metadata": {},
   "source": [
    "El conjunto de datos se recopiló de 475 lotes en fabricacion del mundo real. Sin embargo, 475 lotes x 25 obleas / lote = 11875 mapas de obleas es más grande que 8000 mapas de obleas.\n",
    "\n",
    "Vamos a ver que pasó."
   ]
  },
  {
   "cell_type": "code",
   "execution_count": 4,
   "metadata": {},
   "outputs": [
    {
     "data": {
      "image/png": "[encoded data removed]",
      "text/plain": [
       "<Figure size 432x288 with 1 Axes>"
      ]
     },
     "metadata": {
      "needs_background": "light"
     },
     "output_type": "display_data"
    }
   ],
   "source": [
    "uni_Index=np.unique(df_sem.wafer_id, return_counts=True)\n",
    "plt.bar(uni_Index[0],uni_Index[1], color='gold', align='center', alpha=0.5)\n",
    "plt.title(\" distribución del índice de obleas\")\n",
    "plt.xlabel(\"indice #\")\n",
    "plt.ylabel(\"frecuencia\")\n",
    "plt.xlim(0,26)\n",
    "plt.ylim(1,1000)\n",
    "plt.show()"
   ]
  },
  {
   "cell_type": "markdown",
   "metadata": {},
   "source": [
    "La figura muestra que no todos los lotes tienen mapas de 25 obleas perfectos y esto puede deberse a fallas del sensor u otros problemas desconocidos.\n",
    "\n",
    "Afortunadamente, no necesitamos la función de índice de obleas en nuestra clasificación, por lo que podemos eliminar la variable."
   ]
  },
  {
   "cell_type": "markdown",
   "metadata": {},
   "source": [
    "Tampoco requerimos el uso de \"LotName\" es basicamente la identificacion de cada lote y \"X5\" que el tipo de recipiente para un numero de oblea n (n=1,2,...,25)"
   ]
  },
  {
   "cell_type": "code",
   "execution_count": 5,
   "metadata": {},
   "outputs": [],
   "source": [
    "df = df_sem.drop(['wafer_id',\"lotName\",\"X5\"], axis = 1)"
   ]
  },
  {
   "cell_type": "markdown",
   "metadata": {},
   "source": [
    "# Identificación de valores Faltantes"
   ]
  },
  {
   "cell_type": "markdown",
   "metadata": {},
   "source": [
    "Como paso fundamental y principal es verificar si existen datos faltantes dento de nuestra tabla de datos. Existen varios métodos para realizar esta inspección aquí vamos a mencionar 3 en particular:"
   ]
  },
  {
   "cell_type": "markdown",
   "metadata": {},
   "source": [
    "## Consulta si falta dato en cada columna"
   ]
  },
  {
   "cell_type": "markdown",
   "metadata": {},
   "source": [
    "Devuelve True o False si existe o no valores faltantes"
   ]
  },
  {
   "cell_type": "code",
   "execution_count": 6,
   "metadata": {},
   "outputs": [
    {
     "data": {
      "text/plain": [
       "Y            False\n",
       "X1           False\n",
       "X2           False\n",
       "X3           False\n",
       "X4           False\n",
       "X6           False\n",
       "X7           False\n",
       "X8           False\n",
       "X9           False\n",
       "X10          False\n",
       "X11          False\n",
       "X12          False\n",
       "X13          False\n",
       "X14          False\n",
       "X15          False\n",
       "X16          False\n",
       "dieSize      False\n",
       "Real         False\n",
       "Center       False\n",
       "Donut        False\n",
       "Edge-Loc     False\n",
       "Edge-Ring    False\n",
       "Loc          False\n",
       "Near-full    False\n",
       "Random       False\n",
       "Scratch      False\n",
       "dtype: bool"
      ]
     },
     "execution_count": 6,
     "metadata": {},
     "output_type": "execute_result"
    }
   ],
   "source": [
    "df.isnull().any()"
   ]
  },
  {
   "cell_type": "markdown",
   "metadata": {},
   "source": [
    "## A través de una libreria 'missingno' "
   ]
  },
  {
   "cell_type": "code",
   "execution_count": 7,
   "metadata": {},
   "outputs": [
    {
     "data": {
      "text/plain": [
       "<matplotlib.axes._subplots.AxesSubplot at 0x1b3f86da7c0>"
      ]
     },
     "execution_count": 7,
     "metadata": {},
     "output_type": "execute_result"
    },
    {
     "data": {
      "image/png": "[encoded data removed]",
      "text/plain": [
       "<Figure size 1800x720 with 2 Axes>"
      ]
     },
     "metadata": {
      "needs_background": "light"
     },
     "output_type": "display_data"
    }
   ],
   "source": [
    "msno.matrix(df)"
   ]
  },
  {
   "cell_type": "code",
   "execution_count": 8,
   "metadata": {},
   "outputs": [
    {
     "data": {
      "text/plain": [
       "<matplotlib.axes._subplots.AxesSubplot at 0x1b3f9189220>"
      ]
     },
     "execution_count": 8,
     "metadata": {},
     "output_type": "execute_result"
    },
    {
     "data": {
      "image/png": "[encoded data removed]",
      "text/plain": [
       "<Figure size 1728x720 with 3 Axes>"
      ]
     },
     "metadata": {
      "needs_background": "light"
     },
     "output_type": "display_data"
    }
   ],
   "source": [
    "msno.bar(df)"
   ]
  },
  {
   "cell_type": "markdown",
   "metadata": {},
   "source": [
    "Con estos dos metodos no encontramos ningun dato faltante."
   ]
  },
  {
   "cell_type": "markdown",
   "metadata": {},
   "source": [
    "Y con la siguiente que ademas nos ofrece el tipo de variable de vada columna"
   ]
  },
  {
   "cell_type": "code",
   "execution_count": 9,
   "metadata": {},
   "outputs": [
    {
     "name": "stdout",
     "output_type": "stream",
     "text": [
      "<class 'pandas.core.frame.DataFrame'>\n",
      "RangeIndex: 8000 entries, 0 to 7999\n",
      "Data columns (total 26 columns):\n",
      " #   Column     Non-Null Count  Dtype  \n",
      "---  ------     --------------  -----  \n",
      " 0   Y          8000 non-null   object \n",
      " 1   X1         8000 non-null   object \n",
      " 2   X2         8000 non-null   object \n",
      " 3   X3         8000 non-null   object \n",
      " 4   X4         8000 non-null   object \n",
      " 5   X6         8000 non-null   float64\n",
      " 6   X7         8000 non-null   int64  \n",
      " 7   X8         8000 non-null   int64  \n",
      " 8   X9         8000 non-null   int64  \n",
      " 9   X10        8000 non-null   float64\n",
      " 10  X11        8000 non-null   float64\n",
      " 11  X12        8000 non-null   float64\n",
      " 12  X13        8000 non-null   int64  \n",
      " 13  X14        8000 non-null   int64  \n",
      " 14  X15        8000 non-null   int64  \n",
      " 15  X16        8000 non-null   float64\n",
      " 16  dieSize    8000 non-null   int64  \n",
      " 17  Real       8000 non-null   object \n",
      " 18  Center     8000 non-null   float64\n",
      " 19  Donut      8000 non-null   float64\n",
      " 20  Edge-Loc   8000 non-null   float64\n",
      " 21  Edge-Ring  8000 non-null   float64\n",
      " 22  Loc        8000 non-null   float64\n",
      " 23  Near-full  8000 non-null   float64\n",
      " 24  Random     8000 non-null   float64\n",
      " 25  Scratch    8000 non-null   float64\n",
      "dtypes: float64(13), int64(7), object(6)\n",
      "memory usage: 1.6+ MB\n"
     ]
    }
   ],
   "source": [
    "df.info()"
   ]
  },
  {
   "cell_type": "markdown",
   "metadata": {},
   "source": [
    "## Resumen de tipo de variables"
   ]
  },
  {
   "cell_type": "markdown",
   "metadata": {},
   "source": [
    "> Revisión de variables tipo \"object\""
   ]
  },
  {
   "cell_type": "markdown",
   "metadata": {},
   "source": [
    "Como se puede apreciar existen 6 variables tipo objeto que son \"X1\", \"X2\", \"X3\", \"X4\", y \"Real\" que son variables categoricas."
   ]
  },
  {
   "cell_type": "markdown",
   "metadata": {},
   "source": [
    "\n",
    "Las cinco variables categóricas 𝑋1, 𝑋2, 𝑋3, 𝑋4, 𝑋5 tienen 2, 3, 4, 7 y 22 valores de atributos categóricos, respectivamente (es decir, $\\Omega$1 = {1,2}, $\\Omega$2 = {1,2,3}, $\\Omega$3 = {1,2,3,4} y $\\Omega$4 = {1,2,…, 7})."
   ]
  },
  {
   "cell_type": "code",
   "execution_count": 10,
   "metadata": {},
   "outputs": [
    {
     "data": {
      "text/plain": [
       "array(['X1-1', 'X1-2'], dtype=object)"
      ]
     },
     "execution_count": 10,
     "metadata": {},
     "output_type": "execute_result"
    }
   ],
   "source": [
    "df['X1'].unique()"
   ]
  },
  {
   "cell_type": "code",
   "execution_count": 11,
   "metadata": {},
   "outputs": [
    {
     "data": {
      "text/plain": [
       "array(['X2-1', 'X2-2', 'X2-3'], dtype=object)"
      ]
     },
     "execution_count": 11,
     "metadata": {},
     "output_type": "execute_result"
    }
   ],
   "source": [
    "df['X2'].unique()"
   ]
  },
  {
   "cell_type": "code",
   "execution_count": 12,
   "metadata": {},
   "outputs": [
    {
     "data": {
      "text/plain": [
       "array(['X4-1', 'X4-2', 'X4-3', 'X4-4', 'X4-5'], dtype=object)"
      ]
     },
     "execution_count": 12,
     "metadata": {},
     "output_type": "execute_result"
    }
   ],
   "source": [
    "df['X4'].unique()"
   ]
  },
  {
   "cell_type": "markdown",
   "metadata": {},
   "source": [
    "Estas cuatro mencionadas no tienen un peso definido porque son tipo de maquinas, producto, material y paquete"
   ]
  },
  {
   "cell_type": "code",
   "execution_count": 13,
   "metadata": {},
   "outputs": [
    {
     "data": {
      "text/plain": [
       "array(['X4-1', 'X4-2', 'X4-3', 'X4-4', 'X4-5'], dtype=object)"
      ]
     },
     "execution_count": 13,
     "metadata": {},
     "output_type": "execute_result"
    }
   ],
   "source": [
    "df['X4'].unique()"
   ]
  },
  {
   "cell_type": "code",
   "execution_count": 14,
   "metadata": {},
   "outputs": [
    {
     "data": {
      "text/plain": [
       "array(['Center', 'Donut', 'Edge-Loc', 'Edge-Ring', 'Loc', 'Near-full',\n",
       "       'Random', 'Scratch'], dtype=object)"
      ]
     },
     "execution_count": 14,
     "metadata": {},
     "output_type": "execute_result"
    }
   ],
   "source": [
    "df['Real'].unique()"
   ]
  },
  {
   "cell_type": "markdown",
   "metadata": {},
   "source": [
    "Estas dos variable si tiene un peso determinado, es decir son variables cateogicas ordinales\n",
    " - 'X4' representa el material usado (la caracterización del material semiconductor y/o sustrato indica que existe ruido y por ende pasa a ser degradado, lo cual podria ordenarse de 1 a 5 como un grado de pureza.\n",
    " - 'Real' Representa la caracteristica de falla mas relevante en que podria ordenar de forma ascendente, siendo Loc la que menos falla tiene y Near-Full la que mas fallas tiene."
   ]
  },
  {
   "cell_type": "markdown",
   "metadata": {},
   "source": [
    "> Revisión de variables tipo \"float\""
   ]
  },
  {
   "cell_type": "markdown",
   "metadata": {},
   "source": [
    "Las variables de tipo float que son \"X6\", \"X10\", \"X11\", \"X12\", \"X16\", \"Center\", \"Donut\", \"Edge-Loc\", \"Edge-Ring\", \"Loc\", \"Near-Full\", \"Random\", \"Scratch\" son variables numericas"
   ]
  },
  {
   "cell_type": "markdown",
   "metadata": {},
   "source": [
    "> Revisión de variables tipo \"int\""
   ]
  },
  {
   "cell_type": "markdown",
   "metadata": {},
   "source": [
    "Las variables de tipo int que son \"X7\", \"X8\", \"X9\", \"X13\", \"X14\", \"X15\", \"die_Size\" son variables numericas"
   ]
  },
  {
   "cell_type": "markdown",
   "metadata": {},
   "source": [
    "Inspección de variables si cuentan con valores unicos"
   ]
  },
  {
   "cell_type": "code",
   "execution_count": 15,
   "metadata": {},
   "outputs": [
    {
     "data": {
      "text/plain": [
       "array([ 50,  67, 176,  68,  54,  63, 409, 376,  73,  51, 294, 139, 138,\n",
       "        47,  53,  46, 208, 107, 119, 251, 205, 183, 194, 295, 151,  39,\n",
       "        19, 420, 188, 479, 484, 252, 504, 331, 127,  56, 197,  72,  70,\n",
       "        87,  57,  31,  30,  24,  59, 270,  84,  74,  80,  58,  98,  35,\n",
       "        49, 248, 120,  66, 222,  75,  81, 207, 163, 152, 118, 117,  69,\n",
       "        79, 136, 141,  89, 134, 556,  77, 157, 130, 131, 116,  93, 106,\n",
       "       102, 100, 108, 113, 153, 167, 174, 192, 166, 169, 115, 133,  82,\n",
       "       165, 159, 190, 126, 233, 220, 171, 123,  90, 158, 214, 196, 320,\n",
       "       140, 377, 272,  94, 191,  76, 271, 187, 334, 186, 203, 150, 236,\n",
       "       212, 122, 121, 211, 321], dtype=int64)"
      ]
     },
     "execution_count": 15,
     "metadata": {},
     "output_type": "execute_result"
    }
   ],
   "source": [
    "df['X7'].unique()"
   ]
  },
  {
   "cell_type": "code",
   "execution_count": 16,
   "metadata": {},
   "outputs": [
    {
     "data": {
      "text/plain": [
       "array([ 48,  34, 187,  66,  92, 139, 330,  73, 298,  51, 102,  52,  59,\n",
       "        42, 194,  76,  28, 219, 372, 338, 297, 311,  86, 138,  19, 470,\n",
       "       247, 274, 444, 495, 279,  84,  41,  31,  85, 133,  50, 231,  47,\n",
       "        58,  63,  30,  43, 108,  80,  57,  60, 209,  78,  89,  64, 106,\n",
       "        79, 124,  77, 196,  53,  97, 119, 181,  90,  93, 131, 163, 189,\n",
       "       154, 122, 130, 125, 128,  98, 545,  74, 169, 120, 127, 105,  83,\n",
       "       100,  68, 111, 101, 165, 161, 177, 204, 115, 149, 175, 114, 174,\n",
       "       136, 202, 126, 129, 272, 207, 185, 140, 143, 295, 240, 294, 341,\n",
       "       123, 141, 494, 220, 208, 357, 320, 230, 260, 176, 258,  67, 103,\n",
       "        46, 286, 144, 328, 153, 158, 146, 485, 347], dtype=int64)"
      ]
     },
     "execution_count": 16,
     "metadata": {},
     "output_type": "execute_result"
    }
   ],
   "source": [
    "df['X8'].unique()"
   ]
  },
  {
   "cell_type": "code",
   "execution_count": 17,
   "metadata": {},
   "outputs": [
    {
     "data": {
      "text/plain": [
       "array([105, 200, 125, 110, 335, 160,  50, 150, 107, 435, 320, 175, 152,\n",
       "       250,  55,  60,  65, 180, 127, 114,  75, 100,  76, 750, 254, 203,\n",
       "       178, 305, 275, 193, 210,  85,  90, 120, 143, 318], dtype=int64)"
      ]
     },
     "execution_count": 17,
     "metadata": {},
     "output_type": "execute_result"
    }
   ],
   "source": [
    "df['X9'].unique()"
   ]
  },
  {
   "cell_type": "code",
   "execution_count": 18,
   "metadata": {},
   "outputs": [
    {
     "data": {
      "text/plain": [
       "array([  8,  26,  12,  41,  28,  16,  34,  44,  20,  78,  96, 132, 169,\n",
       "       153, 345, 391, 152, 200,  10, 204,  64,  52,  18,  32,  40,  36,\n",
       "        56,  48,  72,  88,  84,  24, 168,  63, 162,  90,  67,  54,  60],\n",
       "      dtype=int64)"
      ]
     },
     "execution_count": 18,
     "metadata": {},
     "output_type": "execute_result"
    }
   ],
   "source": [
    "df['X13'].unique()"
   ]
  },
  {
   "cell_type": "code",
   "execution_count": 19,
   "metadata": {},
   "outputs": [
    {
     "data": {
      "text/plain": [
       "array([1600,  216,  832,  240,  120,   56,   72,  126,  238, 1728, 1216,\n",
       "         80,  168,  140,  180,  150,   48,  175,   95,   90,   60,   30,\n",
       "         88,  352,  304,  308, 2400,  624, 1596,    4,  108, 1152, 1440,\n",
       "        440,  160,  288,  125,  100,  104,  256,  156,  224,  144,   64,\n",
       "        481,   36,   66], dtype=int64)"
      ]
     },
     "execution_count": 19,
     "metadata": {},
     "output_type": "execute_result"
    }
   ],
   "source": [
    "df['X14'].unique()"
   ]
  },
  {
   "cell_type": "code",
   "execution_count": 20,
   "metadata": {},
   "outputs": [
    {
     "data": {
      "text/plain": [
       "array([  8,  10,  32,  27,  97,  29,  86,  24,  59,  20,  38, 206,  78,\n",
       "        91,  99,  93,  75,  80,   4, 267, 269,  98, 119, 117, 177, 193,\n",
       "       192, 195, 157, 261,  57, 194,  14,  11,   9,  12, 203,  76,  16,\n",
       "        15,  33,  34,  36,  31,  37,  39,  46,  42,  58,  52, 109,  60,\n",
       "        54, 131,  90,  69, 102,  96,  77, 134,  72, 113,  79, 156,  85,\n",
       "        18,  21,  22,  94,  83,  92,  82,  74,  88,  84, 104,  67, 236,\n",
       "       132, 111, 140,  30,  28,  25,  19,  65,  63,  55,  66, 108, 139,\n",
       "       112, 137,  71,  95,  23,  68,  61], dtype=int64)"
      ]
     },
     "execution_count": 20,
     "metadata": {},
     "output_type": "execute_result"
    }
   ],
   "source": [
    "df['X15'].unique()"
   ]
  },
  {
   "cell_type": "code",
   "execution_count": 21,
   "metadata": {},
   "outputs": [
    {
     "data": {
      "text/plain": [
       "array([ 1507,  1129,   776,   533,   939,  1522,  1299,  1297,   986,\n",
       "        3532,  2007,  1145,  2937,  1801,  2393,   710,  4987,  1485,\n",
       "         515,  3031,  1109,  2000,  1380,   980,   693,   736,  1044,\n",
       "        2597,   682,  1226,  1724,   549,  1389,  1644,  1880,  1139,\n",
       "        1334,  2460,  1683,  4251,  4096,  8147,  3797,  3642,   518,\n",
       "        1080, 13301, 15545,   564,  1530,  1473,  1187,  2071,   733,\n",
       "        1204,   846,   796,   712,   844,   845,   842,   843,  1233,\n",
       "         793,   516,  1483,  1256,  1091,   741,   895,  1421,   492,\n",
       "         904,  1376,  1442,  1466,   953,   562,  1060,   600,  1844,\n",
       "        3134,  1760,  5019,  1534,  2628,  1623,  1769,  1748,   841,\n",
       "         837,  1620,  2979,  2990,  3001,  3012,  2268,  4188,   924,\n",
       "         811,   661,  5133,  1291,  3632,  2340,  5342,  4432,  1169,\n",
       "        1073,  5633,   959,  1977,  2749,   827,  2096,  2485,  4603,\n",
       "        4612,  1583,  1893,   592,  2849,  1363,  1391,  2847,  2452,\n",
       "        2846,   993, 10173,  4938,   559,  2860,  1658,  2404,  1636,\n",
       "         820,  2479,  2111,  2367,  1364,  1338,  4014,  3513,   657,\n",
       "         912,  2361,  3281,  4306,  2292,   909,  7870,  2466,   607,\n",
       "       12662,   899,  5254,  1985,   771,  2683,  6295,  3879,   686,\n",
       "        1304,  1800,  1786,  1513,  1797,  1791,  1792,  1795,  3030,\n",
       "        1197,  1198,  1250,  1138,  1298,  1484,  1181,  1176,  3703,\n",
       "         822,   508,   490,   473,   488,   499,   938,   834,  1414,\n",
       "         952,   951,  1465,   635,   560,  7874,  2699,   928,   514,\n",
       "         520, 12552,  3036,  1464,  1075,  3927,  4020,  2765,  1437,\n",
       "        2766,  2742,  2085,  2734,  1253,  2072,  5815,  2491,  2513,\n",
       "        1999,  1573,  1379, 15032, 22372,  1411,  3996,  4479,  7777,\n",
       "        2126,  2474, 13317,  5168,  7517,  4136,   645,  3127,   905,\n",
       "         737,  1793,  1199,  5258,  1074,  1069,  1070,  1072,  1032,\n",
       "        1806,  8065,   836,  1287,  2278,  3895, 14116,  1267,  3947,\n",
       "         547,  6328,  6065,   779,  5980,  2300,  4799, 20761,  1972,\n",
       "         721,  3168,  3777,  1922,  3599, 14245,  6622,  2850,  5139,\n",
       "        4423,   528,  1901,  4143,  2570, 11067,  2302,  2887,  3024,\n",
       "        8337,  3014,  2644,  3878,  2840,  3501,  6052,  1361,  7079,\n",
       "         703,   810,   840,  1200,  1137,  1136,  1134,  1294,  1956,\n",
       "        1434,   500,   502,   503,  1413,   504,  1393,   935,   561,\n",
       "        2422,  1798,   990,  5082,  3695,  1349,   674,   865,  1638,\n",
       "         566,  3298,   497,  1013,  5085,  1930,  5638,  5095,  7810,\n",
       "        4553,  2598,  1532,  1754,  9974,  2690,  4811,  1572,  4579,\n",
       "        2784,  3289,  2489,  9502,  5340,  1194,  1135,   805,  1487,\n",
       "        3025,  3002,  2993,  3669,   553,  3746,  2842,  1594,  1976,\n",
       "        1424,   945,   940,  3858,  2227,  1799,   831,  1196,  3104,\n",
       "        1812,   464,  1090], dtype=int64)"
      ]
     },
     "execution_count": 21,
     "metadata": {},
     "output_type": "execute_result"
    }
   ],
   "source": [
    "df['dieSize'].unique()"
   ]
  },
  {
   "cell_type": "markdown",
   "metadata": {},
   "source": [
    "# Tratamiento de valores Atípicos"
   ]
  },
  {
   "cell_type": "markdown",
   "metadata": {},
   "source": [
    "Una vez identificadas las variables numéricas, hay que tener en cuenta otra característica muy importante,\n",
    "los valores “outliers”, los cuales se podrían definir como un dato atípico y extremo que se desvía del grupo\n",
    "de observaciones. Es importante tomar en cuenta estos valores ya que pueden potencialmente afectar los\n",
    "resultados sobre todo cuando se trabaja con la media."
   ]
  },
  {
   "cell_type": "markdown",
   "metadata": {},
   "source": [
    "Uno de los métodos más utilizados para poder identificar los outliers es el uso del Boxplot, el cual permite\n",
    "ver gráficamente cómo se agrupan los valores tomando de referencia los cuartiles (25%, 50% y 75%). Se\n",
    "define como valor outlier, aquel que se encuentra fuera del rango inferior del primer cuartil menos 3 veces\n",
    "el rango intercuartil (diferencia entre el Q1 y Q3) y por encima del rango superior del tercer cuartil más 3\n",
    "veces el rango intercuartil."
   ]
  },
  {
   "cell_type": "markdown",
   "metadata": {},
   "source": [
    "> Visualizando para una variable"
   ]
  },
  {
   "cell_type": "code",
   "execution_count": 22,
   "metadata": {},
   "outputs": [
    {
     "data": {
      "text/plain": [
       "<matplotlib.axes._subplots.AxesSubplot at 0x1b3f85fe850>"
      ]
     },
     "execution_count": 22,
     "metadata": {},
     "output_type": "execute_result"
    },
    {
     "data": {
      "image/png": "[encoded data removed]",
      "text/plain": [
       "<Figure size 432x288 with 1 Axes>"
      ]
     },
     "metadata": {
      "needs_background": "light"
     },
     "output_type": "display_data"
    }
   ],
   "source": [
    "variable_ati_X6=\"X6\"\n",
    "df_out= pd.concat([df[variable_ati_X6]], axis=1)\n",
    "\n",
    "#BoxPlot y rango intercuartil\n",
    "df[variable_ati_X6].plot.box() "
   ]
  },
  {
   "cell_type": "markdown",
   "metadata": {},
   "source": [
    "Claramente se ve que existe valores atípicos. Para mejorar esta varaible utilizamos el criterio de rango intercuartilico visto en clase."
   ]
  },
  {
   "cell_type": "code",
   "execution_count": 23,
   "metadata": {},
   "outputs": [],
   "source": [
    "#valor outlier\n",
    "iqr = df[variable_ati_X6].quantile(0.75) - df[variable_ati_X6].quantile(0.25)\n",
    "df_out[\"flg_out\"]=(df[variable_ati_X6]< np.percentile(df[variable_ati_X6], 25)-1.5*iqr) | (df[variable_ati_X6]> np.percentile(df[variable_ati_X6], 75)+1.5*iqr)"
   ]
  },
  {
   "cell_type": "code",
   "execution_count": 24,
   "metadata": {},
   "outputs": [
    {
     "data": {
      "text/plain": [
       "X6         1029\n",
       "flg_out    1029\n",
       "dtype: int64"
      ]
     },
     "execution_count": 24,
     "metadata": {},
     "output_type": "execute_result"
    }
   ],
   "source": [
    "df_out[df_out[\"flg_out\"]==True].count()"
   ]
  },
  {
   "cell_type": "code",
   "execution_count": 25,
   "metadata": {},
   "outputs": [
    {
     "data": {
      "text/plain": [
       "X6         6971\n",
       "flg_out    6971\n",
       "dtype: int64"
      ]
     },
     "execution_count": 25,
     "metadata": {},
     "output_type": "execute_result"
    }
   ],
   "source": [
    "df_out[df_out[\"flg_out\"]==False].count()"
   ]
  },
  {
   "cell_type": "code",
   "execution_count": 26,
   "metadata": {},
   "outputs": [
    {
     "data": {
      "text/plain": [
       "8.52e-05"
      ]
     },
     "execution_count": 26,
     "metadata": {},
     "output_type": "execute_result"
    }
   ],
   "source": [
    "min_acep= df_out[df_out[\"flg_out\"] ==False].min().iloc[0]\n",
    "min_acep"
   ]
  },
  {
   "cell_type": "code",
   "execution_count": 27,
   "metadata": {},
   "outputs": [],
   "source": [
    "#Acotar valores Outlier con Boxplot\n",
    "min_acep= df_out[df_out[\"flg_out\"] ==False].min().iloc[0]\n",
    "max_acep= df_out[df_out[\"flg_out\"] ==False].max().iloc[0]\n",
    "df_out[df_out[variable_ati_X6]<min_acep] = min_acep\n",
    "df_out[df_out[variable_ati_X6]>max_acep] = max_acep "
   ]
  },
  {
   "cell_type": "code",
   "execution_count": 28,
   "metadata": {},
   "outputs": [
    {
     "data": {
      "text/plain": [
       "0.545270289"
      ]
     },
     "execution_count": 28,
     "metadata": {},
     "output_type": "execute_result"
    }
   ],
   "source": [
    "#Verifiacación valores máximo y mínimo\n",
    "df_out.max().iloc[0]"
   ]
  },
  {
   "cell_type": "code",
   "execution_count": 29,
   "metadata": {},
   "outputs": [
    {
     "data": {
      "text/plain": [
       "8.52e-05"
      ]
     },
     "execution_count": 29,
     "metadata": {},
     "output_type": "execute_result"
    }
   ],
   "source": [
    "df_out.min().iloc[0]"
   ]
  },
  {
   "cell_type": "code",
   "execution_count": 30,
   "metadata": {},
   "outputs": [
    {
     "data": {
      "text/plain": [
       "<matplotlib.axes._subplots.AxesSubplot at 0x1b3f9ab1880>"
      ]
     },
     "execution_count": 30,
     "metadata": {},
     "output_type": "execute_result"
    },
    {
     "data": {
      "image/png": "[encoded data removed]",
      "text/plain": [
       "<Figure size 432x288 with 1 Axes>"
      ]
     },
     "metadata": {
      "needs_background": "light"
     },
     "output_type": "display_data"
    }
   ],
   "source": [
    "#Boxplot con valores acotados\n",
    "df_out[variable_ati_X6].plot.box() "
   ]
  },
  {
   "cell_type": "markdown",
   "metadata": {},
   "source": [
    "## Otros Métodos de Normalización"
   ]
  },
  {
   "cell_type": "markdown",
   "metadata": {},
   "source": [
    "Para la misma variable \"X6\" se van a analizar otros métodos para la\n",
    "normalización de datos, entre los que destacan el Z-Score, Max-Min, y Sofmax para ver sus características\n",
    "a la hora de tratar valores outlier"
   ]
  },
  {
   "cell_type": "markdown",
   "metadata": {},
   "source": [
    "### Z-SCORE"
   ]
  },
  {
   "cell_type": "code",
   "execution_count": 31,
   "metadata": {},
   "outputs": [
    {
     "data": {
      "text/html": [
       "<div>\n",
       "<style scoped>\n",
       "    .dataframe tbody tr th:only-of-type {\n",
       "        vertical-align: middle;\n",
       "    }\n",
       "\n",
       "    .dataframe tbody tr th {\n",
       "        vertical-align: top;\n",
       "    }\n",
       "\n",
       "    .dataframe thead th {\n",
       "        text-align: right;\n",
       "    }\n",
       "</style>\n",
       "<table border=\"1\" class=\"dataframe\">\n",
       "  <thead>\n",
       "    <tr style=\"text-align: right;\">\n",
       "      <th></th>\n",
       "      <th>X6</th>\n",
       "    </tr>\n",
       "  </thead>\n",
       "  <tbody>\n",
       "    <tr>\n",
       "      <th>0</th>\n",
       "      <td>0.025286</td>\n",
       "    </tr>\n",
       "    <tr>\n",
       "      <th>1</th>\n",
       "      <td>0.034876</td>\n",
       "    </tr>\n",
       "    <tr>\n",
       "      <th>2</th>\n",
       "      <td>0.079237</td>\n",
       "    </tr>\n",
       "    <tr>\n",
       "      <th>3</th>\n",
       "      <td>0.113288</td>\n",
       "    </tr>\n",
       "    <tr>\n",
       "      <th>4</th>\n",
       "      <td>0.113778</td>\n",
       "    </tr>\n",
       "    <tr>\n",
       "      <th>...</th>\n",
       "      <td>...</td>\n",
       "    </tr>\n",
       "    <tr>\n",
       "      <th>7995</th>\n",
       "      <td>0.061097</td>\n",
       "    </tr>\n",
       "    <tr>\n",
       "      <th>7996</th>\n",
       "      <td>0.061110</td>\n",
       "    </tr>\n",
       "    <tr>\n",
       "      <th>7997</th>\n",
       "      <td>0.061120</td>\n",
       "    </tr>\n",
       "    <tr>\n",
       "      <th>7998</th>\n",
       "      <td>0.061143</td>\n",
       "    </tr>\n",
       "    <tr>\n",
       "      <th>7999</th>\n",
       "      <td>0.061147</td>\n",
       "    </tr>\n",
       "  </tbody>\n",
       "</table>\n",
       "<p>8000 rows × 1 columns</p>\n",
       "</div>"
      ],
      "text/plain": [
       "            X6\n",
       "0     0.025286\n",
       "1     0.034876\n",
       "2     0.079237\n",
       "3     0.113288\n",
       "4     0.113778\n",
       "...        ...\n",
       "7995  0.061097\n",
       "7996  0.061110\n",
       "7997  0.061120\n",
       "7998  0.061143\n",
       "7999  0.061147\n",
       "\n",
       "[8000 rows x 1 columns]"
      ]
     },
     "execution_count": 31,
     "metadata": {},
     "output_type": "execute_result"
    }
   ],
   "source": [
    "dfframe=pd.DataFrame(df_out[variable_ati_X6])\n",
    "dfframe"
   ]
  },
  {
   "cell_type": "code",
   "execution_count": 32,
   "metadata": {},
   "outputs": [],
   "source": [
    "from sklearn.preprocessing import StandardScaler"
   ]
  },
  {
   "cell_type": "code",
   "execution_count": 33,
   "metadata": {},
   "outputs": [
    {
     "data": {
      "text/plain": [
       "<matplotlib.axes._subplots.AxesSubplot at 0x1b3f9b15760>"
      ]
     },
     "execution_count": 33,
     "metadata": {},
     "output_type": "execute_result"
    },
    {
     "data": {
      "image/png": "[encoded data removed]",
      "text/plain": [
       "<Figure size 432x288 with 1 Axes>"
      ]
     },
     "metadata": {
      "needs_background": "light"
     },
     "output_type": "display_data"
    }
   ],
   "source": [
    "scaler = StandardScaler()\n",
    "df_out_zs=scaler.fit_transform(dfframe)\n",
    "df_out_zs=pd.DataFrame(df_out_zs,columns=[\"N_zscore\"])\n",
    "df_out_zs.boxplot()"
   ]
  },
  {
   "cell_type": "markdown",
   "metadata": {},
   "source": [
    "### Normalización MIN-MAX"
   ]
  },
  {
   "cell_type": "code",
   "execution_count": 34,
   "metadata": {},
   "outputs": [],
   "source": [
    "from sklearn.preprocessing import MinMaxScaler"
   ]
  },
  {
   "cell_type": "code",
   "execution_count": 35,
   "metadata": {},
   "outputs": [
    {
     "data": {
      "text/plain": [
       "<matplotlib.axes._subplots.AxesSubplot at 0x1b3f9ba1460>"
      ]
     },
     "execution_count": 35,
     "metadata": {},
     "output_type": "execute_result"
    },
    {
     "data": {
      "image/png": "[encoded data removed]",
      "text/plain": [
       "<Figure size 432x288 with 1 Axes>"
      ]
     },
     "metadata": {
      "needs_background": "light"
     },
     "output_type": "display_data"
    }
   ],
   "source": [
    "Minmax = MinMaxScaler(feature_range=(0, 5))\n",
    "df_out_mm=Minmax.fit_transform(dfframe)\n",
    "df_out_mm=pd.DataFrame(df_out_mm,columns=[\"Min-Max\"])\n",
    "df_out_mm.boxplot()"
   ]
  },
  {
   "cell_type": "markdown",
   "metadata": {},
   "source": [
    "### Normalización SOF-MAX"
   ]
  },
  {
   "cell_type": "code",
   "execution_count": 36,
   "metadata": {},
   "outputs": [],
   "source": [
    "def softmax(x):\n",
    "    e_x = np.exp(x - np.max(x))\n",
    "    return e_x / e_x.sum(axis=0)"
   ]
  },
  {
   "cell_type": "code",
   "execution_count": 37,
   "metadata": {},
   "outputs": [
    {
     "data": {
      "text/plain": [
       "<matplotlib.axes._subplots.AxesSubplot at 0x1b3fabb5e50>"
      ]
     },
     "execution_count": 37,
     "metadata": {},
     "output_type": "execute_result"
    },
    {
     "data": {
      "image/png": "[encoded data removed]",
      "text/plain": [
       "<Figure size 432x288 with 1 Axes>"
      ]
     },
     "metadata": {
      "needs_background": "light"
     },
     "output_type": "display_data"
    }
   ],
   "source": [
    "df_out_sm=softmax(dfframe)\n",
    "df_out_sm=df_out_sm.rename(columns={variable_ati_X6:\"Sofmax\"})\n",
    "df_out_sm.boxplot()"
   ]
  },
  {
   "cell_type": "markdown",
   "metadata": {},
   "source": [
    "Compando Normalizaciones"
   ]
  },
  {
   "cell_type": "code",
   "execution_count": 38,
   "metadata": {},
   "outputs": [
    {
     "data": {
      "text/html": [
       "<div>\n",
       "<style scoped>\n",
       "    .dataframe tbody tr th:only-of-type {\n",
       "        vertical-align: middle;\n",
       "    }\n",
       "\n",
       "    .dataframe tbody tr th {\n",
       "        vertical-align: top;\n",
       "    }\n",
       "\n",
       "    .dataframe thead th {\n",
       "        text-align: right;\n",
       "    }\n",
       "</style>\n",
       "<table border=\"1\" class=\"dataframe\">\n",
       "  <thead>\n",
       "    <tr style=\"text-align: right;\">\n",
       "      <th></th>\n",
       "      <th>N_zscore</th>\n",
       "      <th>Min-Max</th>\n",
       "      <th>Sofmax</th>\n",
       "    </tr>\n",
       "  </thead>\n",
       "  <tbody>\n",
       "    <tr>\n",
       "      <th>0</th>\n",
       "      <td>-1.026474</td>\n",
       "      <td>0.231121</td>\n",
       "      <td>0.000103</td>\n",
       "    </tr>\n",
       "    <tr>\n",
       "      <th>1</th>\n",
       "      <td>-0.970151</td>\n",
       "      <td>0.319074</td>\n",
       "      <td>0.000104</td>\n",
       "    </tr>\n",
       "    <tr>\n",
       "      <th>2</th>\n",
       "      <td>-0.709622</td>\n",
       "      <td>0.725916</td>\n",
       "      <td>0.000109</td>\n",
       "    </tr>\n",
       "    <tr>\n",
       "      <th>3</th>\n",
       "      <td>-0.509641</td>\n",
       "      <td>1.038205</td>\n",
       "      <td>0.000113</td>\n",
       "    </tr>\n",
       "    <tr>\n",
       "      <th>4</th>\n",
       "      <td>-0.506764</td>\n",
       "      <td>1.042698</td>\n",
       "      <td>0.000113</td>\n",
       "    </tr>\n",
       "    <tr>\n",
       "      <th>...</th>\n",
       "      <td>...</td>\n",
       "      <td>...</td>\n",
       "      <td>...</td>\n",
       "    </tr>\n",
       "    <tr>\n",
       "      <th>7995</th>\n",
       "      <td>-0.816155</td>\n",
       "      <td>0.559555</td>\n",
       "      <td>0.000107</td>\n",
       "    </tr>\n",
       "    <tr>\n",
       "      <th>7996</th>\n",
       "      <td>-0.816079</td>\n",
       "      <td>0.559673</td>\n",
       "      <td>0.000107</td>\n",
       "    </tr>\n",
       "    <tr>\n",
       "      <th>7997</th>\n",
       "      <td>-0.816024</td>\n",
       "      <td>0.559758</td>\n",
       "      <td>0.000107</td>\n",
       "    </tr>\n",
       "    <tr>\n",
       "      <th>7998</th>\n",
       "      <td>-0.815888</td>\n",
       "      <td>0.559971</td>\n",
       "      <td>0.000107</td>\n",
       "    </tr>\n",
       "    <tr>\n",
       "      <th>7999</th>\n",
       "      <td>-0.815861</td>\n",
       "      <td>0.560014</td>\n",
       "      <td>0.000107</td>\n",
       "    </tr>\n",
       "  </tbody>\n",
       "</table>\n",
       "<p>8000 rows × 3 columns</p>\n",
       "</div>"
      ],
      "text/plain": [
       "      N_zscore   Min-Max    Sofmax\n",
       "0    -1.026474  0.231121  0.000103\n",
       "1    -0.970151  0.319074  0.000104\n",
       "2    -0.709622  0.725916  0.000109\n",
       "3    -0.509641  1.038205  0.000113\n",
       "4    -0.506764  1.042698  0.000113\n",
       "...        ...       ...       ...\n",
       "7995 -0.816155  0.559555  0.000107\n",
       "7996 -0.816079  0.559673  0.000107\n",
       "7997 -0.816024  0.559758  0.000107\n",
       "7998 -0.815888  0.559971  0.000107\n",
       "7999 -0.815861  0.560014  0.000107\n",
       "\n",
       "[8000 rows x 3 columns]"
      ]
     },
     "execution_count": 38,
     "metadata": {},
     "output_type": "execute_result"
    }
   ],
   "source": [
    "df_norm=pd.concat([df_out_zs,df_out_mm,df_out_sm],axis=1)\n",
    "df_norm"
   ]
  },
  {
   "cell_type": "code",
   "execution_count": 39,
   "metadata": {},
   "outputs": [
    {
     "data": {
      "text/plain": [
       "<matplotlib.axes._subplots.AxesSubplot at 0x1b3fac164f0>"
      ]
     },
     "execution_count": 39,
     "metadata": {},
     "output_type": "execute_result"
    },
    {
     "data": {
      "image/png": "[encoded data removed]",
      "text/plain": [
       "<Figure size 432x288 with 1 Axes>"
      ]
     },
     "metadata": {
      "needs_background": "light"
     },
     "output_type": "display_data"
    }
   ],
   "source": [
    "df_norm.boxplot()"
   ]
  },
  {
   "cell_type": "markdown",
   "metadata": {},
   "source": [
    "La normalización softmax es mas pequeña y varia entre 0 y 1. Por practicidad vamos a elegir el metodo de cuartiles"
   ]
  },
  {
   "cell_type": "markdown",
   "metadata": {},
   "source": [
    "Aplicando para todas las variables ordinales"
   ]
  },
  {
   "cell_type": "code",
   "execution_count": 41,
   "metadata": {},
   "outputs": [],
   "source": [
    "df_2=df.copy() #hacemos una copia"
   ]
  },
  {
   "cell_type": "code",
   "execution_count": 42,
   "metadata": {},
   "outputs": [],
   "source": [
    "#definir función para corrección de outliers\n",
    "def boxplot_outliers (data, var):\n",
    "    var_outlier= var\n",
    "    df_out= pd.concat([data[var_outlier]], axis=1)\n",
    "    iqr = df_out[var_outlier].quantile(0.75) - df_out[var_outlier].quantile(0.25)\n",
    "    df_out[\"flg_out1\"]= (df_out[var_outlier]< np.percentile(df_out[var_outlier], 25)-3*iqr)|(df_out[var_outlier]> np.percentile(df_out[var_outlier], 75)+3*iqr)\n",
    "    min_acep= df_out[df_out[\"flg_out1\"]==False].min().iloc[0]\n",
    "    max_acep= df_out[df_out[\"flg_out1\"]==False].max().iloc[0]\n",
    "    df_out[df_out[var_outlier]<min_acep]= min_acep\n",
    "    df_out[df_out[var_outlier]>max_acep]= max_acep\n",
    "    data[var_outlier]= df_out[var_outlier]\n",
    "    return data"
   ]
  },
  {
   "cell_type": "code",
   "execution_count": 43,
   "metadata": {},
   "outputs": [
    {
     "data": {
      "text/plain": [
       "['X6',\n",
       " 'X7',\n",
       " 'X8',\n",
       " 'X9',\n",
       " 'X10',\n",
       " 'X11',\n",
       " 'X12',\n",
       " 'X13',\n",
       " 'X14',\n",
       " 'X15',\n",
       " 'X16',\n",
       " 'dieSize',\n",
       " 'Center',\n",
       " 'Donut',\n",
       " 'Edge-Loc',\n",
       " 'Edge-Ring',\n",
       " 'Loc',\n",
       " 'Near-full',\n",
       " 'Random',\n",
       " 'Scratch']"
      ]
     },
     "execution_count": 43,
     "metadata": {},
     "output_type": "execute_result"
    }
   ],
   "source": [
    "variables= pd.DataFrame(df_2.dtypes, columns = ['Tipo']).reset_index()\n",
    "variables['Tipo_fact']= pd.factorize(variables[\"Tipo\"])[0]\n",
    "var_cuanti= variables[variables['Tipo_fact'].isin([1,2])]\n",
    "var_cuanti_l= var_cuanti[\"index\"].tolist()\n",
    "var_cuanti_l"
   ]
  },
  {
   "cell_type": "code",
   "execution_count": 44,
   "metadata": {},
   "outputs": [],
   "source": [
    "for i in var_cuanti_l:\n",
    "    boxplot_outliers(df_2, i)"
   ]
  },
  {
   "cell_type": "code",
   "execution_count": 45,
   "metadata": {},
   "outputs": [
    {
     "data": {
      "text/plain": [
       "<matplotlib.axes._subplots.AxesSubplot at 0x1b3facb5a90>"
      ]
     },
     "execution_count": 45,
     "metadata": {},
     "output_type": "execute_result"
    },
    {
     "data": {
      "image/png": "[encoded data removed]",
      "text/plain": [
       "<Figure size 432x288 with 1 Axes>"
      ]
     },
     "metadata": {
      "needs_background": "light"
     },
     "output_type": "display_data"
    }
   ],
   "source": [
    "df[var_cuanti_l].plot.box(rot=90)"
   ]
  },
  {
   "cell_type": "markdown",
   "metadata": {},
   "source": [
    "AHORA VEAMOS LOS DATOS SIN ATIPICOS Y NORMALIZADOS"
   ]
  },
  {
   "cell_type": "code",
   "execution_count": 46,
   "metadata": {},
   "outputs": [
    {
     "data": {
      "text/plain": [
       "<matplotlib.axes._subplots.AxesSubplot at 0x1b3fac996a0>"
      ]
     },
     "execution_count": 46,
     "metadata": {},
     "output_type": "execute_result"
    },
    {
     "data": {
      "image/png": "[encoded data removed]",
      "text/plain": [
       "<Figure size 432x288 with 1 Axes>"
      ]
     },
     "metadata": {
      "needs_background": "light"
     },
     "output_type": "display_data"
    }
   ],
   "source": [
    "df_2[var_cuanti_l].plot.box(rot=90)"
   ]
  },
  {
   "cell_type": "markdown",
   "metadata": {},
   "source": [
    "#  Análisis de variables Cuantitativas y Cuantitativas"
   ]
  },
  {
   "cell_type": "markdown",
   "metadata": {},
   "source": [
    "Para el análisis de variables categóricas o continuas se analizará si estas aportan o no informaciónsuficiente, es importante para predecir la variable objetivo, de este modo se tendrá en cuentasi existen tendencias crecientes y monótonas, además del Weight WOE y el Infomation Value(IV) los cuales son 2 indicadores muy utilizados y que permitirán identificar agrupaciones odescarte de las variables.  Además, del uso de otras técnicas utilizadas frecuentemente talescomo Recursive Feature Elimination (RFE) Random Forest, Chi-Cuadrado entre otros."
   ]
  },
  {
   "cell_type": "markdown",
   "metadata": {},
   "source": [
    "Antes de las operaciones cambiamos la variable objetivo a tipo dicotómica 0 y 1."
   ]
  },
  {
   "cell_type": "code",
   "execution_count": 47,
   "metadata": {},
   "outputs": [],
   "source": [
    "df_2_Y=df_2['Y'].replace(to_replace=['fail', 'pass'], value=[0,1])\n",
    "df_2_Y=pd.DataFrame(df_2_Y)\n",
    "data_2= df_2.assign(Y=df_2_Y['Y']) #Nueva tabla con categoria 0 y 1 en la variable objetivo"
   ]
  },
  {
   "cell_type": "markdown",
   "metadata": {},
   "source": [
    "## Mediante W0E e IV"
   ]
  },
  {
   "cell_type": "markdown",
   "metadata": {},
   "source": [
    "El valor de la información es un concepto muy útil para la selección de variables durantela construcción del modelo.  Las raíces del valor de la información, creo, están en la teoríade la información propuesta por Claude Shannon.  La razón de mi creencia es la similitudque tiene el valor de la información con un concepto de entropía ampliamente utilizado enla teoría de la información.  El valor de Chi Cuadrado, una medida ampliamente utilizadaen estadística, es un buen reemplazo para IV (valor de información).  Sin embargo, la IV esuna medida popular y ampliamente utilizada en la industria.  La razón de esto son algunasreglas prácticas muy convenientes para la selección de variables asociadas con IV; estas sonrealmente útiles, como descubrirá más adelante en este artículo http://ucanalytics.com/blogs/information-value-and-weight-of-evidencebanking-case/."
   ]
  },
  {
   "cell_type": "markdown",
   "metadata": {},
   "source": [
    "Para el análisis del WOE e IV creamos una función que nos facilitara el trabajo."
   ]
  },
  {
   "cell_type": "code",
   "execution_count": 48,
   "metadata": {},
   "outputs": [],
   "source": [
    "def iv_woe(data, target, bins=10, show_woe=False):\n",
    "    \n",
    "    # Marco de datos vacío\n",
    "    newDF,woeDF = pd.DataFrame(), pd.DataFrame()\n",
    "    \n",
    "    # Extraer nombres de columnas\n",
    "    cols = data.columns\n",
    "    \n",
    "    # Ejecute WOE y IV en todas las variables independientes\n",
    "    for ivars in cols[~cols.isin([target])]:\n",
    "        if (data[ivars].dtype.kind in 'bifc') and (len(np.unique(data[ivars]))>10):\n",
    "            binned_x = pd.qcut(data[ivars], bins,  duplicates='drop')\n",
    "            d0 = pd.DataFrame({'x': binned_x, 'y': data[target]})\n",
    "        else:\n",
    "            d0 = pd.DataFrame({'x': data[ivars], 'y': data[target]})\n",
    "        d = d0.groupby(\"x\", as_index=False).agg({\"y\": [\"count\", \"sum\"]})\n",
    "        d.columns = ['Frecuencia', 'N', 'Buenos']\n",
    "        d['% Buenos'] = np.maximum(d['Buenos'], 0.5) / d['Buenos'].sum()\n",
    "        d['Malos'] = d['N'] - d['Buenos']\n",
    "        d['% Malos'] = np.maximum(d['Malos'], 0.5) / d['Malos'].sum()\n",
    "        d['WoE'] = np.log(d['% Buenos']/d['% Malos'])\n",
    "        d['IV'] = d['WoE'] * (d['% Buenos'] - d['% Malos'])\n",
    "        d.insert(loc=0, column='Variable', value=ivars)\n",
    "        print('-'*74)\n",
    "        print(\"Information_Value de \" + ivars + \" es \" + str(round(d['IV'].sum(),6)))\n",
    "        temp =pd.DataFrame({\"Variable\" : [ivars], \"IV\" : [d['IV'].sum()]}, columns = [\"Variable\", \"IV\"])\n",
    "        newDF=pd.concat([newDF,temp], axis=0)\n",
    "        woeDF=pd.concat([woeDF,d], axis=0)\n",
    "\n",
    "        # Muestra la tabla WOE\n",
    "        if show_woe == True:\n",
    "            print(d)\n",
    "    return newDF, woeDF"
   ]
  },
  {
   "cell_type": "markdown",
   "metadata": {},
   "source": [
    "La variable dependiente especificada en el parámetro de destino debe ser binaria. 1 se refierePass (Bueno) y 0 se refiere a Fail (Malo).\n"
   ]
  },
  {
   "cell_type": "code",
   "execution_count": 49,
   "metadata": {},
   "outputs": [
    {
     "name": "stdout",
     "output_type": "stream",
     "text": [
      "--------------------------------------------------------------------------\n",
      "Information_Value de X1 es 0.273023\n",
      "  Variable Frecuencia     N  Buenos  % Buenos  Malos   % Malos       WoE  \\\n",
      "0       X1       X1-1  4005    1899  0.396948   2106  0.654851 -0.500602   \n",
      "1       X1       X1-2  3995    2885  0.603052   1110  0.345149  0.558026   \n",
      "\n",
      "         IV  \n",
      "0  0.129106  \n",
      "1  0.143916  \n",
      "--------------------------------------------------------------------------\n",
      "Information_Value de X2 es 0.320548\n",
      "  Variable Frecuencia     N  Buenos  % Buenos  Malos   % Malos       WoE  \\\n",
      "0       X2       X2-1  1346    1167  0.243938    179  0.055659  1.477667   \n",
      "1       X2       X2-2  6302    3417  0.714256   2885  0.897077 -0.227901   \n",
      "2       X2       X2-3   352     200  0.041806    152  0.047264 -0.122702   \n",
      "\n",
      "         IV  \n",
      "0  0.278214  \n",
      "1  0.041665  \n",
      "2  0.000670  \n",
      "--------------------------------------------------------------------------\n",
      "Information_Value de X3 es 0.013415\n",
      "  Variable Frecuencia     N  Buenos  % Buenos  Malos   % Malos       WoE  \\\n",
      "0       X3       X3-1  7563    4574  0.956104   2989  0.929415  0.028311   \n",
      "1       X3       X3-2   104      51  0.010661     53  0.016480 -0.435605   \n",
      "2       X3       X3-3   332     159  0.033236    173  0.053794 -0.481526   \n",
      "3       X3       X3-4     1       0  0.000105      1  0.000311 -1.090286   \n",
      "\n",
      "         IV  \n",
      "0  0.000756  \n",
      "1  0.002535  \n",
      "2  0.009899  \n",
      "3  0.000225  \n",
      "--------------------------------------------------------------------------\n",
      "Information_Value de X4 es 0.818685\n",
      "  Variable Frecuencia     N  Buenos  % Buenos  Malos   % Malos       WoE  \\\n",
      "0       X4       X4-1   626     194  0.040552    432  0.134328 -1.197706   \n",
      "1       X4       X4-2  4012    2687  0.561664   1325  0.412002  0.309874   \n",
      "2       X4       X4-3    98      98  0.020485      0  0.000155  4.880976   \n",
      "3       X4       X4-4  2847    1389  0.290343   1458  0.453358 -0.445620   \n",
      "4       X4       X4-5   417     416  0.086957      1  0.000311  5.633547   \n",
      "\n",
      "         IV  \n",
      "0  0.112317  \n",
      "1  0.046376  \n",
      "2  0.099228  \n",
      "3  0.072643  \n",
      "4  0.488122  \n",
      "--------------------------------------------------------------------------\n",
      "Information_Value de X6 es 2.073265\n",
      "  Variable            Frecuencia    N  Buenos  % Buenos  Malos   % Malos  \\\n",
      "0       X6  (-0.0009148, 0.0315]  800     405  0.084657    395  0.122823   \n",
      "1       X6      (0.0315, 0.0381]  800      54  0.011288    746  0.231965   \n",
      "2       X6       (0.0381, 0.054]  800     166  0.034699    634  0.197139   \n",
      "3       X6        (0.054, 0.109]  800     415  0.086747    385  0.119714   \n",
      "4       X6        (0.109, 0.189]  800     570  0.119147    230  0.071517   \n",
      "5       X6        (0.189, 0.213]  800     414  0.086538    386  0.120025   \n",
      "6       X6        (0.213, 0.232]  800     590  0.123328    210  0.065299   \n",
      "7       X6        (0.232, 0.306]  800     788  0.164716     12  0.003731   \n",
      "8       X6        (0.306, 0.732]  800     755  0.157818     45  0.013993   \n",
      "9       X6        (0.732, 0.842]  800     627  0.131062    173  0.053794   \n",
      "\n",
      "        WoE        IV  \n",
      "0 -0.372137  0.014203  \n",
      "1 -3.022880  0.667082  \n",
      "2 -1.737200  0.282191  \n",
      "3 -0.322103  0.010619  \n",
      "4  0.510418  0.024311  \n",
      "5 -0.327110  0.010954  \n",
      "6  0.635876  0.036899  \n",
      "7  3.787453  0.609721  \n",
      "8  2.422917  0.348476  \n",
      "9  0.890516  0.068809  \n",
      "--------------------------------------------------------------------------\n",
      "Information_Value de X7 es 1.302117\n",
      "  Variable      Frecuencia     N  Buenos  % Buenos  Malos   % Malos       WoE  \\\n",
      "0       X7  (18.999, 54.0]   858     269  0.056229    589  0.183147 -1.180853   \n",
      "1       X7    (54.0, 70.0]   768     162  0.033863    606  0.188433 -1.716422   \n",
      "2       X7    (70.0, 98.0]   881     260  0.054348    621  0.193097 -1.267788   \n",
      "3       X7   (98.0, 123.0]   710     688  0.143813     22  0.006841  3.045608   \n",
      "4       X7  (123.0, 151.0]  1164     899  0.187918    265  0.082400  0.824415   \n",
      "5       X7  (151.0, 163.0]   424     337  0.070443     87  0.027052  0.957036   \n",
      "6       X7  (163.0, 171.0]   886     712  0.148829    174  0.054104  1.011884   \n",
      "7       X7  (171.0, 196.0]   872     669  0.139841    203  0.063122  0.795439   \n",
      "8       X7  (196.0, 251.0]  1284     712  0.148829    572  0.177861 -0.178200   \n",
      "9       X7  (251.0, 504.0]   153      76  0.015886     77  0.023943 -0.410211   \n",
      "\n",
      "         IV  \n",
      "0  0.149871  \n",
      "1  0.265307  \n",
      "2  0.175905  \n",
      "3  0.417163  \n",
      "4  0.086990  \n",
      "5  0.041527  \n",
      "6  0.095851  \n",
      "7  0.061026  \n",
      "8  0.005173  \n",
      "9  0.003305  \n",
      "--------------------------------------------------------------------------\n",
      "Information_Value de X8 es 0.687566\n",
      "  Variable      Frecuencia     N  Buenos  % Buenos  Malos   % Malos       WoE  \\\n",
      "0       X8  (18.999, 50.0]   875     520  0.108696    355  0.110386 -0.015428   \n",
      "1       X8    (50.0, 66.0]   922     263  0.054975    659  0.204913 -1.315708   \n",
      "2       X8    (66.0, 86.0]   930     380  0.079431    550  0.171020 -0.766886   \n",
      "3       X8   (86.0, 103.0]   504     285  0.059574    219  0.068097 -0.133721   \n",
      "4       X8  (103.0, 140.0]   999     671  0.140259    328  0.101990  0.318617   \n",
      "5       X8  (140.0, 165.0]   656     429  0.089674    227  0.070585  0.239368   \n",
      "6       X8  (165.0, 189.0]   999     901  0.188336     98  0.030473  1.821399   \n",
      "7       X8  (189.0, 219.0]  1216     617  0.128972    599  0.186256 -0.367531   \n",
      "8       X8  (219.0, 294.0]   468     365  0.076296    103  0.032027  0.868030   \n",
      "9       X8  (294.0, 495.0]   431     353  0.073788     78  0.024254  1.112621   \n",
      "\n",
      "         IV  \n",
      "0  0.000026  \n",
      "1  0.197275  \n",
      "2  0.070238  \n",
      "3  0.001140  \n",
      "4  0.012193  \n",
      "5  0.004569  \n",
      "6  0.287532  \n",
      "7  0.021054  \n",
      "8  0.038426  \n",
      "9  0.055112  \n",
      "--------------------------------------------------------------------------\n",
      "Information_Value de X9 es 0.840265\n",
      "  Variable       Frecuencia     N  Buenos  % Buenos  Malos   % Malos  \\\n",
      "0       X9  (49.999, 110.0]  1678     557  0.116430   1121  0.348570   \n",
      "1       X9   (110.0, 125.0]  1050     347  0.072533    703  0.218595   \n",
      "2       X9   (125.0, 150.0]   811     571  0.119356    240  0.074627   \n",
      "3       X9   (150.0, 200.0]  2324    1538  0.321488    786  0.244403   \n",
      "4       X9   (200.0, 250.0]  1036     918  0.191890    118  0.036692   \n",
      "5       X9   (250.0, 254.0]   982     800  0.167224    182  0.056592   \n",
      "6       X9   (254.0, 435.0]   119      53  0.011079     66  0.020522   \n",
      "\n",
      "        WoE        IV  \n",
      "0 -1.096550  0.254553  \n",
      "1 -1.103171  0.161130  \n",
      "2  0.469612  0.021005  \n",
      "3  0.274143  0.021132  \n",
      "4  1.654374  0.256756  \n",
      "5  1.083466  0.119866  \n",
      "6 -0.616501  0.005822  \n",
      "--------------------------------------------------------------------------\n",
      "Information_Value de X10 es 1.081644\n",
      "  Variable    Frecuencia     N  Buenos  % Buenos  Malos   % Malos       WoE  \\\n",
      "0      X10  (1.999, 3.0]  1986     489  0.102216   1497  0.465485 -1.515995   \n",
      "1      X10    (3.0, 5.0]   421     162  0.033863    259  0.080535 -0.866370   \n",
      "2      X10    (5.0, 7.5]   931     845  0.176630     86  0.026741  1.887851   \n",
      "3      X10    (7.5, 8.0]  3176    2228  0.465719    948  0.294776  0.457366   \n",
      "4      X10    (8.0, 9.0]   729     419  0.087584    310  0.096393 -0.095840   \n",
      "5      X10  (9.0, 18.24]   757     641  0.133988    116  0.036070  1.312301   \n",
      "\n",
      "         IV  \n",
      "0  0.550714  \n",
      "1  0.040435  \n",
      "2  0.282968  \n",
      "3  0.078184  \n",
      "4  0.000844  \n",
      "5  0.128499  \n",
      "--------------------------------------------------------------------------\n",
      "Information_Value de X11 es 1.351031\n",
      "  Variable    Frecuencia     N  Buenos  % Buenos  Malos   % Malos       WoE  \\\n",
      "0      X11  (1.999, 4.0]  2275     518  0.108278   1757  0.546331 -1.618527   \n",
      "1      X11    (4.0, 5.0]   204     162  0.033863     42  0.013060  0.952788   \n",
      "2      X11    (5.0, 8.0]   863     553  0.115594    310  0.096393  0.181647   \n",
      "3      X11   (8.0, 10.0]   800     571  0.119356    229  0.071206  0.516529   \n",
      "4      X11  (10.0, 11.0]   681     385  0.080477    296  0.092040 -0.134255   \n",
      "5      X11  (11.0, 12.5]  1269    1018  0.212793    251  0.078047  1.003004   \n",
      "6      X11  (12.5, 13.5]   519     497  0.103888     22  0.006841  2.720409   \n",
      "7      X11  (13.5, 14.0]  1347    1079  0.225543    268  0.083333  0.995664   \n",
      "8      X11  (14.0, 20.0]    42       1  0.000209     41  0.012749 -4.110711   \n",
      "\n",
      "         IV  \n",
      "0  0.709001  \n",
      "1  0.019821  \n",
      "2  0.003488  \n",
      "3  0.024871  \n",
      "4  0.001552  \n",
      "5  0.135150  \n",
      "6  0.264008  \n",
      "7  0.141594  \n",
      "8  0.051547  \n",
      "--------------------------------------------------------------------------\n",
      "Information_Value de X12 es 1.422406\n",
      "  Variable     Frecuencia     N  Buenos  % Buenos  Malos   % Malos       WoE  \\\n",
      "0      X12  (0.399, 0.55]  2017     448  0.093645   1569  0.487873 -1.650539   \n",
      "1      X12   (0.55, 0.75]   791     310  0.064799    481  0.149565 -0.836434   \n",
      "2      X12   (0.75, 0.85]   707     653  0.136497     54  0.016791  2.095454   \n",
      "3      X12    (0.85, 1.0]  1231    1113  0.232651    118  0.036692  1.846991   \n",
      "4      X12     (1.0, 1.2]  2680    1921  0.401547    759  0.236007  0.531461   \n",
      "5      X12    (1.2, 2.02]   574     339  0.070861    235  0.073072 -0.030724   \n",
      "\n",
      "         IV  \n",
      "0  0.650688  \n",
      "1  0.070901  \n",
      "2  0.250838  \n",
      "3  0.361934  \n",
      "4  0.087978  \n",
      "5  0.000068  \n",
      "--------------------------------------------------------------------------\n",
      "Information_Value de X13 es 0.829898\n",
      "  Variable     Frecuencia     N  Buenos  % Buenos  Malos   % Malos       WoE  \\\n",
      "0      X13  (7.999, 32.0]  3311    1210  0.252926   2101  0.653296 -0.948932   \n",
      "1      X13   (32.0, 63.0]   730     620  0.129599    110  0.034204  1.332100   \n",
      "2      X13   (63.0, 78.0]   814     576  0.120401    238  0.074005  0.486698   \n",
      "3      X13   (78.0, 84.0]  1171     960  0.200669    211  0.065609  1.117936   \n",
      "4      X13   (84.0, 96.0]  1364    1093  0.228470    271  0.084266  0.997424   \n",
      "5      X13  (96.0, 204.0]   610     325  0.067935    285  0.088619 -0.265803   \n",
      "\n",
      "         IV  \n",
      "0  0.379923  \n",
      "1  0.127075  \n",
      "2  0.022581  \n",
      "3  0.150988  \n",
      "4  0.143832  \n",
      "5  0.005498  \n",
      "--------------------------------------------------------------------------\n",
      "Information_Value de X14 es 1.883874\n",
      "  Variable        Frecuencia     N  Buenos  % Buenos  Malos   % Malos  \\\n",
      "0      X14    (3.999, 100.0]   918     777  0.162416    141  0.043843   \n",
      "1      X14    (100.0, 140.0]  2549    2027  0.423704    522  0.162313   \n",
      "2      X14    (140.0, 160.0]   604     601  0.125627      3  0.000933   \n",
      "3      X14    (160.0, 175.0]  1019     581  0.121446    438  0.136194   \n",
      "4      X14    (175.0, 440.0]   635     279  0.058319    356  0.110697   \n",
      "5      X14    (440.0, 832.0]   916     104  0.021739    812  0.252488   \n",
      "6      X14   (832.0, 1600.0]  1130     315  0.065844    815  0.253420   \n",
      "7      X14  (1600.0, 1728.0]   229     100  0.020903    129  0.040112   \n",
      "\n",
      "        WoE        IV  \n",
      "0  1.309542  0.155276  \n",
      "1  0.959506  0.250806  \n",
      "2  4.902844  0.611356  \n",
      "3 -0.114607  0.001690  \n",
      "4 -0.640858  0.033566  \n",
      "5 -2.452248  0.565852  \n",
      "6 -1.347754  0.252806  \n",
      "7 -0.651781  0.012520  \n",
      "--------------------------------------------------------------------------\n",
      "Information_Value de X15 es 1.621215\n",
      "  Variable      Frecuencia     N  Buenos  % Buenos  Malos   % Malos       WoE  \\\n",
      "0      X15   (3.999, 10.0]  2439     626  0.130853   1813  0.563744 -1.460527   \n",
      "1      X15    (10.0, 39.0]   770     305  0.063754    465  0.144590 -0.818864   \n",
      "2      X15    (39.0, 75.0]   804     623  0.130226    181  0.056281  0.838911   \n",
      "3      X15    (75.0, 82.0]  1002     839  0.175376    163  0.050684  1.241322   \n",
      "4      X15    (82.0, 88.0]   633     420  0.087793    213  0.066231  0.281824   \n",
      "5      X15    (88.0, 92.0]   917     649  0.135661    268  0.083333  0.487307   \n",
      "6      X15   (92.0, 108.0]   657     648  0.135452      9  0.002799  3.879527   \n",
      "7      X15  (108.0, 269.0]   778     674  0.140886    104  0.032338  1.471701   \n",
      "\n",
      "         IV  \n",
      "0  0.632249  \n",
      "1  0.066193  \n",
      "2  0.062033  \n",
      "3  0.154783  \n",
      "4  0.006076  \n",
      "5  0.025499  \n",
      "6  0.514631  \n",
      "7  0.159750  \n",
      "--------------------------------------------------------------------------\n",
      "Information_Value de X16 es 0.380962\n",
      "  Variable  Frecuencia     N  Buenos  % Buenos  Malos   % Malos       WoE  \\\n",
      "0      X16         0.6  1513     967  0.202132    546  0.169776  0.174441   \n",
      "1      X16         0.7  4191    1991  0.416179   2200  0.684080 -0.496959   \n",
      "2      X16         0.8  2189    1728  0.361204    461  0.143346  0.924183   \n",
      "3      X16         0.9   104      97  0.020276      7  0.002177  2.231662   \n",
      "4      X16         1.0     3       1  0.000209      2  0.000622 -1.090286   \n",
      "\n",
      "         IV  \n",
      "0  0.005644  \n",
      "1  0.133136  \n",
      "2  0.201341  \n",
      "3  0.040392  \n",
      "4  0.000450  \n",
      "--------------------------------------------------------------------------\n",
      "Information_Value de dieSize es 0.432261\n",
      "  Variable        Frecuencia     N  Buenos  % Buenos  Malos   % Malos  \\\n",
      "0  dieSize  (463.999, 515.0]   914     273  0.057065    641  0.199316   \n",
      "1  dieSize    (515.0, 562.0]   825     470  0.098244    355  0.110386   \n",
      "2  dieSize    (562.0, 776.0]   813     401  0.083821    412  0.128109   \n",
      "3  dieSize    (776.0, 939.0]   748     391  0.081731    357  0.111007   \n",
      "4  dieSize   (939.0, 1075.0]   708     601  0.125627    107  0.033271   \n",
      "5  dieSize  (1075.0, 1291.0]   882     461  0.096363    421  0.130908   \n",
      "6  dieSize  (1291.0, 1442.0]   723     459  0.095945    264  0.082090   \n",
      "7  dieSize  (1442.0, 2126.0]  1071     780  0.163043    291  0.090485   \n",
      "8  dieSize  (2126.0, 3036.0]   702     495  0.103470    207  0.064366   \n",
      "9  dieSize  (3036.0, 4612.0]   614     453  0.094691    161  0.050062   \n",
      "\n",
      "        WoE        IV  \n",
      "0 -1.250696  0.177912  \n",
      "1 -0.116524  0.001415  \n",
      "2 -0.424201  0.018787  \n",
      "3 -0.306167  0.008964  \n",
      "4  1.328627  0.122707  \n",
      "5 -0.306373  0.010584  \n",
      "6  0.155962  0.002161  \n",
      "7  0.588832  0.042725  \n",
      "8  0.474700  0.018563  \n",
      "9  0.637349  0.028444  \n",
      "--------------------------------------------------------------------------\n",
      "Information_Value de Real es 1.423261\n",
      "  Variable Frecuencia     N  Buenos  % Buenos  Malos   % Malos       WoE  \\\n",
      "0     Real     Center  1696     620  0.129599   1076  0.334577 -0.948425   \n",
      "1     Real      Donut   229      78  0.016304    151  0.046953 -1.057710   \n",
      "2     Real   Edge-Loc  2108    1177  0.246028    931  0.289490 -0.162674   \n",
      "3     Real  Edge-Ring  2504    2083  0.435410    421  0.130908  1.201793   \n",
      "4     Real        Loc   916     279  0.058319    637  0.198072 -1.222697   \n",
      "5     Real  Near-full    33      33  0.006898      0  0.000155  3.792516   \n",
      "6     Real     Random   226     226  0.047241      0  0.000155  5.716544   \n",
      "7     Real    Scratch   288     288  0.060201      0  0.000155  5.958969   \n",
      "\n",
      "         IV  \n",
      "0  0.194407  \n",
      "1  0.032417  \n",
      "2  0.007070  \n",
      "3  0.365948  \n",
      "4  0.170875  \n",
      "5  0.025571  \n",
      "6  0.269165  \n",
      "7  0.357807  \n",
      "--------------------------------------------------------------------------\n",
      "Information_Value de Center es 0.596011\n",
      "  Variable            Frecuencia     N  Buenos  % Buenos  Malos   % Malos  \\\n",
      "0   Center    (-0.001, 2.97e-18]   800     707  0.147784     93  0.028918   \n",
      "1   Center  (2.97e-18, 1.15e-13]   800     714  0.149247     86  0.026741   \n",
      "2   Center  (1.15e-13, 1.69e-07]   800     564  0.117893    236  0.073383   \n",
      "3   Center  (1.69e-07, 2.81e-06]   800     461  0.096363    339  0.105410   \n",
      "4   Center   (2.81e-06, 1.4e-05]   800     444  0.092809    356  0.110697   \n",
      "5   Center   (1.4e-05, 6.39e-05]   800     451  0.094273    349  0.108520   \n",
      "6   Center  (6.39e-05, 0.000459]   800     434  0.090719    366  0.113806   \n",
      "7   Center    (0.000459, 0.0122]  2400    1009  0.210911   1391  0.432525   \n",
      "\n",
      "        WoE        IV  \n",
      "0  1.631293  0.193906  \n",
      "1  1.719397  0.210637  \n",
      "2  0.474084  0.021101  \n",
      "3 -0.089741  0.000812  \n",
      "4 -0.176245  0.003153  \n",
      "5 -0.140743  0.002005  \n",
      "6 -0.226727  0.005234  \n",
      "7 -0.718202  0.159163  \n",
      "--------------------------------------------------------------------------\n",
      "Information_Value de Donut es 0.456062\n",
      "  Variable            Frecuencia     N  Buenos  % Buenos  Malos   % Malos  \\\n",
      "0    Donut    (-0.001, 6.33e-22]   800     709  0.148202     91  0.028296   \n",
      "1    Donut  (6.33e-22, 4.36e-17]   800     695  0.145276    105  0.032649   \n",
      "2    Donut  (4.36e-17, 1.81e-11]   800     479  0.100125    321  0.099813   \n",
      "3    Donut  (1.81e-11, 3.34e-09]   800     350  0.073161    450  0.139925   \n",
      "4    Donut   (3.34e-09, 8.2e-08]   800     424  0.088629    376  0.116915   \n",
      "5    Donut   (8.2e-08, 6.38e-07]   800     412  0.086120    388  0.120647   \n",
      "6    Donut  (6.38e-07, 3.15e-06]   800     439  0.091764    361  0.112251   \n",
      "7    Donut  (3.15e-06, 1.78e-05]   800     420  0.087793    380  0.118159   \n",
      "8    Donut   (1.78e-05, 2.8e-05]  1600     856  0.178930    744  0.231343   \n",
      "\n",
      "        WoE            IV  \n",
      "0  1.655857  1.985478e-01  \n",
      "1  1.492813  1.681305e-01  \n",
      "2  0.003121  9.736463e-07  \n",
      "3 -0.648453  4.329387e-02  \n",
      "4 -0.276994  7.835245e-03  \n",
      "5 -0.337121  1.163955e-02  \n",
      "6 -0.201517  4.128489e-03  \n",
      "7 -0.297055  9.020545e-03  \n",
      "8 -0.256909  1.346552e-02  \n",
      "--------------------------------------------------------------------------\n",
      "Information_Value de Edge-Loc es 0.159304\n",
      "   Variable            Frecuencia    N  Buenos  % Buenos  Malos   % Malos  \\\n",
      "0  Edge-Loc    (-0.001, 3.84e-12]  800     669  0.139841    131  0.040734   \n",
      "1  Edge-Loc  (3.84e-12, 7.23e-10]  800     540  0.112876    260  0.080846   \n",
      "2  Edge-Loc   (7.23e-10, 3.8e-08]  800     460  0.096154    340  0.105721   \n",
      "3  Edge-Loc   (3.8e-08, 1.25e-06]  800     445  0.093018    355  0.110386   \n",
      "4  Edge-Loc  (1.25e-06, 3.22e-05]  800     459  0.095945    341  0.106032   \n",
      "5  Edge-Loc  (3.22e-05, 0.000853]  800     451  0.094273    349  0.108520   \n",
      "6  Edge-Loc     (0.000853, 0.126]  800     448  0.093645    352  0.109453   \n",
      "7  Edge-Loc        (0.126, 0.986]  800     465  0.097199    335  0.104167   \n",
      "8  Edge-Loc        (0.986, 0.999]  800     434  0.090719    366  0.113806   \n",
      "9  Edge-Loc          (0.999, 1.0]  800     413  0.086329    387  0.120336   \n",
      "\n",
      "        WoE        IV  \n",
      "0  1.233448  0.122244  \n",
      "1  0.333749  0.010690  \n",
      "2 -0.094858  0.000908  \n",
      "3 -0.171182  0.002973  \n",
      "4 -0.099971  0.001008  \n",
      "5 -0.140743  0.002005  \n",
      "6 -0.155977  0.002466  \n",
      "7 -0.069232  0.000482  \n",
      "8 -0.226727  0.005234  \n",
      "9 -0.332116  0.011294  \n",
      "--------------------------------------------------------------------------\n",
      "Information_Value de Edge-Ring es 0.671525\n",
      "    Variable                              Frecuencia     N  Buenos  % Buenos  \\\n",
      "0  Edge-Ring  (-9.999999996915259e-08, 1.827543e-09]   800     235  0.049122   \n",
      "1  Edge-Ring            (1.827543e-09, 2.395466e-07]   800     349  0.072952   \n",
      "2  Edge-Ring            (2.395466e-07, 5.292743e-06]   800     382  0.079849   \n",
      "3  Edge-Ring            (5.292743e-06, 3.665819e-05]   800     443  0.092600   \n",
      "4  Edge-Ring            (3.665819e-05, 0.0001768636]   800     428  0.089465   \n",
      "5  Edge-Ring             (0.0001768636, 0.001028707]   800     443  0.092600   \n",
      "6  Edge-Ring                (0.001028707, 0.5243436]   800     481  0.100543   \n",
      "7  Edge-Ring                  (0.5243436, 0.9999999]   802     619  0.129390   \n",
      "8  Edge-Ring                        (0.9999999, 1.0]  1598    1404  0.293478   \n",
      "\n",
      "   Malos   % Malos       WoE        IV  \n",
      "0    565  0.175684 -1.274379  0.161288  \n",
      "1    451  0.140236 -0.653534  0.043973  \n",
      "2    418  0.129975 -0.487199  0.024421  \n",
      "3    357  0.111007 -0.181305  0.003337  \n",
      "4    372  0.115672 -0.256909  0.006733  \n",
      "5    357  0.111007 -0.181305  0.003337  \n",
      "6    319  0.099192  0.013538  0.000018  \n",
      "7    183  0.056903  0.821480  0.059546  \n",
      "8    194  0.060323  1.582084  0.368871  \n",
      "--------------------------------------------------------------------------\n",
      "Information_Value de Loc es 0.457566\n",
      "  Variable            Frecuencia     N  Buenos  % Buenos  Malos   % Malos  \\\n",
      "0      Loc    (-0.001, 2.59e-20]   800     708  0.147993     92  0.028607   \n",
      "1      Loc  (2.59e-20, 2.19e-15]   800     700  0.146321    100  0.031095   \n",
      "2      Loc  (2.19e-15, 1.84e-09]   800     470  0.098244    330  0.102612   \n",
      "3      Loc  (1.84e-09, 2.59e-07]   800     400  0.083612    400  0.124378   \n",
      "4      Loc  (2.59e-07, 8.47e-06]   800     442  0.092391    358  0.111318   \n",
      "5      Loc  (8.47e-06, 9.06e-05]   800     429  0.089674    371  0.115361   \n",
      "6      Loc  (9.06e-05, 0.000665]   800     448  0.093645    352  0.109453   \n",
      "7      Loc   (0.000665, 0.00753]  2400    1187  0.248119   1213  0.377177   \n",
      "\n",
      "        WoE        IV  \n",
      "0  1.643517  0.196213  \n",
      "1  1.548771  0.178460  \n",
      "2 -0.043499  0.000190  \n",
      "3 -0.397139  0.016190  \n",
      "4 -0.186362  0.003527  \n",
      "5 -0.251884  0.006470  \n",
      "6 -0.155977  0.002466  \n",
      "7 -0.418806  0.054050  \n",
      "--------------------------------------------------------------------------\n",
      "Information_Value de Near-full es 0.486772\n",
      "    Variable                          Frecuencia     N  Buenos  % Buenos  \\\n",
      "0  Near-full    (-0.001, 1.1500000000000002e-25]   800     701  0.146530   \n",
      "1  Near-full  (1.1500000000000002e-25, 9.06e-20]   800     698  0.145903   \n",
      "2  Near-full                (9.06e-20, 4.67e-13]   800     500  0.104515   \n",
      "3  Near-full                 (4.67e-13, 2.1e-10]   800     316  0.066054   \n",
      "4  Near-full                 (2.1e-10, 1.17e-08]   800     369  0.077132   \n",
      "5  Near-full                (1.17e-08, 1.07e-07]   800     396  0.082776   \n",
      "6  Near-full                (1.07e-07, 6.82e-07]   800     423  0.088420   \n",
      "7  Near-full                (6.82e-07, 3.43e-06]   800     444  0.092809   \n",
      "8  Near-full                (3.43e-06, 6.03e-06]  1600     937  0.195861   \n",
      "\n",
      "   Malos   % Malos       WoE        IV  \n",
      "0     99  0.030784  1.560249  0.180593  \n",
      "1    102  0.031716  1.526108  0.174261  \n",
      "2    300  0.093284  0.113687  0.001277  \n",
      "3    484  0.150498 -0.823481  0.069538  \n",
      "4    431  0.134017 -0.552450  0.031426  \n",
      "5    404  0.125622 -0.417139  0.017873  \n",
      "6    377  0.117226 -0.282012  0.008124  \n",
      "7    356  0.110697 -0.176245  0.003153  \n",
      "8    663  0.206157 -0.051230  0.000527  \n",
      "--------------------------------------------------------------------------\n",
      "Information_Value de Random es 0.475507\n",
      "  Variable            Frecuencia     N  Buenos  % Buenos  Malos   % Malos  \\\n",
      "0   Random    (-0.001, 1.35e-19]   800     704  0.147157     96  0.029851   \n",
      "1   Random  (1.35e-19, 3.48e-15]   800     693  0.144858    107  0.033271   \n",
      "2   Random  (3.48e-15, 2.19e-10]   800     495  0.103470    305  0.094838   \n",
      "3   Random  (2.19e-10, 2.27e-08]   800     334  0.069816    466  0.144900   \n",
      "4   Random  (2.27e-08, 4.27e-07]   800     396  0.082776    404  0.125622   \n",
      "5   Random  (4.27e-07, 2.68e-06]   800     382  0.079849    418  0.129975   \n",
      "6   Random  (2.68e-06, 1.26e-05]   800     403  0.084239    397  0.123445   \n",
      "7   Random  (1.26e-05, 5.82e-05]   800     413  0.086329    387  0.120336   \n",
      "8   Random  (5.82e-05, 0.000107]  1600     964  0.201505    636  0.197761   \n",
      "\n",
      "        WoE        IV  \n",
      "0  1.595291  0.187138  \n",
      "1  1.471062  0.164151  \n",
      "2  0.087107  0.000752  \n",
      "3 -0.730183  0.054825  \n",
      "4 -0.417139  0.017873  \n",
      "5 -0.487199  0.024421  \n",
      "6 -0.382138  0.014982  \n",
      "7 -0.332116  0.011294  \n",
      "8  0.018754  0.000070  \n",
      "--------------------------------------------------------------------------\n",
      "Information_Value de Scratch es 0.462354\n",
      "  Variable            Frecuencia     N  Buenos  % Buenos  Malos   % Malos  \\\n",
      "0  Scratch    (-0.001, 4.15e-20]   800     708  0.147993     92  0.028607   \n",
      "1  Scratch  (4.15e-20, 1.37e-15]   800     694  0.145067    106  0.032960   \n",
      "2  Scratch  (1.37e-15, 2.73e-11]   800     429  0.089674    371  0.115361   \n",
      "3  Scratch  (2.73e-11, 7.81e-09]   800     356  0.074415    444  0.138060   \n",
      "4  Scratch   (7.81e-09, 3.2e-07]   800     423  0.088420    377  0.117226   \n",
      "5  Scratch   (3.2e-07, 3.38e-06]   800     415  0.086747    385  0.119714   \n",
      "6  Scratch  (3.38e-06, 2.13e-05]   800     399  0.083403    401  0.124689   \n",
      "7  Scratch  (2.13e-05, 0.000123]   800     394  0.082358    406  0.126244   \n",
      "8  Scratch  (0.000123, 0.000199]  1600     966  0.201923    634  0.197139   \n",
      "\n",
      "        WoE        IV  \n",
      "0  1.643517  0.196213  \n",
      "1  1.481894  0.166130  \n",
      "2 -0.251884  0.006470  \n",
      "3 -0.618032  0.039335  \n",
      "4 -0.282012  0.008124  \n",
      "5 -0.322103  0.010619  \n",
      "6 -0.402139  0.016603  \n",
      "7 -0.427141  0.018745  \n",
      "8  0.023976  0.000115  \n",
      "xxxxxxxxxxxxxxxxxxxxxxxxxxxxxxxxxxxxxxxxxxxxxxxxxxxxxxxxxxxxxxxxxxxxxxxxxx\n",
      "    Variable        IV\n",
      "0         X1  0.273023\n",
      "0         X2  0.320548\n",
      "0         X3  0.013415\n",
      "0         X4  0.818685\n",
      "0         X6  2.073265\n",
      "0         X7  1.302117\n",
      "0         X8  0.687566\n",
      "0         X9  0.840265\n",
      "0        X10  1.081644\n",
      "0        X11  1.351031\n",
      "0        X12  1.422406\n",
      "0        X13  0.829898\n",
      "0        X14  1.883874\n",
      "0        X15  1.621215\n",
      "0        X16  0.380962\n",
      "0    dieSize  0.432261\n",
      "0       Real  1.423261\n",
      "0     Center  0.596011\n",
      "0      Donut  0.456062\n",
      "0   Edge-Loc  0.159304\n",
      "0  Edge-Ring  0.671525\n",
      "0        Loc  0.457566\n",
      "0  Near-full  0.486772\n",
      "0     Random  0.475507\n",
      "0    Scratch  0.462354\n",
      "xxxxxxxxxxxxxxxxxxxxxxxxxxxxxxxxxxxxxxxxxxxxxxxxxxxxxxxxxxxxxxxxxxxxxxxxxx\n",
      "   Variable            Frecuencia     N  Buenos  % Buenos  Malos   % Malos  \\\n",
      "0        X1                  X1-1  4005    1899  0.396948   2106  0.654851   \n",
      "1        X1                  X1-2  3995    2885  0.603052   1110  0.345149   \n",
      "0        X2                  X2-1  1346    1167  0.243938    179  0.055659   \n",
      "1        X2                  X2-2  6302    3417  0.714256   2885  0.897077   \n",
      "2        X2                  X2-3   352     200  0.041806    152  0.047264   \n",
      "..      ...                   ...   ...     ...       ...    ...       ...   \n",
      "4   Scratch   (7.81e-09, 3.2e-07]   800     423  0.088420    377  0.117226   \n",
      "5   Scratch   (3.2e-07, 3.38e-06]   800     415  0.086747    385  0.119714   \n",
      "6   Scratch  (3.38e-06, 2.13e-05]   800     399  0.083403    401  0.124689   \n",
      "7   Scratch  (2.13e-05, 0.000123]   800     394  0.082358    406  0.126244   \n",
      "8   Scratch  (0.000123, 0.000199]  1600     966  0.201923    634  0.197139   \n",
      "\n",
      "         WoE        IV  \n",
      "0  -0.500602  0.129106  \n",
      "1   0.558026  0.143916  \n",
      "0   1.477667  0.278214  \n",
      "1  -0.227901  0.041665  \n",
      "2  -0.122702  0.000670  \n",
      "..       ...       ...  \n",
      "4  -0.282012  0.008124  \n",
      "5  -0.322103  0.010619  \n",
      "6  -0.402139  0.016603  \n",
      "7  -0.427141  0.018745  \n",
      "8   0.023976  0.000115  \n",
      "\n",
      "[188 rows x 9 columns]\n"
     ]
    }
   ],
   "source": [
    "# Evaluación de resultados\n",
    "iv, woe = iv_woe(data = data_2, target = 'Y', bins=10, show_woe = True)\n",
    "print('x'*74)\n",
    "print(iv)\n",
    "print('x'*74)\n",
    "print(woe)"
   ]
  },
  {
   "cell_type": "markdown",
   "metadata": {},
   "source": [
    "A partir de estos resultados identificamos los valores realmente relevantes:"
   ]
  },
  {
   "cell_type": "markdown",
   "metadata": {},
   "source": [
    "| Information Value | Poder predictivo   |\n",
    "|------|------|\n",
    "|  < 0,02  | inútil para la predicción |\n",
    "|   0,02 a 0,1  | Predictor débil |\n",
    "|   0,1 a 0,3  | Predictor medio |\n",
    "|   0,3 a 0,5  | Fuerte predictor |\n",
    "|   > 0,5 | Sospechoso o demasiado bueno para ser verdad |"
   ]
  },
  {
   "cell_type": "markdown",
   "metadata": {},
   "source": [
    "Las variable mencionadas arriba podrian tranquilamente eliminarse, sin emgargo, con un simple criterio humano y experiencia algunas variables se mantendran intangibles por la contribución inherente que estas conllevan tales como: 'Edge-Ring' y 'Center'."
   ]
  },
  {
   "cell_type": "markdown",
   "metadata": {},
   "source": [
    "## Mediante RFE, Random Forest, Chi-cuadrado"
   ]
  },
  {
   "cell_type": "markdown",
   "metadata": {},
   "source": [
    "Para comparar con otras transformaciones tales como Random_forest, eliminación recursiva entre otros, vamos utilizar un packete muy interesante implementado en python como es xverse https://pypi.org/project/xverse/"
   ]
  },
  {
   "cell_type": "code",
   "execution_count": 50,
   "metadata": {},
   "outputs": [
    {
     "name": "stderr",
     "output_type": "stream",
     "text": [
      "C:\\Users\\kaize.MSI\\anaconda3\\lib\\site-packages\\pandas\\core\\series.py:679: RuntimeWarning: divide by zero encountered in log\n",
      "  result = getattr(ufunc, method)(*inputs, **kwargs)\n",
      "C:\\Users\\kaize.MSI\\anaconda3\\lib\\site-packages\\sklearn\\utils\\validation.py:68: FutureWarning: Pass n_features_to_select=12 as keyword args. From version 0.25 passing these as positional arguments will result in an error\n",
      "  warnings.warn(\"Pass {} as keyword args. From version 0.25 \"\n",
      "C:\\Users\\kaize.MSI\\anaconda3\\lib\\site-packages\\sklearn\\linear_model\\_logistic.py:762: ConvergenceWarning: lbfgs failed to converge (status=1):\n",
      "STOP: TOTAL NO. of ITERATIONS REACHED LIMIT.\n",
      "\n",
      "Increase the number of iterations (max_iter) or scale the data as shown in:\n",
      "    https://scikit-learn.org/stable/modules/preprocessing.html\n",
      "Please also refer to the documentation for alternative solver options:\n",
      "    https://scikit-learn.org/stable/modules/linear_model.html#logistic-regression\n",
      "  n_iter_i = _check_optimize_result(\n",
      "C:\\Users\\kaize.MSI\\anaconda3\\lib\\site-packages\\sklearn\\linear_model\\_logistic.py:762: ConvergenceWarning: lbfgs failed to converge (status=1):\n",
      "STOP: TOTAL NO. of ITERATIONS REACHED LIMIT.\n",
      "\n",
      "Increase the number of iterations (max_iter) or scale the data as shown in:\n",
      "    https://scikit-learn.org/stable/modules/preprocessing.html\n",
      "Please also refer to the documentation for alternative solver options:\n",
      "    https://scikit-learn.org/stable/modules/linear_model.html#logistic-regression\n",
      "  n_iter_i = _check_optimize_result(\n",
      "C:\\Users\\kaize.MSI\\anaconda3\\lib\\site-packages\\sklearn\\linear_model\\_logistic.py:762: ConvergenceWarning: lbfgs failed to converge (status=1):\n",
      "STOP: TOTAL NO. of ITERATIONS REACHED LIMIT.\n",
      "\n",
      "Increase the number of iterations (max_iter) or scale the data as shown in:\n",
      "    https://scikit-learn.org/stable/modules/preprocessing.html\n",
      "Please also refer to the documentation for alternative solver options:\n",
      "    https://scikit-learn.org/stable/modules/linear_model.html#logistic-regression\n",
      "  n_iter_i = _check_optimize_result(\n",
      "C:\\Users\\kaize.MSI\\anaconda3\\lib\\site-packages\\sklearn\\linear_model\\_logistic.py:762: ConvergenceWarning: lbfgs failed to converge (status=1):\n",
      "STOP: TOTAL NO. of ITERATIONS REACHED LIMIT.\n",
      "\n",
      "Increase the number of iterations (max_iter) or scale the data as shown in:\n",
      "    https://scikit-learn.org/stable/modules/preprocessing.html\n",
      "Please also refer to the documentation for alternative solver options:\n",
      "    https://scikit-learn.org/stable/modules/linear_model.html#logistic-regression\n",
      "  n_iter_i = _check_optimize_result(\n",
      "C:\\Users\\kaize.MSI\\anaconda3\\lib\\site-packages\\sklearn\\linear_model\\_logistic.py:762: ConvergenceWarning: lbfgs failed to converge (status=1):\n",
      "STOP: TOTAL NO. of ITERATIONS REACHED LIMIT.\n",
      "\n",
      "Increase the number of iterations (max_iter) or scale the data as shown in:\n",
      "    https://scikit-learn.org/stable/modules/preprocessing.html\n",
      "Please also refer to the documentation for alternative solver options:\n",
      "    https://scikit-learn.org/stable/modules/linear_model.html#logistic-regression\n",
      "  n_iter_i = _check_optimize_result(\n",
      "C:\\Users\\kaize.MSI\\anaconda3\\lib\\site-packages\\sklearn\\linear_model\\_logistic.py:762: ConvergenceWarning: lbfgs failed to converge (status=1):\n",
      "STOP: TOTAL NO. of ITERATIONS REACHED LIMIT.\n",
      "\n",
      "Increase the number of iterations (max_iter) or scale the data as shown in:\n",
      "    https://scikit-learn.org/stable/modules/preprocessing.html\n",
      "Please also refer to the documentation for alternative solver options:\n",
      "    https://scikit-learn.org/stable/modules/linear_model.html#logistic-regression\n",
      "  n_iter_i = _check_optimize_result(\n",
      "C:\\Users\\kaize.MSI\\anaconda3\\lib\\site-packages\\sklearn\\linear_model\\_logistic.py:762: ConvergenceWarning: lbfgs failed to converge (status=1):\n",
      "STOP: TOTAL NO. of ITERATIONS REACHED LIMIT.\n",
      "\n",
      "Increase the number of iterations (max_iter) or scale the data as shown in:\n",
      "    https://scikit-learn.org/stable/modules/preprocessing.html\n",
      "Please also refer to the documentation for alternative solver options:\n",
      "    https://scikit-learn.org/stable/modules/linear_model.html#logistic-regression\n",
      "  n_iter_i = _check_optimize_result(\n",
      "C:\\Users\\kaize.MSI\\anaconda3\\lib\\site-packages\\sklearn\\linear_model\\_logistic.py:762: ConvergenceWarning: lbfgs failed to converge (status=1):\n",
      "STOP: TOTAL NO. of ITERATIONS REACHED LIMIT.\n",
      "\n",
      "Increase the number of iterations (max_iter) or scale the data as shown in:\n",
      "    https://scikit-learn.org/stable/modules/preprocessing.html\n",
      "Please also refer to the documentation for alternative solver options:\n",
      "    https://scikit-learn.org/stable/modules/linear_model.html#logistic-regression\n",
      "  n_iter_i = _check_optimize_result(\n",
      "C:\\Users\\kaize.MSI\\anaconda3\\lib\\site-packages\\sklearn\\linear_model\\_logistic.py:762: ConvergenceWarning: lbfgs failed to converge (status=1):\n",
      "STOP: TOTAL NO. of ITERATIONS REACHED LIMIT.\n",
      "\n",
      "Increase the number of iterations (max_iter) or scale the data as shown in:\n",
      "    https://scikit-learn.org/stable/modules/preprocessing.html\n",
      "Please also refer to the documentation for alternative solver options:\n",
      "    https://scikit-learn.org/stable/modules/linear_model.html#logistic-regression\n",
      "  n_iter_i = _check_optimize_result(\n",
      "C:\\Users\\kaize.MSI\\anaconda3\\lib\\site-packages\\sklearn\\linear_model\\_logistic.py:762: ConvergenceWarning: lbfgs failed to converge (status=1):\n",
      "STOP: TOTAL NO. of ITERATIONS REACHED LIMIT.\n",
      "\n",
      "Increase the number of iterations (max_iter) or scale the data as shown in:\n",
      "    https://scikit-learn.org/stable/modules/preprocessing.html\n",
      "Please also refer to the documentation for alternative solver options:\n",
      "    https://scikit-learn.org/stable/modules/linear_model.html#logistic-regression\n",
      "  n_iter_i = _check_optimize_result(\n",
      "C:\\Users\\kaize.MSI\\anaconda3\\lib\\site-packages\\sklearn\\linear_model\\_logistic.py:762: ConvergenceWarning: lbfgs failed to converge (status=1):\n",
      "STOP: TOTAL NO. of ITERATIONS REACHED LIMIT.\n",
      "\n",
      "Increase the number of iterations (max_iter) or scale the data as shown in:\n",
      "    https://scikit-learn.org/stable/modules/preprocessing.html\n",
      "Please also refer to the documentation for alternative solver options:\n",
      "    https://scikit-learn.org/stable/modules/linear_model.html#logistic-regression\n",
      "  n_iter_i = _check_optimize_result(\n",
      "C:\\Users\\kaize.MSI\\anaconda3\\lib\\site-packages\\sklearn\\linear_model\\_logistic.py:762: ConvergenceWarning: lbfgs failed to converge (status=1):\n",
      "STOP: TOTAL NO. of ITERATIONS REACHED LIMIT.\n",
      "\n",
      "Increase the number of iterations (max_iter) or scale the data as shown in:\n",
      "    https://scikit-learn.org/stable/modules/preprocessing.html\n",
      "Please also refer to the documentation for alternative solver options:\n",
      "    https://scikit-learn.org/stable/modules/linear_model.html#logistic-regression\n",
      "  n_iter_i = _check_optimize_result(\n",
      "C:\\Users\\kaize.MSI\\anaconda3\\lib\\site-packages\\sklearn\\linear_model\\_logistic.py:762: ConvergenceWarning: lbfgs failed to converge (status=1):\n",
      "STOP: TOTAL NO. of ITERATIONS REACHED LIMIT.\n",
      "\n",
      "Increase the number of iterations (max_iter) or scale the data as shown in:\n",
      "    https://scikit-learn.org/stable/modules/preprocessing.html\n",
      "Please also refer to the documentation for alternative solver options:\n",
      "    https://scikit-learn.org/stable/modules/linear_model.html#logistic-regression\n",
      "  n_iter_i = _check_optimize_result(\n",
      "C:\\Users\\kaize.MSI\\anaconda3\\lib\\site-packages\\sklearn\\linear_model\\_logistic.py:762: ConvergenceWarning: lbfgs failed to converge (status=1):\n",
      "STOP: TOTAL NO. of ITERATIONS REACHED LIMIT.\n",
      "\n",
      "Increase the number of iterations (max_iter) or scale the data as shown in:\n",
      "    https://scikit-learn.org/stable/modules/preprocessing.html\n",
      "Please also refer to the documentation for alternative solver options:\n",
      "    https://scikit-learn.org/stable/modules/linear_model.html#logistic-regression\n",
      "  n_iter_i = _check_optimize_result(\n",
      "C:\\Users\\kaize.MSI\\anaconda3\\lib\\site-packages\\sklearn\\svm\\_base.py:976: ConvergenceWarning: Liblinear failed to converge, increase the number of iterations.\n",
      "  warnings.warn(\"Liblinear failed to converge, increase \"\n"
     ]
    },
    {
     "data": {
      "text/plain": [
       "VotingSelector(no_of_features=12,\n",
       "               selection_techniques=['WOE', 'RF', 'RFE', 'ETC', 'CS', 'L_ONE'])"
      ]
     },
     "execution_count": 50,
     "metadata": {},
     "output_type": "execute_result"
    }
   ],
   "source": [
    "from xverse.ensemble import VotingSelector\n",
    "clf = VotingSelector()\n",
    "clf.fit(data_2.drop(columns=['Y']), data_2['Y'])"
   ]
  },
  {
   "cell_type": "markdown",
   "metadata": {},
   "source": [
    "Ahora verificamos las caracterisiticas importantes para análisis"
   ]
  },
  {
   "cell_type": "code",
   "execution_count": 51,
   "metadata": {},
   "outputs": [
    {
     "data": {
      "text/html": [
       "<div>\n",
       "<style scoped>\n",
       "    .dataframe tbody tr th:only-of-type {\n",
       "        vertical-align: middle;\n",
       "    }\n",
       "\n",
       "    .dataframe tbody tr th {\n",
       "        vertical-align: top;\n",
       "    }\n",
       "\n",
       "    .dataframe thead th {\n",
       "        text-align: right;\n",
       "    }\n",
       "</style>\n",
       "<table border=\"1\" class=\"dataframe\">\n",
       "  <thead>\n",
       "    <tr style=\"text-align: right;\">\n",
       "      <th></th>\n",
       "      <th>Variable_Name</th>\n",
       "      <th>Information_Value</th>\n",
       "      <th>Random_Forest</th>\n",
       "      <th>Recursive_Feature_Elimination</th>\n",
       "      <th>Extra_Trees</th>\n",
       "      <th>Chi_Square</th>\n",
       "      <th>L_One</th>\n",
       "    </tr>\n",
       "  </thead>\n",
       "  <tbody>\n",
       "    <tr>\n",
       "      <th>0</th>\n",
       "      <td>X6</td>\n",
       "      <td>1.357577</td>\n",
       "      <td>0.098859</td>\n",
       "      <td>4.840418</td>\n",
       "      <td>0.089341</td>\n",
       "      <td>270.883483</td>\n",
       "      <td>0.364056</td>\n",
       "    </tr>\n",
       "    <tr>\n",
       "      <th>1</th>\n",
       "      <td>X15</td>\n",
       "      <td>1.290650</td>\n",
       "      <td>0.108262</td>\n",
       "      <td>0.000000</td>\n",
       "      <td>0.096348</td>\n",
       "      <td>228.129763</td>\n",
       "      <td>0.003690</td>\n",
       "    </tr>\n",
       "    <tr>\n",
       "      <th>2</th>\n",
       "      <td>X12</td>\n",
       "      <td>1.138031</td>\n",
       "      <td>0.025089</td>\n",
       "      <td>5.948022</td>\n",
       "      <td>0.050053</td>\n",
       "      <td>111.716163</td>\n",
       "      <td>0.000000</td>\n",
       "    </tr>\n",
       "    <tr>\n",
       "      <th>3</th>\n",
       "      <td>X14</td>\n",
       "      <td>1.031186</td>\n",
       "      <td>0.051230</td>\n",
       "      <td>0.000000</td>\n",
       "      <td>0.061147</td>\n",
       "      <td>488.036145</td>\n",
       "      <td>0.000047</td>\n",
       "    </tr>\n",
       "    <tr>\n",
       "      <th>4</th>\n",
       "      <td>X11</td>\n",
       "      <td>0.944744</td>\n",
       "      <td>0.048545</td>\n",
       "      <td>0.256102</td>\n",
       "      <td>0.046859</td>\n",
       "      <td>256.416408</td>\n",
       "      <td>0.038715</td>\n",
       "    </tr>\n",
       "    <tr>\n",
       "      <th>5</th>\n",
       "      <td>X13</td>\n",
       "      <td>0.812123</td>\n",
       "      <td>0.081825</td>\n",
       "      <td>0.000000</td>\n",
       "      <td>0.066599</td>\n",
       "      <td>148.476786</td>\n",
       "      <td>0.005791</td>\n",
       "    </tr>\n",
       "    <tr>\n",
       "      <th>6</th>\n",
       "      <td>Real</td>\n",
       "      <td>0.770717</td>\n",
       "      <td>0.111897</td>\n",
       "      <td>1.349613</td>\n",
       "      <td>0.088870</td>\n",
       "      <td>397.737288</td>\n",
       "      <td>0.290998</td>\n",
       "    </tr>\n",
       "    <tr>\n",
       "      <th>7</th>\n",
       "      <td>X9</td>\n",
       "      <td>0.757490</td>\n",
       "      <td>0.013153</td>\n",
       "      <td>0.000000</td>\n",
       "      <td>0.026726</td>\n",
       "      <td>76.683914</td>\n",
       "      <td>0.003160</td>\n",
       "    </tr>\n",
       "    <tr>\n",
       "      <th>8</th>\n",
       "      <td>X4</td>\n",
       "      <td>0.719458</td>\n",
       "      <td>0.044180</td>\n",
       "      <td>1.070691</td>\n",
       "      <td>0.025177</td>\n",
       "      <td>104.501908</td>\n",
       "      <td>0.355089</td>\n",
       "    </tr>\n",
       "    <tr>\n",
       "      <th>9</th>\n",
       "      <td>X7</td>\n",
       "      <td>0.630480</td>\n",
       "      <td>0.034950</td>\n",
       "      <td>0.000000</td>\n",
       "      <td>0.015635</td>\n",
       "      <td>28.403422</td>\n",
       "      <td>-0.003428</td>\n",
       "    </tr>\n",
       "    <tr>\n",
       "      <th>10</th>\n",
       "      <td>X10</td>\n",
       "      <td>0.538633</td>\n",
       "      <td>0.035731</td>\n",
       "      <td>-0.281916</td>\n",
       "      <td>0.037677</td>\n",
       "      <td>169.847254</td>\n",
       "      <td>0.028672</td>\n",
       "    </tr>\n",
       "    <tr>\n",
       "      <th>11</th>\n",
       "      <td>Edge-Ring</td>\n",
       "      <td>0.528251</td>\n",
       "      <td>0.062737</td>\n",
       "      <td>-1.881008</td>\n",
       "      <td>0.037795</td>\n",
       "      <td>596.289797</td>\n",
       "      <td>-0.242393</td>\n",
       "    </tr>\n",
       "    <tr>\n",
       "      <th>12</th>\n",
       "      <td>Center</td>\n",
       "      <td>0.440742</td>\n",
       "      <td>0.160650</td>\n",
       "      <td>0.000000</td>\n",
       "      <td>0.175424</td>\n",
       "      <td>350.794831</td>\n",
       "      <td>0.000000</td>\n",
       "    </tr>\n",
       "    <tr>\n",
       "      <th>13</th>\n",
       "      <td>X16</td>\n",
       "      <td>0.380962</td>\n",
       "      <td>0.007879</td>\n",
       "      <td>-3.267086</td>\n",
       "      <td>0.015815</td>\n",
       "      <td>21.021684</td>\n",
       "      <td>-1.318194</td>\n",
       "    </tr>\n",
       "    <tr>\n",
       "      <th>14</th>\n",
       "      <td>X2</td>\n",
       "      <td>0.320548</td>\n",
       "      <td>0.008750</td>\n",
       "      <td>1.221464</td>\n",
       "      <td>0.020681</td>\n",
       "      <td>397.339607</td>\n",
       "      <td>0.311541</td>\n",
       "    </tr>\n",
       "    <tr>\n",
       "      <th>15</th>\n",
       "      <td>X1</td>\n",
       "      <td>0.273023</td>\n",
       "      <td>0.010641</td>\n",
       "      <td>-3.924558</td>\n",
       "      <td>0.036361</td>\n",
       "      <td>256.154400</td>\n",
       "      <td>-0.797425</td>\n",
       "    </tr>\n",
       "    <tr>\n",
       "      <th>16</th>\n",
       "      <td>X8</td>\n",
       "      <td>0.267517</td>\n",
       "      <td>0.012568</td>\n",
       "      <td>0.000000</td>\n",
       "      <td>0.016304</td>\n",
       "      <td>51.056799</td>\n",
       "      <td>0.002111</td>\n",
       "    </tr>\n",
       "    <tr>\n",
       "      <th>17</th>\n",
       "      <td>Near-full</td>\n",
       "      <td>0.235561</td>\n",
       "      <td>0.001331</td>\n",
       "      <td>0.000000</td>\n",
       "      <td>0.006336</td>\n",
       "      <td>2.238279</td>\n",
       "      <td>0.000000</td>\n",
       "    </tr>\n",
       "    <tr>\n",
       "      <th>18</th>\n",
       "      <td>Random</td>\n",
       "      <td>0.233621</td>\n",
       "      <td>0.002910</td>\n",
       "      <td>0.000000</td>\n",
       "      <td>0.007497</td>\n",
       "      <td>0.151012</td>\n",
       "      <td>0.000000</td>\n",
       "    </tr>\n",
       "    <tr>\n",
       "      <th>19</th>\n",
       "      <td>Loc</td>\n",
       "      <td>0.219540</td>\n",
       "      <td>0.010266</td>\n",
       "      <td>0.000000</td>\n",
       "      <td>0.015329</td>\n",
       "      <td>114.403458</td>\n",
       "      <td>0.000000</td>\n",
       "    </tr>\n",
       "    <tr>\n",
       "      <th>20</th>\n",
       "      <td>Donut</td>\n",
       "      <td>0.203335</td>\n",
       "      <td>0.005278</td>\n",
       "      <td>0.000000</td>\n",
       "      <td>0.009734</td>\n",
       "      <td>32.777136</td>\n",
       "      <td>0.000000</td>\n",
       "    </tr>\n",
       "    <tr>\n",
       "      <th>21</th>\n",
       "      <td>dieSize</td>\n",
       "      <td>0.191756</td>\n",
       "      <td>0.032753</td>\n",
       "      <td>0.000000</td>\n",
       "      <td>0.010778</td>\n",
       "      <td>82.778727</td>\n",
       "      <td>0.000019</td>\n",
       "    </tr>\n",
       "    <tr>\n",
       "      <th>22</th>\n",
       "      <td>Scratch</td>\n",
       "      <td>0.167095</td>\n",
       "      <td>0.009619</td>\n",
       "      <td>0.000000</td>\n",
       "      <td>0.010622</td>\n",
       "      <td>0.298397</td>\n",
       "      <td>0.000000</td>\n",
       "    </tr>\n",
       "    <tr>\n",
       "      <th>23</th>\n",
       "      <td>Edge-Loc</td>\n",
       "      <td>0.060765</td>\n",
       "      <td>0.017080</td>\n",
       "      <td>-1.216565</td>\n",
       "      <td>0.025410</td>\n",
       "      <td>24.629645</td>\n",
       "      <td>-0.210743</td>\n",
       "    </tr>\n",
       "    <tr>\n",
       "      <th>24</th>\n",
       "      <td>X3</td>\n",
       "      <td>0.013190</td>\n",
       "      <td>0.003820</td>\n",
       "      <td>3.279772</td>\n",
       "      <td>0.007485</td>\n",
       "      <td>1.359652</td>\n",
       "      <td>0.000000</td>\n",
       "    </tr>\n",
       "  </tbody>\n",
       "</table>\n",
       "</div>"
      ],
      "text/plain": [
       "   Variable_Name  Information_Value  Random_Forest  \\\n",
       "0             X6           1.357577       0.098859   \n",
       "1            X15           1.290650       0.108262   \n",
       "2            X12           1.138031       0.025089   \n",
       "3            X14           1.031186       0.051230   \n",
       "4            X11           0.944744       0.048545   \n",
       "5            X13           0.812123       0.081825   \n",
       "6           Real           0.770717       0.111897   \n",
       "7             X9           0.757490       0.013153   \n",
       "8             X4           0.719458       0.044180   \n",
       "9             X7           0.630480       0.034950   \n",
       "10           X10           0.538633       0.035731   \n",
       "11     Edge-Ring           0.528251       0.062737   \n",
       "12        Center           0.440742       0.160650   \n",
       "13           X16           0.380962       0.007879   \n",
       "14            X2           0.320548       0.008750   \n",
       "15            X1           0.273023       0.010641   \n",
       "16            X8           0.267517       0.012568   \n",
       "17     Near-full           0.235561       0.001331   \n",
       "18        Random           0.233621       0.002910   \n",
       "19           Loc           0.219540       0.010266   \n",
       "20         Donut           0.203335       0.005278   \n",
       "21       dieSize           0.191756       0.032753   \n",
       "22       Scratch           0.167095       0.009619   \n",
       "23      Edge-Loc           0.060765       0.017080   \n",
       "24            X3           0.013190       0.003820   \n",
       "\n",
       "    Recursive_Feature_Elimination  Extra_Trees  Chi_Square     L_One  \n",
       "0                        4.840418     0.089341  270.883483  0.364056  \n",
       "1                        0.000000     0.096348  228.129763  0.003690  \n",
       "2                        5.948022     0.050053  111.716163  0.000000  \n",
       "3                        0.000000     0.061147  488.036145  0.000047  \n",
       "4                        0.256102     0.046859  256.416408  0.038715  \n",
       "5                        0.000000     0.066599  148.476786  0.005791  \n",
       "6                        1.349613     0.088870  397.737288  0.290998  \n",
       "7                        0.000000     0.026726   76.683914  0.003160  \n",
       "8                        1.070691     0.025177  104.501908  0.355089  \n",
       "9                        0.000000     0.015635   28.403422 -0.003428  \n",
       "10                      -0.281916     0.037677  169.847254  0.028672  \n",
       "11                      -1.881008     0.037795  596.289797 -0.242393  \n",
       "12                       0.000000     0.175424  350.794831  0.000000  \n",
       "13                      -3.267086     0.015815   21.021684 -1.318194  \n",
       "14                       1.221464     0.020681  397.339607  0.311541  \n",
       "15                      -3.924558     0.036361  256.154400 -0.797425  \n",
       "16                       0.000000     0.016304   51.056799  0.002111  \n",
       "17                       0.000000     0.006336    2.238279  0.000000  \n",
       "18                       0.000000     0.007497    0.151012  0.000000  \n",
       "19                       0.000000     0.015329  114.403458  0.000000  \n",
       "20                       0.000000     0.009734   32.777136  0.000000  \n",
       "21                       0.000000     0.010778   82.778727  0.000019  \n",
       "22                       0.000000     0.010622    0.298397  0.000000  \n",
       "23                      -1.216565     0.025410   24.629645 -0.210743  \n",
       "24                       3.279772     0.007485    1.359652  0.000000  "
      ]
     },
     "execution_count": 51,
     "metadata": {},
     "output_type": "execute_result"
    }
   ],
   "source": [
    "clf.feature_importances_"
   ]
  },
  {
   "cell_type": "markdown",
   "metadata": {},
   "source": [
    "en IV no coincidiran algunos valores uno es tipo itearativo y el otro por frecuencias pero son similares"
   ]
  },
  {
   "cell_type": "markdown",
   "metadata": {},
   "source": [
    "Aplicamos un resumen de conversión para ver en que caracteristias fallan las variables."
   ]
  },
  {
   "cell_type": "code",
   "execution_count": 52,
   "metadata": {},
   "outputs": [
    {
     "data": {
      "text/html": [
       "<div>\n",
       "<style scoped>\n",
       "    .dataframe tbody tr th:only-of-type {\n",
       "        vertical-align: middle;\n",
       "    }\n",
       "\n",
       "    .dataframe tbody tr th {\n",
       "        vertical-align: top;\n",
       "    }\n",
       "\n",
       "    .dataframe thead th {\n",
       "        text-align: right;\n",
       "    }\n",
       "</style>\n",
       "<table border=\"1\" class=\"dataframe\">\n",
       "  <thead>\n",
       "    <tr style=\"text-align: right;\">\n",
       "      <th></th>\n",
       "      <th>Variable_Name</th>\n",
       "      <th>Information_Value</th>\n",
       "      <th>Random_Forest</th>\n",
       "      <th>Recursive_Feature_Elimination</th>\n",
       "      <th>Extra_Trees</th>\n",
       "      <th>Chi_Square</th>\n",
       "      <th>L_One</th>\n",
       "      <th>Votes</th>\n",
       "    </tr>\n",
       "  </thead>\n",
       "  <tbody>\n",
       "    <tr>\n",
       "      <th>0</th>\n",
       "      <td>X6</td>\n",
       "      <td>1</td>\n",
       "      <td>1</td>\n",
       "      <td>1</td>\n",
       "      <td>1</td>\n",
       "      <td>1</td>\n",
       "      <td>1</td>\n",
       "      <td>6</td>\n",
       "    </tr>\n",
       "    <tr>\n",
       "      <th>11</th>\n",
       "      <td>Edge-Ring</td>\n",
       "      <td>1</td>\n",
       "      <td>1</td>\n",
       "      <td>1</td>\n",
       "      <td>1</td>\n",
       "      <td>1</td>\n",
       "      <td>1</td>\n",
       "      <td>6</td>\n",
       "    </tr>\n",
       "    <tr>\n",
       "      <th>4</th>\n",
       "      <td>X11</td>\n",
       "      <td>1</td>\n",
       "      <td>1</td>\n",
       "      <td>1</td>\n",
       "      <td>1</td>\n",
       "      <td>1</td>\n",
       "      <td>1</td>\n",
       "      <td>6</td>\n",
       "    </tr>\n",
       "    <tr>\n",
       "      <th>6</th>\n",
       "      <td>Real</td>\n",
       "      <td>1</td>\n",
       "      <td>1</td>\n",
       "      <td>1</td>\n",
       "      <td>1</td>\n",
       "      <td>1</td>\n",
       "      <td>1</td>\n",
       "      <td>6</td>\n",
       "    </tr>\n",
       "    <tr>\n",
       "      <th>10</th>\n",
       "      <td>X10</td>\n",
       "      <td>1</td>\n",
       "      <td>1</td>\n",
       "      <td>1</td>\n",
       "      <td>1</td>\n",
       "      <td>1</td>\n",
       "      <td>1</td>\n",
       "      <td>6</td>\n",
       "    </tr>\n",
       "    <tr>\n",
       "      <th>5</th>\n",
       "      <td>X13</td>\n",
       "      <td>1</td>\n",
       "      <td>1</td>\n",
       "      <td>0</td>\n",
       "      <td>1</td>\n",
       "      <td>1</td>\n",
       "      <td>1</td>\n",
       "      <td>5</td>\n",
       "    </tr>\n",
       "    <tr>\n",
       "      <th>1</th>\n",
       "      <td>X15</td>\n",
       "      <td>1</td>\n",
       "      <td>1</td>\n",
       "      <td>0</td>\n",
       "      <td>1</td>\n",
       "      <td>1</td>\n",
       "      <td>1</td>\n",
       "      <td>5</td>\n",
       "    </tr>\n",
       "    <tr>\n",
       "      <th>15</th>\n",
       "      <td>X1</td>\n",
       "      <td>0</td>\n",
       "      <td>0</td>\n",
       "      <td>1</td>\n",
       "      <td>1</td>\n",
       "      <td>1</td>\n",
       "      <td>1</td>\n",
       "      <td>4</td>\n",
       "    </tr>\n",
       "    <tr>\n",
       "      <th>3</th>\n",
       "      <td>X14</td>\n",
       "      <td>1</td>\n",
       "      <td>1</td>\n",
       "      <td>0</td>\n",
       "      <td>1</td>\n",
       "      <td>1</td>\n",
       "      <td>0</td>\n",
       "      <td>4</td>\n",
       "    </tr>\n",
       "    <tr>\n",
       "      <th>8</th>\n",
       "      <td>X4</td>\n",
       "      <td>1</td>\n",
       "      <td>1</td>\n",
       "      <td>1</td>\n",
       "      <td>0</td>\n",
       "      <td>0</td>\n",
       "      <td>1</td>\n",
       "      <td>4</td>\n",
       "    </tr>\n",
       "    <tr>\n",
       "      <th>14</th>\n",
       "      <td>X2</td>\n",
       "      <td>0</td>\n",
       "      <td>0</td>\n",
       "      <td>1</td>\n",
       "      <td>0</td>\n",
       "      <td>1</td>\n",
       "      <td>1</td>\n",
       "      <td>3</td>\n",
       "    </tr>\n",
       "    <tr>\n",
       "      <th>12</th>\n",
       "      <td>Center</td>\n",
       "      <td>0</td>\n",
       "      <td>1</td>\n",
       "      <td>0</td>\n",
       "      <td>1</td>\n",
       "      <td>1</td>\n",
       "      <td>0</td>\n",
       "      <td>3</td>\n",
       "    </tr>\n",
       "    <tr>\n",
       "      <th>2</th>\n",
       "      <td>X12</td>\n",
       "      <td>1</td>\n",
       "      <td>0</td>\n",
       "      <td>1</td>\n",
       "      <td>1</td>\n",
       "      <td>0</td>\n",
       "      <td>0</td>\n",
       "      <td>3</td>\n",
       "    </tr>\n",
       "    <tr>\n",
       "      <th>9</th>\n",
       "      <td>X7</td>\n",
       "      <td>1</td>\n",
       "      <td>1</td>\n",
       "      <td>0</td>\n",
       "      <td>0</td>\n",
       "      <td>0</td>\n",
       "      <td>0</td>\n",
       "      <td>2</td>\n",
       "    </tr>\n",
       "    <tr>\n",
       "      <th>13</th>\n",
       "      <td>X16</td>\n",
       "      <td>0</td>\n",
       "      <td>0</td>\n",
       "      <td>1</td>\n",
       "      <td>0</td>\n",
       "      <td>0</td>\n",
       "      <td>1</td>\n",
       "      <td>2</td>\n",
       "    </tr>\n",
       "    <tr>\n",
       "      <th>7</th>\n",
       "      <td>X9</td>\n",
       "      <td>1</td>\n",
       "      <td>0</td>\n",
       "      <td>0</td>\n",
       "      <td>1</td>\n",
       "      <td>0</td>\n",
       "      <td>0</td>\n",
       "      <td>2</td>\n",
       "    </tr>\n",
       "    <tr>\n",
       "      <th>23</th>\n",
       "      <td>Edge-Loc</td>\n",
       "      <td>0</td>\n",
       "      <td>0</td>\n",
       "      <td>1</td>\n",
       "      <td>0</td>\n",
       "      <td>0</td>\n",
       "      <td>1</td>\n",
       "      <td>2</td>\n",
       "    </tr>\n",
       "    <tr>\n",
       "      <th>19</th>\n",
       "      <td>Loc</td>\n",
       "      <td>0</td>\n",
       "      <td>0</td>\n",
       "      <td>0</td>\n",
       "      <td>0</td>\n",
       "      <td>1</td>\n",
       "      <td>0</td>\n",
       "      <td>1</td>\n",
       "    </tr>\n",
       "    <tr>\n",
       "      <th>21</th>\n",
       "      <td>dieSize</td>\n",
       "      <td>0</td>\n",
       "      <td>1</td>\n",
       "      <td>0</td>\n",
       "      <td>0</td>\n",
       "      <td>0</td>\n",
       "      <td>0</td>\n",
       "      <td>1</td>\n",
       "    </tr>\n",
       "    <tr>\n",
       "      <th>24</th>\n",
       "      <td>X3</td>\n",
       "      <td>0</td>\n",
       "      <td>0</td>\n",
       "      <td>1</td>\n",
       "      <td>0</td>\n",
       "      <td>0</td>\n",
       "      <td>0</td>\n",
       "      <td>1</td>\n",
       "    </tr>\n",
       "    <tr>\n",
       "      <th>16</th>\n",
       "      <td>X8</td>\n",
       "      <td>0</td>\n",
       "      <td>0</td>\n",
       "      <td>0</td>\n",
       "      <td>0</td>\n",
       "      <td>0</td>\n",
       "      <td>0</td>\n",
       "      <td>0</td>\n",
       "    </tr>\n",
       "    <tr>\n",
       "      <th>17</th>\n",
       "      <td>Near-full</td>\n",
       "      <td>0</td>\n",
       "      <td>0</td>\n",
       "      <td>0</td>\n",
       "      <td>0</td>\n",
       "      <td>0</td>\n",
       "      <td>0</td>\n",
       "      <td>0</td>\n",
       "    </tr>\n",
       "    <tr>\n",
       "      <th>18</th>\n",
       "      <td>Random</td>\n",
       "      <td>0</td>\n",
       "      <td>0</td>\n",
       "      <td>0</td>\n",
       "      <td>0</td>\n",
       "      <td>0</td>\n",
       "      <td>0</td>\n",
       "      <td>0</td>\n",
       "    </tr>\n",
       "    <tr>\n",
       "      <th>20</th>\n",
       "      <td>Donut</td>\n",
       "      <td>0</td>\n",
       "      <td>0</td>\n",
       "      <td>0</td>\n",
       "      <td>0</td>\n",
       "      <td>0</td>\n",
       "      <td>0</td>\n",
       "      <td>0</td>\n",
       "    </tr>\n",
       "    <tr>\n",
       "      <th>22</th>\n",
       "      <td>Scratch</td>\n",
       "      <td>0</td>\n",
       "      <td>0</td>\n",
       "      <td>0</td>\n",
       "      <td>0</td>\n",
       "      <td>0</td>\n",
       "      <td>0</td>\n",
       "      <td>0</td>\n",
       "    </tr>\n",
       "  </tbody>\n",
       "</table>\n",
       "</div>"
      ],
      "text/plain": [
       "   Variable_Name  Information_Value  Random_Forest  \\\n",
       "0             X6                  1              1   \n",
       "11     Edge-Ring                  1              1   \n",
       "4            X11                  1              1   \n",
       "6           Real                  1              1   \n",
       "10           X10                  1              1   \n",
       "5            X13                  1              1   \n",
       "1            X15                  1              1   \n",
       "15            X1                  0              0   \n",
       "3            X14                  1              1   \n",
       "8             X4                  1              1   \n",
       "14            X2                  0              0   \n",
       "12        Center                  0              1   \n",
       "2            X12                  1              0   \n",
       "9             X7                  1              1   \n",
       "13           X16                  0              0   \n",
       "7             X9                  1              0   \n",
       "23      Edge-Loc                  0              0   \n",
       "19           Loc                  0              0   \n",
       "21       dieSize                  0              1   \n",
       "24            X3                  0              0   \n",
       "16            X8                  0              0   \n",
       "17     Near-full                  0              0   \n",
       "18        Random                  0              0   \n",
       "20         Donut                  0              0   \n",
       "22       Scratch                  0              0   \n",
       "\n",
       "    Recursive_Feature_Elimination  Extra_Trees  Chi_Square  L_One  Votes  \n",
       "0                               1            1           1      1      6  \n",
       "11                              1            1           1      1      6  \n",
       "4                               1            1           1      1      6  \n",
       "6                               1            1           1      1      6  \n",
       "10                              1            1           1      1      6  \n",
       "5                               0            1           1      1      5  \n",
       "1                               0            1           1      1      5  \n",
       "15                              1            1           1      1      4  \n",
       "3                               0            1           1      0      4  \n",
       "8                               1            0           0      1      4  \n",
       "14                              1            0           1      1      3  \n",
       "12                              0            1           1      0      3  \n",
       "2                               1            1           0      0      3  \n",
       "9                               0            0           0      0      2  \n",
       "13                              1            0           0      1      2  \n",
       "7                               0            1           0      0      2  \n",
       "23                              1            0           0      1      2  \n",
       "19                              0            0           1      0      1  \n",
       "21                              0            0           0      0      1  \n",
       "24                              1            0           0      0      1  \n",
       "16                              0            0           0      0      0  \n",
       "17                              0            0           0      0      0  \n",
       "18                              0            0           0      0      0  \n",
       "20                              0            0           0      0      0  \n",
       "22                              0            0           0      0      0  "
      ]
     },
     "execution_count": 52,
     "metadata": {},
     "output_type": "execute_result"
    }
   ],
   "source": [
    "clf.feature_votes_"
   ]
  },
  {
   "cell_type": "markdown",
   "metadata": {},
   "source": [
    "Deacuerdo ocn la columna 'Votes' uno puede seleccionar cual es la variable que no va contribuir al analisi, donde el criterio para descartar la variable seria >=4 votes."
   ]
  },
  {
   "cell_type": "markdown",
   "metadata": {},
   "source": [
    "Reemplazando los valores tratados"
   ]
  },
  {
   "cell_type": "code",
   "execution_count": 53,
   "metadata": {},
   "outputs": [
    {
     "data": {
      "text/html": [
       "<div>\n",
       "<style scoped>\n",
       "    .dataframe tbody tr th:only-of-type {\n",
       "        vertical-align: middle;\n",
       "    }\n",
       "\n",
       "    .dataframe tbody tr th {\n",
       "        vertical-align: top;\n",
       "    }\n",
       "\n",
       "    .dataframe thead th {\n",
       "        text-align: right;\n",
       "    }\n",
       "</style>\n",
       "<table border=\"1\" class=\"dataframe\">\n",
       "  <thead>\n",
       "    <tr style=\"text-align: right;\">\n",
       "      <th></th>\n",
       "      <th>X6</th>\n",
       "      <th>Edge-Ring</th>\n",
       "      <th>X11</th>\n",
       "      <th>Real</th>\n",
       "      <th>X10</th>\n",
       "      <th>X13</th>\n",
       "      <th>X15</th>\n",
       "      <th>X1</th>\n",
       "      <th>X14</th>\n",
       "      <th>X4</th>\n",
       "      <th>...</th>\n",
       "      <th>X9</th>\n",
       "      <th>Edge-Loc</th>\n",
       "      <th>Loc</th>\n",
       "      <th>dieSize</th>\n",
       "      <th>X3</th>\n",
       "      <th>X8</th>\n",
       "      <th>Near-full</th>\n",
       "      <th>Random</th>\n",
       "      <th>Donut</th>\n",
       "      <th>Scratch</th>\n",
       "    </tr>\n",
       "  </thead>\n",
       "  <tbody>\n",
       "    <tr>\n",
       "      <th>0</th>\n",
       "      <td>0.025286</td>\n",
       "      <td>4.710063e-11</td>\n",
       "      <td>2.0</td>\n",
       "      <td>-0.948425</td>\n",
       "      <td>3.0</td>\n",
       "      <td>8.0</td>\n",
       "      <td>8.0</td>\n",
       "      <td>-0.500602</td>\n",
       "      <td>1600.0</td>\n",
       "      <td>-1.197706</td>\n",
       "      <td>...</td>\n",
       "      <td>105.0</td>\n",
       "      <td>3.560727e-09</td>\n",
       "      <td>5.125390e-07</td>\n",
       "      <td>1507.0</td>\n",
       "      <td>0.028311</td>\n",
       "      <td>48.0</td>\n",
       "      <td>1.108287e-11</td>\n",
       "      <td>1.472565e-09</td>\n",
       "      <td>5.778933e-10</td>\n",
       "      <td>2.962900e-10</td>\n",
       "    </tr>\n",
       "    <tr>\n",
       "      <th>1</th>\n",
       "      <td>0.034876</td>\n",
       "      <td>2.438341e-07</td>\n",
       "      <td>2.0</td>\n",
       "      <td>-0.948425</td>\n",
       "      <td>3.0</td>\n",
       "      <td>8.0</td>\n",
       "      <td>10.0</td>\n",
       "      <td>-0.500602</td>\n",
       "      <td>1600.0</td>\n",
       "      <td>-1.197706</td>\n",
       "      <td>...</td>\n",
       "      <td>105.0</td>\n",
       "      <td>5.024205e-06</td>\n",
       "      <td>1.960759e-05</td>\n",
       "      <td>1129.0</td>\n",
       "      <td>0.028311</td>\n",
       "      <td>34.0</td>\n",
       "      <td>8.408600e-08</td>\n",
       "      <td>2.139370e-06</td>\n",
       "      <td>1.084093e-06</td>\n",
       "      <td>4.665944e-07</td>\n",
       "    </tr>\n",
       "    <tr>\n",
       "      <th>2</th>\n",
       "      <td>0.079237</td>\n",
       "      <td>1.403455e-07</td>\n",
       "      <td>6.0</td>\n",
       "      <td>-0.948425</td>\n",
       "      <td>8.0</td>\n",
       "      <td>8.0</td>\n",
       "      <td>10.0</td>\n",
       "      <td>-0.500602</td>\n",
       "      <td>216.0</td>\n",
       "      <td>-1.197706</td>\n",
       "      <td>...</td>\n",
       "      <td>200.0</td>\n",
       "      <td>3.985088e-06</td>\n",
       "      <td>1.081706e-04</td>\n",
       "      <td>776.0</td>\n",
       "      <td>0.028311</td>\n",
       "      <td>187.0</td>\n",
       "      <td>6.502317e-08</td>\n",
       "      <td>1.797973e-06</td>\n",
       "      <td>6.231705e-07</td>\n",
       "      <td>7.759906e-07</td>\n",
       "    </tr>\n",
       "    <tr>\n",
       "      <th>3</th>\n",
       "      <td>0.113288</td>\n",
       "      <td>1.966958e-05</td>\n",
       "      <td>6.0</td>\n",
       "      <td>-0.948425</td>\n",
       "      <td>8.0</td>\n",
       "      <td>8.0</td>\n",
       "      <td>10.0</td>\n",
       "      <td>-0.500602</td>\n",
       "      <td>216.0</td>\n",
       "      <td>-1.197706</td>\n",
       "      <td>...</td>\n",
       "      <td>200.0</td>\n",
       "      <td>1.288748e-03</td>\n",
       "      <td>4.475594e-04</td>\n",
       "      <td>776.0</td>\n",
       "      <td>0.028311</td>\n",
       "      <td>187.0</td>\n",
       "      <td>6.025813e-06</td>\n",
       "      <td>1.056936e-04</td>\n",
       "      <td>2.046773e-05</td>\n",
       "      <td>2.232210e-05</td>\n",
       "    </tr>\n",
       "    <tr>\n",
       "      <th>4</th>\n",
       "      <td>0.113778</td>\n",
       "      <td>7.765325e-07</td>\n",
       "      <td>6.0</td>\n",
       "      <td>-0.948425</td>\n",
       "      <td>8.0</td>\n",
       "      <td>8.0</td>\n",
       "      <td>10.0</td>\n",
       "      <td>-0.500602</td>\n",
       "      <td>216.0</td>\n",
       "      <td>-1.197706</td>\n",
       "      <td>...</td>\n",
       "      <td>200.0</td>\n",
       "      <td>2.132689e-05</td>\n",
       "      <td>3.271907e-04</td>\n",
       "      <td>776.0</td>\n",
       "      <td>0.028311</td>\n",
       "      <td>187.0</td>\n",
       "      <td>4.162866e-07</td>\n",
       "      <td>9.025464e-06</td>\n",
       "      <td>2.869377e-06</td>\n",
       "      <td>3.877715e-06</td>\n",
       "    </tr>\n",
       "  </tbody>\n",
       "</table>\n",
       "<p>5 rows × 25 columns</p>\n",
       "</div>"
      ],
      "text/plain": [
       "         X6     Edge-Ring  X11      Real  X10  X13   X15        X1     X14  \\\n",
       "0  0.025286  4.710063e-11  2.0 -0.948425  3.0  8.0   8.0 -0.500602  1600.0   \n",
       "1  0.034876  2.438341e-07  2.0 -0.948425  3.0  8.0  10.0 -0.500602  1600.0   \n",
       "2  0.079237  1.403455e-07  6.0 -0.948425  8.0  8.0  10.0 -0.500602   216.0   \n",
       "3  0.113288  1.966958e-05  6.0 -0.948425  8.0  8.0  10.0 -0.500602   216.0   \n",
       "4  0.113778  7.765325e-07  6.0 -0.948425  8.0  8.0  10.0 -0.500602   216.0   \n",
       "\n",
       "         X4  ...     X9      Edge-Loc           Loc  dieSize        X3     X8  \\\n",
       "0 -1.197706  ...  105.0  3.560727e-09  5.125390e-07   1507.0  0.028311   48.0   \n",
       "1 -1.197706  ...  105.0  5.024205e-06  1.960759e-05   1129.0  0.028311   34.0   \n",
       "2 -1.197706  ...  200.0  3.985088e-06  1.081706e-04    776.0  0.028311  187.0   \n",
       "3 -1.197706  ...  200.0  1.288748e-03  4.475594e-04    776.0  0.028311  187.0   \n",
       "4 -1.197706  ...  200.0  2.132689e-05  3.271907e-04    776.0  0.028311  187.0   \n",
       "\n",
       "      Near-full        Random         Donut       Scratch  \n",
       "0  1.108287e-11  1.472565e-09  5.778933e-10  2.962900e-10  \n",
       "1  8.408600e-08  2.139370e-06  1.084093e-06  4.665944e-07  \n",
       "2  6.502317e-08  1.797973e-06  6.231705e-07  7.759906e-07  \n",
       "3  6.025813e-06  1.056936e-04  2.046773e-05  2.232210e-05  \n",
       "4  4.162866e-07  9.025464e-06  2.869377e-06  3.877715e-06  \n",
       "\n",
       "[5 rows x 25 columns]"
      ]
     },
     "execution_count": 53,
     "metadata": {},
     "output_type": "execute_result"
    }
   ],
   "source": [
    "data_m=clf.transform(data_2.drop(columns=['Y']))\n",
    "data_m.head()"
   ]
  },
  {
   "cell_type": "markdown",
   "metadata": {},
   "source": [
    "# Análisis de variables Cuantitativas"
   ]
  },
  {
   "cell_type": "markdown",
   "metadata": {},
   "source": [
    "## Mediante Gini: Caso continuo"
   ]
  },
  {
   "cell_type": "markdown",
   "metadata": {},
   "source": [
    "Para el análisis de variables numéricas se utilizará el indicador del Gini, este nos permitirá tener un\n",
    "panorama de que variables son las más importantes en el modelo, de modo tal que acogiéndonos a este\n",
    "indicador si los valores son mayares a 0.05 esas variables se mantendrán, caso contrario serán retiradas."
   ]
  },
  {
   "cell_type": "code",
   "execution_count": 54,
   "metadata": {},
   "outputs": [],
   "source": [
    "# Importamos algunas librarias necesarias\n",
    "from sklearn.metrics import roc_auc_score\n",
    "from sklearn.model_selection import cross_val_score\n",
    "from sklearn.feature_selection import RFE\n",
    "from sklearn.linear_model import LogisticRegression"
   ]
  },
  {
   "cell_type": "markdown",
   "metadata": {},
   "source": [
    "Definiremos una funcion para variables numericas\n"
   ]
  },
  {
   "cell_type": "code",
   "execution_count": 55,
   "metadata": {},
   "outputs": [],
   "source": [
    "def gini_num_var(data,variable,target):\n",
    "    logi= LogisticRegression()\n",
    "    bgini= data.loc[:,[variable]]\n",
    "    logi.fit(bgini,data[target])\n",
    "    gini= 2*roc_auc_score(data[target],logi.predict_proba(bgini)[:,1])-1\n",
    "    result = pd.DataFrame(columns=['Variable','Gini'])\n",
    "    result.loc[len(result)]=[variable,gini]\n",
    "    return(result)"
   ]
  },
  {
   "cell_type": "markdown",
   "metadata": {},
   "source": [
    "Guardaremos los resultados variable con gini"
   ]
  },
  {
   "cell_type": "code",
   "execution_count": 64,
   "metadata": {},
   "outputs": [],
   "source": [
    "result_f3 = pd.DataFrame(columns=['Variable','Gini'])"
   ]
  },
  {
   "cell_type": "code",
   "execution_count": 65,
   "metadata": {},
   "outputs": [
    {
     "data": {
      "text/html": [
       "<div>\n",
       "<style scoped>\n",
       "    .dataframe tbody tr th:only-of-type {\n",
       "        vertical-align: middle;\n",
       "    }\n",
       "\n",
       "    .dataframe tbody tr th {\n",
       "        vertical-align: top;\n",
       "    }\n",
       "\n",
       "    .dataframe thead th {\n",
       "        text-align: right;\n",
       "    }\n",
       "</style>\n",
       "<table border=\"1\" class=\"dataframe\">\n",
       "  <thead>\n",
       "    <tr style=\"text-align: right;\">\n",
       "      <th></th>\n",
       "      <th>Variable</th>\n",
       "      <th>Gini</th>\n",
       "    </tr>\n",
       "  </thead>\n",
       "  <tbody>\n",
       "    <tr>\n",
       "      <th>8</th>\n",
       "      <td>X14</td>\n",
       "      <td>0.546488</td>\n",
       "    </tr>\n",
       "    <tr>\n",
       "      <th>9</th>\n",
       "      <td>X15</td>\n",
       "      <td>0.536816</td>\n",
       "    </tr>\n",
       "    <tr>\n",
       "      <th>0</th>\n",
       "      <td>X6</td>\n",
       "      <td>0.536523</td>\n",
       "    </tr>\n",
       "    <tr>\n",
       "      <th>5</th>\n",
       "      <td>X11</td>\n",
       "      <td>0.499908</td>\n",
       "    </tr>\n",
       "    <tr>\n",
       "      <th>3</th>\n",
       "      <td>X9</td>\n",
       "      <td>0.442883</td>\n",
       "    </tr>\n",
       "    <tr>\n",
       "      <th>7</th>\n",
       "      <td>X13</td>\n",
       "      <td>0.428652</td>\n",
       "    </tr>\n",
       "    <tr>\n",
       "      <th>15</th>\n",
       "      <td>Edge-Ring</td>\n",
       "      <td>0.418987</td>\n",
       "    </tr>\n",
       "    <tr>\n",
       "      <th>6</th>\n",
       "      <td>X12</td>\n",
       "      <td>0.398583</td>\n",
       "    </tr>\n",
       "    <tr>\n",
       "      <th>12</th>\n",
       "      <td>Center</td>\n",
       "      <td>0.385171</td>\n",
       "    </tr>\n",
       "    <tr>\n",
       "      <th>4</th>\n",
       "      <td>X10</td>\n",
       "      <td>0.375605</td>\n",
       "    </tr>\n",
       "    <tr>\n",
       "      <th>1</th>\n",
       "      <td>X7</td>\n",
       "      <td>0.289107</td>\n",
       "    </tr>\n",
       "    <tr>\n",
       "      <th>16</th>\n",
       "      <td>Loc</td>\n",
       "      <td>0.281330</td>\n",
       "    </tr>\n",
       "    <tr>\n",
       "      <th>11</th>\n",
       "      <td>dieSize</td>\n",
       "      <td>0.278122</td>\n",
       "    </tr>\n",
       "    <tr>\n",
       "      <th>2</th>\n",
       "      <td>X8</td>\n",
       "      <td>0.264283</td>\n",
       "    </tr>\n",
       "    <tr>\n",
       "      <th>13</th>\n",
       "      <td>Donut</td>\n",
       "      <td>0.208864</td>\n",
       "    </tr>\n",
       "    <tr>\n",
       "      <th>10</th>\n",
       "      <td>X16</td>\n",
       "      <td>0.169841</td>\n",
       "    </tr>\n",
       "    <tr>\n",
       "      <th>14</th>\n",
       "      <td>Edge-Loc</td>\n",
       "      <td>0.160751</td>\n",
       "    </tr>\n",
       "    <tr>\n",
       "      <th>17</th>\n",
       "      <td>Near-full</td>\n",
       "      <td>-0.095162</td>\n",
       "    </tr>\n",
       "    <tr>\n",
       "      <th>19</th>\n",
       "      <td>Scratch</td>\n",
       "      <td>-0.156492</td>\n",
       "    </tr>\n",
       "    <tr>\n",
       "      <th>18</th>\n",
       "      <td>Random</td>\n",
       "      <td>-0.184555</td>\n",
       "    </tr>\n",
       "  </tbody>\n",
       "</table>\n",
       "</div>"
      ],
      "text/plain": [
       "     Variable      Gini\n",
       "8         X14  0.546488\n",
       "9         X15  0.536816\n",
       "0          X6  0.536523\n",
       "5         X11  0.499908\n",
       "3          X9  0.442883\n",
       "7         X13  0.428652\n",
       "15  Edge-Ring  0.418987\n",
       "6         X12  0.398583\n",
       "12     Center  0.385171\n",
       "4         X10  0.375605\n",
       "1          X7  0.289107\n",
       "16        Loc  0.281330\n",
       "11    dieSize  0.278122\n",
       "2          X8  0.264283\n",
       "13      Donut  0.208864\n",
       "10        X16  0.169841\n",
       "14   Edge-Loc  0.160751\n",
       "17  Near-full -0.095162\n",
       "19    Scratch -0.156492\n",
       "18     Random -0.184555"
      ]
     },
     "execution_count": 65,
     "metadata": {},
     "output_type": "execute_result"
    }
   ],
   "source": [
    "for i in var_cuanti_l:\n",
    "    A=gini_num_var(data_2, i, \"Y\")\n",
    "    result_f3.loc[len(result_f3)]=[A.loc[0].values[0],A.loc[0].values[1]]\n",
    "result_f3 = result_f3.sort_values('Gini',ascending=False)\n",
    "result_f3"
   ]
  },
  {
   "cell_type": "markdown",
   "metadata": {},
   "source": [
    "# Análisis de variables Cualitativas"
   ]
  },
  {
   "cell_type": "markdown",
   "metadata": {},
   "source": [
    "\n",
    "## Mediante Gini: Caso Categórico"
   ]
  },
  {
   "cell_type": "markdown",
   "metadata": {},
   "source": [
    "Definimos otra funcion que nos ayudara a realizar esta tarea"
   ]
  },
  {
   "cell_type": "code",
   "execution_count": 66,
   "metadata": {},
   "outputs": [],
   "source": [
    "def gini_in2(input_1,variable,target):\n",
    "    base=input_1.loc[:,[variable]]\n",
    "    cat_dummies = pd.get_dummies(base[variable], prefix=variable)\n",
    "    base = base.join(cat_dummies)\n",
    "    d_vars = base.columns.values.tolist()\n",
    "    to_keep = [v for v in d_vars if v not in var_cuali]\n",
    "    base=base[to_keep]\n",
    "    logi=LogisticRegression() # Generando objeto\n",
    "    logi.fit(base,input_1[target]) # Entrenamiento\n",
    "    gini=2*roc_auc_score(input_1[target],logi.predict_proba(base)[:,1])-1 \n",
    "    result = pd.DataFrame(columns=['Variable','Gini'])\n",
    "    result.loc[len(result)]=[variable,gini] \n",
    "    return(result)"
   ]
  },
  {
   "cell_type": "markdown",
   "metadata": {},
   "source": [
    "Aplicamos a las variables categoricas"
   ]
  },
  {
   "cell_type": "code",
   "execution_count": 67,
   "metadata": {},
   "outputs": [
    {
     "data": {
      "text/html": [
       "<div>\n",
       "<style scoped>\n",
       "    .dataframe tbody tr th:only-of-type {\n",
       "        vertical-align: middle;\n",
       "    }\n",
       "\n",
       "    .dataframe tbody tr th {\n",
       "        vertical-align: top;\n",
       "    }\n",
       "\n",
       "    .dataframe thead th {\n",
       "        text-align: right;\n",
       "    }\n",
       "</style>\n",
       "<table border=\"1\" class=\"dataframe\">\n",
       "  <thead>\n",
       "    <tr style=\"text-align: right;\">\n",
       "      <th></th>\n",
       "      <th>Variable</th>\n",
       "      <th>Gini</th>\n",
       "    </tr>\n",
       "  </thead>\n",
       "  <tbody>\n",
       "    <tr>\n",
       "      <th>4</th>\n",
       "      <td>Real</td>\n",
       "      <td>0.524566</td>\n",
       "    </tr>\n",
       "    <tr>\n",
       "      <th>3</th>\n",
       "      <td>X4</td>\n",
       "      <td>0.321494</td>\n",
       "    </tr>\n",
       "    <tr>\n",
       "      <th>0</th>\n",
       "      <td>X1</td>\n",
       "      <td>0.257903</td>\n",
       "    </tr>\n",
       "    <tr>\n",
       "      <th>1</th>\n",
       "      <td>X2</td>\n",
       "      <td>0.192024</td>\n",
       "    </tr>\n",
       "    <tr>\n",
       "      <th>2</th>\n",
       "      <td>X3</td>\n",
       "      <td>0.026728</td>\n",
       "    </tr>\n",
       "  </tbody>\n",
       "</table>\n",
       "</div>"
      ],
      "text/plain": [
       "  Variable      Gini\n",
       "4     Real  0.524566\n",
       "3       X4  0.321494\n",
       "0       X1  0.257903\n",
       "1       X2  0.192024\n",
       "2       X3  0.026728"
      ]
     },
     "execution_count": 67,
     "metadata": {},
     "output_type": "execute_result"
    }
   ],
   "source": [
    "var_cuali=['X1','X2','X3','X4','Real'] #variables categoricas\n",
    "\n",
    "result_f2 = pd.DataFrame(columns=['Variable','Gini'])\n",
    "for i in var_cuali:\n",
    "    A=gini_in2(data_2,i,\"Y\")\n",
    "    result_f2.loc[len(result_f2)]=[A.loc[0].values[0],A.loc[0].values[1]]\n",
    "    result_f2 = result_f2.sort_values('Gini',ascending=False)\n",
    "result_f2"
   ]
  },
  {
   "cell_type": "markdown",
   "metadata": {},
   "source": [
    "El criterio para la seleccion de variables numericas a traves del indice de gini es siempre y cuando sea mayor a 0.05"
   ]
  },
  {
   "cell_type": "code",
   "execution_count": 68,
   "metadata": {},
   "outputs": [
    {
     "data": {
      "text/plain": [
       "['Real',\n",
       " 'X4',\n",
       " 'X1',\n",
       " 'X2',\n",
       " 'X14',\n",
       " 'X15',\n",
       " 'X6',\n",
       " 'X11',\n",
       " 'X9',\n",
       " 'X13',\n",
       " 'Edge-Ring',\n",
       " 'X12',\n",
       " 'Center',\n",
       " 'X10',\n",
       " 'X7',\n",
       " 'Loc',\n",
       " 'dieSize',\n",
       " 'X8',\n",
       " 'Donut',\n",
       " 'X16',\n",
       " 'Edge-Loc']"
      ]
     },
     "execution_count": 68,
     "metadata": {},
     "output_type": "execute_result"
    }
   ],
   "source": [
    "#quedandonos con las variables finalistas\n",
    "vf_continuas=result_f3[result_f3.Gini>0.05][\"Variable\"].tolist()\n",
    "vf_categoricas=result_f2[result_f2.Gini>0.05][\"Variable\"].tolist()\n",
    "vf_categoricas+vf_continuas"
   ]
  },
  {
   "cell_type": "markdown",
   "metadata": {},
   "source": [
    "Ahora vamos a filtrar las columnas obtenidas mediante gini"
   ]
  },
  {
   "cell_type": "code",
   "execution_count": 69,
   "metadata": {},
   "outputs": [
    {
     "data": {
      "text/html": [
       "<div>\n",
       "<style scoped>\n",
       "    .dataframe tbody tr th:only-of-type {\n",
       "        vertical-align: middle;\n",
       "    }\n",
       "\n",
       "    .dataframe tbody tr th {\n",
       "        vertical-align: top;\n",
       "    }\n",
       "\n",
       "    .dataframe thead th {\n",
       "        text-align: right;\n",
       "    }\n",
       "</style>\n",
       "<table border=\"1\" class=\"dataframe\">\n",
       "  <thead>\n",
       "    <tr style=\"text-align: right;\">\n",
       "      <th></th>\n",
       "      <th>Real</th>\n",
       "      <th>X4</th>\n",
       "      <th>X1</th>\n",
       "      <th>X2</th>\n",
       "      <th>X14</th>\n",
       "      <th>X15</th>\n",
       "      <th>X6</th>\n",
       "      <th>X11</th>\n",
       "      <th>X9</th>\n",
       "      <th>X13</th>\n",
       "      <th>...</th>\n",
       "      <th>X12</th>\n",
       "      <th>Center</th>\n",
       "      <th>X10</th>\n",
       "      <th>X7</th>\n",
       "      <th>Loc</th>\n",
       "      <th>dieSize</th>\n",
       "      <th>X8</th>\n",
       "      <th>Donut</th>\n",
       "      <th>X16</th>\n",
       "      <th>Edge-Loc</th>\n",
       "    </tr>\n",
       "  </thead>\n",
       "  <tbody>\n",
       "    <tr>\n",
       "      <th>0</th>\n",
       "      <td>Center</td>\n",
       "      <td>X4-1</td>\n",
       "      <td>X1-1</td>\n",
       "      <td>X2-1</td>\n",
       "      <td>1600.0</td>\n",
       "      <td>8.0</td>\n",
       "      <td>0.025286</td>\n",
       "      <td>2.0</td>\n",
       "      <td>105.0</td>\n",
       "      <td>8.0</td>\n",
       "      <td>...</td>\n",
       "      <td>0.45</td>\n",
       "      <td>0.012218</td>\n",
       "      <td>3.0</td>\n",
       "      <td>50.0</td>\n",
       "      <td>5.125390e-07</td>\n",
       "      <td>1507.0</td>\n",
       "      <td>48.0</td>\n",
       "      <td>5.778933e-10</td>\n",
       "      <td>0.8</td>\n",
       "      <td>3.560727e-09</td>\n",
       "    </tr>\n",
       "    <tr>\n",
       "      <th>1</th>\n",
       "      <td>Center</td>\n",
       "      <td>X4-1</td>\n",
       "      <td>X1-1</td>\n",
       "      <td>X2-1</td>\n",
       "      <td>1600.0</td>\n",
       "      <td>10.0</td>\n",
       "      <td>0.034876</td>\n",
       "      <td>2.0</td>\n",
       "      <td>105.0</td>\n",
       "      <td>8.0</td>\n",
       "      <td>...</td>\n",
       "      <td>0.45</td>\n",
       "      <td>0.012218</td>\n",
       "      <td>3.0</td>\n",
       "      <td>67.0</td>\n",
       "      <td>1.960759e-05</td>\n",
       "      <td>1129.0</td>\n",
       "      <td>34.0</td>\n",
       "      <td>1.084093e-06</td>\n",
       "      <td>0.8</td>\n",
       "      <td>5.024205e-06</td>\n",
       "    </tr>\n",
       "    <tr>\n",
       "      <th>2</th>\n",
       "      <td>Center</td>\n",
       "      <td>X4-1</td>\n",
       "      <td>X1-1</td>\n",
       "      <td>X2-1</td>\n",
       "      <td>216.0</td>\n",
       "      <td>10.0</td>\n",
       "      <td>0.079237</td>\n",
       "      <td>6.0</td>\n",
       "      <td>200.0</td>\n",
       "      <td>8.0</td>\n",
       "      <td>...</td>\n",
       "      <td>0.75</td>\n",
       "      <td>0.012218</td>\n",
       "      <td>8.0</td>\n",
       "      <td>176.0</td>\n",
       "      <td>1.081706e-04</td>\n",
       "      <td>776.0</td>\n",
       "      <td>187.0</td>\n",
       "      <td>6.231705e-07</td>\n",
       "      <td>0.8</td>\n",
       "      <td>3.985088e-06</td>\n",
       "    </tr>\n",
       "    <tr>\n",
       "      <th>3</th>\n",
       "      <td>Center</td>\n",
       "      <td>X4-1</td>\n",
       "      <td>X1-1</td>\n",
       "      <td>X2-1</td>\n",
       "      <td>216.0</td>\n",
       "      <td>10.0</td>\n",
       "      <td>0.113288</td>\n",
       "      <td>6.0</td>\n",
       "      <td>200.0</td>\n",
       "      <td>8.0</td>\n",
       "      <td>...</td>\n",
       "      <td>0.75</td>\n",
       "      <td>0.012218</td>\n",
       "      <td>8.0</td>\n",
       "      <td>176.0</td>\n",
       "      <td>4.475594e-04</td>\n",
       "      <td>776.0</td>\n",
       "      <td>187.0</td>\n",
       "      <td>2.046773e-05</td>\n",
       "      <td>0.8</td>\n",
       "      <td>1.288748e-03</td>\n",
       "    </tr>\n",
       "    <tr>\n",
       "      <th>4</th>\n",
       "      <td>Center</td>\n",
       "      <td>X4-1</td>\n",
       "      <td>X1-1</td>\n",
       "      <td>X2-1</td>\n",
       "      <td>216.0</td>\n",
       "      <td>10.0</td>\n",
       "      <td>0.113778</td>\n",
       "      <td>6.0</td>\n",
       "      <td>200.0</td>\n",
       "      <td>8.0</td>\n",
       "      <td>...</td>\n",
       "      <td>0.75</td>\n",
       "      <td>0.012218</td>\n",
       "      <td>8.0</td>\n",
       "      <td>176.0</td>\n",
       "      <td>3.271907e-04</td>\n",
       "      <td>776.0</td>\n",
       "      <td>187.0</td>\n",
       "      <td>2.869377e-06</td>\n",
       "      <td>0.8</td>\n",
       "      <td>2.132689e-05</td>\n",
       "    </tr>\n",
       "  </tbody>\n",
       "</table>\n",
       "<p>5 rows × 21 columns</p>\n",
       "</div>"
      ],
      "text/plain": [
       "     Real    X4    X1    X2     X14   X15        X6  X11     X9  X13  ...  \\\n",
       "0  Center  X4-1  X1-1  X2-1  1600.0   8.0  0.025286  2.0  105.0  8.0  ...   \n",
       "1  Center  X4-1  X1-1  X2-1  1600.0  10.0  0.034876  2.0  105.0  8.0  ...   \n",
       "2  Center  X4-1  X1-1  X2-1   216.0  10.0  0.079237  6.0  200.0  8.0  ...   \n",
       "3  Center  X4-1  X1-1  X2-1   216.0  10.0  0.113288  6.0  200.0  8.0  ...   \n",
       "4  Center  X4-1  X1-1  X2-1   216.0  10.0  0.113778  6.0  200.0  8.0  ...   \n",
       "\n",
       "    X12    Center  X10     X7           Loc  dieSize     X8         Donut  \\\n",
       "0  0.45  0.012218  3.0   50.0  5.125390e-07   1507.0   48.0  5.778933e-10   \n",
       "1  0.45  0.012218  3.0   67.0  1.960759e-05   1129.0   34.0  1.084093e-06   \n",
       "2  0.75  0.012218  8.0  176.0  1.081706e-04    776.0  187.0  6.231705e-07   \n",
       "3  0.75  0.012218  8.0  176.0  4.475594e-04    776.0  187.0  2.046773e-05   \n",
       "4  0.75  0.012218  8.0  176.0  3.271907e-04    776.0  187.0  2.869377e-06   \n",
       "\n",
       "   X16      Edge-Loc  \n",
       "0  0.8  3.560727e-09  \n",
       "1  0.8  5.024205e-06  \n",
       "2  0.8  3.985088e-06  \n",
       "3  0.8  1.288748e-03  \n",
       "4  0.8  2.132689e-05  \n",
       "\n",
       "[5 rows x 21 columns]"
      ]
     },
     "execution_count": 69,
     "metadata": {},
     "output_type": "execute_result"
    }
   ],
   "source": [
    "data_model=data_2[vf_categoricas+vf_continuas]\n",
    "data_model.head()"
   ]
  },
  {
   "cell_type": "markdown",
   "metadata": {},
   "source": [
    "De data_m correspondiente a la seleccion de caracteristcas mediante WOE, RRS, CHI-CUADRADO se tiene en la columna 'votes' que los que mayores o iguales que 4 sera eliminadas."
   ]
  },
  {
   "cell_type": "code",
   "execution_count": 72,
   "metadata": {},
   "outputs": [
    {
     "data": {
      "text/plain": [
       "Index(['X6', 'Edge-Ring', 'X11', 'Real', 'X10', 'X13', 'X15', 'X1', 'X14',\n",
       "       'X4', 'X2', 'Center', 'X12', 'X7', 'X16', 'X9', 'Edge-Loc', 'Loc',\n",
       "       'dieSize', 'X3', 'X8', 'Near-full', 'Random', 'Donut', 'Scratch'],\n",
       "      dtype='object')"
      ]
     },
     "execution_count": 72,
     "metadata": {},
     "output_type": "execute_result"
    }
   ],
   "source": [
    "data_m.columns #WOE Y OTROS"
   ]
  },
  {
   "cell_type": "code",
   "execution_count": 74,
   "metadata": {},
   "outputs": [
    {
     "data": {
      "text/plain": [
       "Index(['Real', 'X4', 'X1', 'X2', 'X14', 'X15', 'X6', 'X11', 'X9', 'X13',\n",
       "       'Edge-Ring', 'X12', 'Center', 'X10', 'X7', 'Loc', 'dieSize', 'X8',\n",
       "       'Donut', 'X16', 'Edge-Loc'],\n",
       "      dtype='object')"
      ]
     },
     "execution_count": 74,
     "metadata": {},
     "output_type": "execute_result"
    }
   ],
   "source": [
    "data_model.columns #GINI"
   ]
  },
  {
   "cell_type": "markdown",
   "metadata": {},
   "source": [
    "Comparando resultados tendemos que eliminar columnas."
   ]
  },
  {
   "cell_type": "code",
   "execution_count": 77,
   "metadata": {},
   "outputs": [
    {
     "data": {
      "text/plain": [
       "Index(['Y', 'X2', 'Center', 'X12', 'X7', 'X16', 'X9', 'Edge-Loc', 'Loc',\n",
       "       'dieSize', 'X8', 'Donut'],\n",
       "      dtype='object')"
      ]
     },
     "execution_count": 77,
     "metadata": {},
     "output_type": "execute_result"
    }
   ],
   "source": [
    "# mayor_que_4={'X6','Edge-Ring','X11','Real','X10','X13',\n",
    "#                               'X15','X1','X14','X4'}\n",
    "# segun_gini={'X3','Near-full','Scratch','Random'}\n",
    "data_mod=data_m.drop(columns=['X6','Edge-Ring','X11','Real','X10','X13',\n",
    "                              'X15','X1','X14','X4','X3','Near-full',\n",
    "                              'Scratch','Random']) \n",
    "data_clean=pd.concat([data_2['Y'],data_mod],axis=1) # Agregamos la variable objetivo (target)\n",
    "data_clean.columns"
   ]
  },
  {
   "cell_type": "markdown",
   "metadata": {},
   "source": [
    "Hemos logrado eliminar varias variables que tendrian un aporte casi nulo."
   ]
  },
  {
   "cell_type": "markdown",
   "metadata": {},
   "source": [
    "# Selección mediante otras técnicas"
   ]
  },
  {
   "cell_type": "markdown",
   "metadata": {},
   "source": [
    "## Mediante kBest"
   ]
  },
  {
   "cell_type": "markdown",
   "metadata": {},
   "source": [
    "Podemos escoger un metodo importante como el  'kBest' para almenos eliminar 2 variable"
   ]
  },
  {
   "cell_type": "code",
   "execution_count": 82,
   "metadata": {},
   "outputs": [
    {
     "name": "stdout",
     "output_type": "stream",
     "text": [
      "Index(['X2', 'Center', 'X12', 'X7', 'X16', 'X9', 'Loc', 'dieSize', 'X8',\n",
      "       'Donut'],\n",
      "      dtype='object')\n"
     ]
    }
   ],
   "source": [
    "from sklearn.feature_selection import SelectKBest\n",
    "#NUEVA TÉCNICA DE FEATURE SELECTION\n",
    "\n",
    "a=data_clean.drop(['Y'], axis=1)\n",
    "b=data_clean['Y']\n",
    " \n",
    "best=SelectKBest(k=10)\n",
    "a_new = best.fit_transform(a, b)\n",
    "a_new.shape\n",
    "selected = best.get_support(indices=True)\n",
    "print(a.columns[selected])"
   ]
  },
  {
   "cell_type": "markdown",
   "metadata": {},
   "source": [
    "Con esto hemos obtenido las 10 mejores variables."
   ]
  },
  {
   "cell_type": "markdown",
   "metadata": {},
   "source": [
    "## Mediante Correlación"
   ]
  },
  {
   "cell_type": "code",
   "execution_count": 83,
   "metadata": {},
   "outputs": [
    {
     "data": {
      "text/plain": [
       "<matplotlib.axes._subplots.AxesSubplot at 0x1b3fbad6040>"
      ]
     },
     "execution_count": 83,
     "metadata": {},
     "output_type": "execute_result"
    },
    {
     "data": {
      "image/png": "[encoded data removed]",
      "text/plain": [
       "<Figure size 864x864 with 2 Axes>"
      ]
     },
     "metadata": {
      "needs_background": "light"
     },
     "output_type": "display_data"
    }
   ],
   "source": [
    "#para utilizar de forma conjunta rks y este\n",
    "import seaborn as sb\n",
    "used_features =a.columns[selected]\n",
    "\n",
    "colormap = plt.cm.viridis\n",
    "plt.figure(figsize=(12,12))\n",
    "plt.title('Correlación de características de Pearson', y=1.05, size=15)\n",
    "sb.heatmap(a[used_features].astype(float).corr(),linewidths=0.1,\n",
    "           vmax=1.0, square=True, cmap=colormap, linecolor='white', annot=True)"
   ]
  },
  {
   "cell_type": "markdown",
   "metadata": {},
   "source": [
    "Sabemos que la correlación va de -1 a 1 y deacuerdo al gráfico las que tiene un grado de corrlación grande son las variables 'X7' con 'X8' con indice de 0.75 y 'X7' y 'X12'."
   ]
  },
  {
   "cell_type": "markdown",
   "metadata": {},
   "source": [
    "Vamos eliminar esta dichas variables"
   ]
  },
  {
   "cell_type": "code",
   "execution_count": 84,
   "metadata": {},
   "outputs": [],
   "source": [
    "data_corre=a[used_features]\n",
    "data_corre=data_corre.drop(columns=['X7','X8','X12'])"
   ]
  },
  {
   "cell_type": "markdown",
   "metadata": {},
   "source": [
    "Nuetra nueva data es 'data_corre' como variables independiente y Y como variable dependiente. Asi que la nueva data sera X"
   ]
  },
  {
   "cell_type": "code",
   "execution_count": 85,
   "metadata": {},
   "outputs": [],
   "source": [
    "X=data_corre\n",
    "y=b"
   ]
  },
  {
   "cell_type": "markdown",
   "metadata": {},
   "source": [
    "# Evaluación del modelo"
   ]
  },
  {
   "cell_type": "markdown",
   "metadata": {},
   "source": [
    "En esta etapa, teniendo la data totalmente procesada, se hará una copia con las variables que servirán\n",
    "para predecir la variable objetivo. Separando de esta data un 80% de los valores para entrenamiento y un\n",
    "20% para el testeo. En base a estos 2 grupos se podrá definir que tan bien podemos realizar la predicción."
   ]
  },
  {
   "cell_type": "code",
   "execution_count": 86,
   "metadata": {},
   "outputs": [],
   "source": [
    "from sklearn.model_selection import train_test_split\n",
    "#dividir 20 y 80 y random state aleatoria para la replicabilidad de la muestra\n",
    "\n",
    "X_train, X_test, y_train, y_test = train_test_split(X, y, test_size=0.2, random_state=6)\n"
   ]
  },
  {
   "cell_type": "markdown",
   "metadata": {},
   "source": [
    "Ahora vamos a analisar con los distintios algoritmos de clasificación. Antes imporatamos algunas librerias que utilizaremos"
   ]
  },
  {
   "cell_type": "code",
   "execution_count": 87,
   "metadata": {},
   "outputs": [],
   "source": [
    "from sklearn import linear_model\n",
    "from sklearn.svm import SVC\n",
    "from sklearn.tree import DecisionTreeClassifier\n",
    "\n",
    "from sklearn.linear_model import LogisticRegression\n",
    "from sklearn.svm import SVC\n",
    "from sklearn.ensemble import RandomForestClassifier,GradientBoostingClassifier,VotingClassifier\n",
    "from sklearn.naive_bayes import GaussianNB,MultinomialNB\n",
    "from sklearn.neighbors import KNeighborsClassifier\n",
    "from sklearn.neural_network import MLPClassifier\n",
    "from xgboost import XGBClassifier\n",
    "from sklearn.linear_model import SGDClassifier\n",
    "from sklearn.naive_bayes import BernoulliNB\n",
    "from sklearn.preprocessing import LabelEncoder,normalize,MinMaxScaler\n",
    "from sklearn.metrics import f1_score\n",
    "from sklearn.model_selection import train_test_split,cross_val_score\n",
    "from sklearn.metrics import confusion_matrix,roc_auc_score,roc_curve"
   ]
  },
  {
   "cell_type": "markdown",
   "metadata": {},
   "source": [
    "Algunos hiperparametro fueron dados a fin de maximizar ver la variabilidad de los resultados."
   ]
  },
  {
   "cell_type": "code",
   "execution_count": 93,
   "metadata": {},
   "outputs": [],
   "source": [
    "logistic_regression= LogisticRegression()\n",
    "logistic_regression.fit(X_train,y_train)\n",
    "Y_pred=logistic_regression.predict(X_test)"
   ]
  },
  {
   "cell_type": "code",
   "execution_count": 94,
   "metadata": {},
   "outputs": [
    {
     "name": "stderr",
     "output_type": "stream",
     "text": [
      "C:\\Users\\kaize.MSI\\anaconda3\\lib\\site-packages\\sklearn\\svm\\_base.py:246: ConvergenceWarning: Solver terminated early (max_iter=10000).  Consider pre-processing your data with StandardScaler or MinMaxScaler.\n",
      "  warnings.warn('Solver terminated early (max_iter=%i).'\n"
     ]
    },
    {
     "data": {
      "text/plain": [
       "SVC(C=2, kernel='linear', max_iter=10000, random_state=55)"
      ]
     },
     "execution_count": 94,
     "metadata": {},
     "output_type": "execute_result"
    }
   ],
   "source": [
    "SVClassifier = SVC(kernel= 'linear', degree=3, max_iter=10000, C=2, random_state = 55)\n",
    "SVClassifier.fit(X_train,y_train)"
   ]
  },
  {
   "cell_type": "code",
   "execution_count": 95,
   "metadata": {},
   "outputs": [
    {
     "data": {
      "text/plain": [
       "KNeighborsClassifier(algorithm='brute', n_neighbors=7, weights='distance')"
      ]
     },
     "execution_count": 95,
     "metadata": {},
     "output_type": "execute_result"
    }
   ],
   "source": [
    "KNeighborsModel = KNeighborsClassifier(n_neighbors = 7, weights = 'distance', algorithm = 'brute')\n",
    "KNeighborsModel.fit(X_train,y_train)"
   ]
  },
  {
   "cell_type": "code",
   "execution_count": 96,
   "metadata": {},
   "outputs": [
    {
     "data": {
      "text/plain": [
       "DecisionTreeClassifier(criterion='entropy', random_state=10)"
      ]
     },
     "execution_count": 96,
     "metadata": {},
     "output_type": "execute_result"
    }
   ],
   "source": [
    "decisionTreeModel = DecisionTreeClassifier(criterion= 'entropy', max_depth = None, \n",
    "                                           splitter='best', random_state=10)\n",
    "decisionTreeModel.fit(X_train,y_train)"
   ]
  },
  {
   "cell_type": "code",
   "execution_count": 97,
   "metadata": {},
   "outputs": [
    {
     "data": {
      "text/plain": [
       "RandomForestClassifier()"
      ]
     },
     "execution_count": 97,
     "metadata": {},
     "output_type": "execute_result"
    }
   ],
   "source": [
    "random_forest = RandomForestClassifier()\n",
    "random_forest.fit(X_train, y_train)"
   ]
  },
  {
   "cell_type": "code",
   "execution_count": 98,
   "metadata": {},
   "outputs": [
    {
     "data": {
      "text/plain": [
       "GradientBoostingClassifier(learning_rate=0.01, max_depth=30, random_state=10)"
      ]
     },
     "execution_count": 98,
     "metadata": {},
     "output_type": "execute_result"
    }
   ],
   "source": [
    "gradientBoostingModel = GradientBoostingClassifier(loss = 'deviance', learning_rate = 0.01,\n",
    "                                                   n_estimators = 100, max_depth = 30, random_state=10)\n",
    "gradientBoostingModel.fit(X_train,y_train)"
   ]
  },
  {
   "cell_type": "code",
   "execution_count": 99,
   "metadata": {},
   "outputs": [
    {
     "name": "stderr",
     "output_type": "stream",
     "text": [
      "C:\\Users\\kaize.MSI\\anaconda3\\lib\\site-packages\\sklearn\\linear_model\\_stochastic_gradient.py:570: ConvergenceWarning: Maximum number of iteration reached before convergence. Consider increasing max_iter to improve the fit.\n",
      "  warnings.warn(\"Maximum number of iteration reached before \"\n"
     ]
    },
    {
     "data": {
      "text/plain": [
       "SGDClassifier(max_iter=100, penalty='l1', random_state=10)"
      ]
     },
     "execution_count": 99,
     "metadata": {},
     "output_type": "execute_result"
    }
   ],
   "source": [
    "SGDClassifier=SGDClassifier(loss = 'hinge', penalty = 'l1', learning_rate = 'optimal',\n",
    "                              random_state = 10, max_iter=100)\n",
    "SGDClassifier.fit(X_train,y_train)"
   ]
  },
  {
   "cell_type": "code",
   "execution_count": 100,
   "metadata": {},
   "outputs": [
    {
     "data": {
      "text/plain": [
       "BernoulliNB(alpha=0.1)"
      ]
     },
     "execution_count": 100,
     "metadata": {},
     "output_type": "execute_result"
    }
   ],
   "source": [
    "bernoulliNBModel = BernoulliNB(alpha=0.1)\n",
    "bernoulliNBModel.fit(X_train,y_train)"
   ]
  },
  {
   "cell_type": "code",
   "execution_count": 101,
   "metadata": {},
   "outputs": [
    {
     "data": {
      "text/plain": [
       "GaussianNB()"
      ]
     },
     "execution_count": 101,
     "metadata": {},
     "output_type": "execute_result"
    }
   ],
   "source": [
    "gaussianNBModel = GaussianNB()\n",
    "gaussianNBModel.fit(X_train,y_train)"
   ]
  },
  {
   "cell_type": "code",
   "execution_count": 102,
   "metadata": {},
   "outputs": [
    {
     "data": {
      "text/plain": [
       "XGBClassifier(base_score=0.5, booster='gbtree', colsample_bylevel=1,\n",
       "              colsample_bynode=1, colsample_bytree=1, gamma=0, gpu_id=-1,\n",
       "              importance_type='gain', interaction_constraints='',\n",
       "              learning_rate=0.300000012, max_delta_step=0, max_depth=15,\n",
       "              min_child_weight=1, missing=nan, monotone_constraints='()',\n",
       "              n_estimators=10, n_jobs=0, num_parallel_tree=1, random_state=4,\n",
       "              reg_alpha=0, reg_lambda=1, scale_pos_weight=1, seed=4,\n",
       "              subsample=1, tree_method='exact', validate_parameters=1,\n",
       "              verbosity=None)"
      ]
     },
     "execution_count": 102,
     "metadata": {},
     "output_type": "execute_result"
    }
   ],
   "source": [
    "XGB_Classifier = XGBClassifier(objective='binary:logistic',max_depth=15,\n",
    "                         n_estimators=10,seed=4)\n",
    "XGB_Classifier.fit(X_train, y_train)"
   ]
  },
  {
   "cell_type": "markdown",
   "metadata": {},
   "source": [
    "## Accuracy de Modelos"
   ]
  },
  {
   "cell_type": "markdown",
   "metadata": {},
   "source": [
    "De la tabla presentada arriba el accuracy de Regesion Logistica tiene mas sentido, por que evita un sobreajuste como lo hacen KNeighborsClassifier o RandomForestClassifier o GradienteBoostingClassifier y por otro lado SGDClassifier indica un subajuste junto con SVC."
   ]
  },
  {
   "cell_type": "code",
   "execution_count": 103,
   "metadata": {},
   "outputs": [
    {
     "data": {
      "text/html": [
       "<div>\n",
       "<style scoped>\n",
       "    .dataframe tbody tr th:only-of-type {\n",
       "        vertical-align: middle;\n",
       "    }\n",
       "\n",
       "    .dataframe tbody tr th {\n",
       "        vertical-align: top;\n",
       "    }\n",
       "\n",
       "    .dataframe thead th {\n",
       "        text-align: right;\n",
       "    }\n",
       "</style>\n",
       "<table border=\"1\" class=\"dataframe\">\n",
       "  <thead>\n",
       "    <tr style=\"text-align: right;\">\n",
       "      <th></th>\n",
       "      <th>Train Score</th>\n",
       "      <th>Test Score</th>\n",
       "      <th>F1-score</th>\n",
       "    </tr>\n",
       "    <tr>\n",
       "      <th>MODELO</th>\n",
       "      <th></th>\n",
       "      <th></th>\n",
       "      <th></th>\n",
       "    </tr>\n",
       "  </thead>\n",
       "  <tbody>\n",
       "    <tr>\n",
       "      <th>LogisticRegression</th>\n",
       "      <td>0.742969</td>\n",
       "      <td>0.720000</td>\n",
       "      <td>0.775776</td>\n",
       "    </tr>\n",
       "    <tr>\n",
       "      <th>SVC</th>\n",
       "      <td>0.475156</td>\n",
       "      <td>0.469375</td>\n",
       "      <td>0.288349</td>\n",
       "    </tr>\n",
       "    <tr>\n",
       "      <th>KNeighborsClassifier</th>\n",
       "      <td>0.982812</td>\n",
       "      <td>0.930625</td>\n",
       "      <td>0.941854</td>\n",
       "    </tr>\n",
       "    <tr>\n",
       "      <th>DecisionTreeClassifier</th>\n",
       "      <td>0.985313</td>\n",
       "      <td>0.951875</td>\n",
       "      <td>0.959452</td>\n",
       "    </tr>\n",
       "    <tr>\n",
       "      <th>RandomForestClassifier</th>\n",
       "      <td>0.983437</td>\n",
       "      <td>0.955000</td>\n",
       "      <td>0.962145</td>\n",
       "    </tr>\n",
       "    <tr>\n",
       "      <th>GradientBoostingClassifier</th>\n",
       "      <td>0.985313</td>\n",
       "      <td>0.952500</td>\n",
       "      <td>0.959958</td>\n",
       "    </tr>\n",
       "    <tr>\n",
       "      <th>BernoulliNB</th>\n",
       "      <td>0.630156</td>\n",
       "      <td>0.600625</td>\n",
       "      <td>0.624339</td>\n",
       "    </tr>\n",
       "    <tr>\n",
       "      <th>GaussianNB</th>\n",
       "      <td>0.650156</td>\n",
       "      <td>0.630625</td>\n",
       "      <td>0.628536</td>\n",
       "    </tr>\n",
       "    <tr>\n",
       "      <th>XGBClassifier</th>\n",
       "      <td>0.981719</td>\n",
       "      <td>0.946875</td>\n",
       "      <td>0.955567</td>\n",
       "    </tr>\n",
       "    <tr>\n",
       "      <th>SGDClassifier</th>\n",
       "      <td>0.401250</td>\n",
       "      <td>0.405000</td>\n",
       "      <td>0.000000</td>\n",
       "    </tr>\n",
       "  </tbody>\n",
       "</table>\n",
       "</div>"
      ],
      "text/plain": [
       "                            Train Score  Test Score  F1-score\n",
       "MODELO                                                       \n",
       "LogisticRegression             0.742969    0.720000  0.775776\n",
       "SVC                            0.475156    0.469375  0.288349\n",
       "KNeighborsClassifier           0.982812    0.930625  0.941854\n",
       "DecisionTreeClassifier         0.985313    0.951875  0.959452\n",
       "RandomForestClassifier         0.983437    0.955000  0.962145\n",
       "GradientBoostingClassifier     0.985313    0.952500  0.959958\n",
       "BernoulliNB                    0.630156    0.600625  0.624339\n",
       "GaussianNB                     0.650156    0.630625  0.628536\n",
       "XGBClassifier                  0.981719    0.946875  0.955567\n",
       "SGDClassifier                  0.401250    0.405000  0.000000"
      ]
     },
     "execution_count": 103,
     "metadata": {},
     "output_type": "execute_result"
    }
   ],
   "source": [
    "models = [logistic_regression, SVClassifier, KNeighborsModel, decisionTreeModel,\n",
    "          random_forest, gradientBoostingModel, bernoulliNBModel, gaussianNBModel, \n",
    "          XGB_Classifier, SGDClassifier]\n",
    "\n",
    "rows = [[type(model).__name__, model.score(X_train, y_train),\n",
    "         model.score(X_test, y_test),\n",
    "         f1_score(y_test,model.predict(X_test))] for model in models]\n",
    "resultado_1 = pd.DataFrame(rows, columns=[\"MODELO\", \"Train Score\",\"Test Score\", \"F1-score\"])\n",
    "resultado_1 = resultado_1.set_index(\"MODELO\")\n",
    "resultado_1"
   ]
  },
  {
   "cell_type": "markdown",
   "metadata": {},
   "source": [
    "De la tabla mostrada arriba, el modelo elegido por mi sera el de Regression Logistica debido al hecho de que los demas modelos subre un sobreajuste o subajuste. (Aunque realizando mas pruebas con hiperparametros podria obtener mejores resultados)"
   ]
  },
  {
   "cell_type": "markdown",
   "metadata": {},
   "source": [
    "## Métricas"
   ]
  },
  {
   "cell_type": "markdown",
   "metadata": {},
   "source": [
    "### Gini en train y test"
   ]
  },
  {
   "cell_type": "code",
   "execution_count": 105,
   "metadata": {},
   "outputs": [
    {
     "name": "stdout",
     "output_type": "stream",
     "text": [
      "-Gini train: 0.6\n",
      "-Gini test: 0.54\n"
     ]
    }
   ],
   "source": [
    "#Gini:\n",
    "from sklearn.metrics import roc_auc_score\n",
    "gini_train= 2*roc_auc_score(y_train,logistic_regression.predict_proba(X_train.values)[:,1]) -1\n",
    "gini_test= 2*roc_auc_score(y_test,logistic_regression.predict_proba(X_test.values)[:,1]) -1\n",
    "print(\"-Gini train:\", round(gini_train,2))\n",
    "print(\"-Gini test:\", round(gini_test,2))"
   ]
  },
  {
   "cell_type": "markdown",
   "metadata": {},
   "source": [
    "Ajustando el modelo para predicción"
   ]
  },
  {
   "cell_type": "code",
   "execution_count": 107,
   "metadata": {},
   "outputs": [],
   "source": [
    "y_pred = logistic_regression.predict(X_test)"
   ]
  },
  {
   "cell_type": "markdown",
   "metadata": {},
   "source": [
    "### Matriz de confusión"
   ]
  },
  {
   "cell_type": "markdown",
   "metadata": {},
   "source": [
    "Con eso se puede obtener la matriz de confusión"
   ]
  },
  {
   "cell_type": "code",
   "execution_count": 108,
   "metadata": {},
   "outputs": [
    {
     "data": {
      "text/plain": [
       "<matplotlib.axes._subplots.AxesSubplot at 0x1b3fb2ac610>"
      ]
     },
     "execution_count": 108,
     "metadata": {},
     "output_type": "execute_result"
    },
    {
     "data": {
      "image/png": "[encoded data removed]",
      "text/plain": [
       "<Figure size 432x288 with 2 Axes>"
      ]
     },
     "metadata": {
      "needs_background": "light"
     },
     "output_type": "display_data"
    }
   ],
   "source": [
    "import seaborn as sn\n",
    "\n",
    "confusion_matrix = pd.crosstab(y_test, y_pred, rownames=['Actual'], colnames=['Predicción'])\n",
    "sn.heatmap(confusion_matrix, annot=True)"
   ]
  },
  {
   "cell_type": "markdown",
   "metadata": {},
   "source": [
    "Con un threshold=0.5"
   ]
  },
  {
   "cell_type": "code",
   "execution_count": 110,
   "metadata": {},
   "outputs": [
    {
     "data": {
      "text/html": [
       "<div>\n",
       "<style scoped>\n",
       "    .dataframe tbody tr th:only-of-type {\n",
       "        vertical-align: middle;\n",
       "    }\n",
       "\n",
       "    .dataframe tbody tr th {\n",
       "        vertical-align: top;\n",
       "    }\n",
       "\n",
       "    .dataframe thead th {\n",
       "        text-align: right;\n",
       "    }\n",
       "</style>\n",
       "<table border=\"1\" class=\"dataframe\">\n",
       "  <thead>\n",
       "    <tr style=\"text-align: right;\">\n",
       "      <th>Y</th>\n",
       "      <th>0</th>\n",
       "      <th>1</th>\n",
       "    </tr>\n",
       "    <tr>\n",
       "      <th>prediction</th>\n",
       "      <th></th>\n",
       "      <th></th>\n",
       "    </tr>\n",
       "  </thead>\n",
       "  <tbody>\n",
       "    <tr>\n",
       "      <th>0</th>\n",
       "      <td>377</td>\n",
       "      <td>177</td>\n",
       "    </tr>\n",
       "    <tr>\n",
       "      <th>1</th>\n",
       "      <td>271</td>\n",
       "      <td>775</td>\n",
       "    </tr>\n",
       "  </tbody>\n",
       "</table>\n",
       "</div>"
      ],
      "text/plain": [
       "Y             0    1\n",
       "prediction          \n",
       "0           377  177\n",
       "1           271  775"
      ]
     },
     "execution_count": 110,
     "metadata": {},
     "output_type": "execute_result"
    }
   ],
   "source": [
    "#Matriz confusion:\n",
    "probs = logistic_regression.predict_proba(X_test)[:,1:]\n",
    "m=pd.DataFrame(probs,columns = ['Probs'])\n",
    "Y2=y_test.reset_index()\n",
    "Y2['Probs']=m\n",
    "threshold = 0.5\n",
    "Y2[\"prediction\"]=np.where(probs>threshold, 1, 0)\n",
    "confusion_matrix = pd.crosstab(Y2.prediction, Y2.Y)\n",
    "confusion_matrix"
   ]
  },
  {
   "cell_type": "markdown",
   "metadata": {},
   "source": [
    "### Curva ROC"
   ]
  },
  {
   "cell_type": "code",
   "execution_count": 115,
   "metadata": {},
   "outputs": [
    {
     "name": "stderr",
     "output_type": "stream",
     "text": [
      "<ipython-input-115-59d79beed6d1>:8: UserWarning: Matplotlib is currently using agg, which is a non-GUI backend, so cannot show the figure.\n",
      "  plt.show()\n"
     ]
    },
    {
     "data": {
      "image/png": "[encoded data removed]",
      "text/plain": [
       "<Figure size 360x360 with 1 Axes>"
      ]
     },
     "metadata": {},
     "output_type": "display_data"
    }
   ],
   "source": [
    "from plot_metric.functions import BinaryClassification\n",
    "# Visualisation with plot_metric\n",
    "bc = BinaryClassification(Y2[\"Y\"], Y2[\"Probs\"], labels=[\"Class 1\", \"Class 2\"])\n",
    "\n",
    "# Figures\n",
    "plt.figure(figsize=(5,5))\n",
    "bc.plot_roc_curve()\n",
    "plt.show()"
   ]
  },
  {
   "cell_type": "markdown",
   "metadata": {},
   "source": [
    "### Métricas adicionales"
   ]
  },
  {
   "cell_type": "markdown",
   "metadata": {},
   "source": [
    "Tambien algunas metricas importantes de análisis"
   ]
  },
  {
   "cell_type": "code",
   "execution_count": 116,
   "metadata": {},
   "outputs": [
    {
     "name": "stdout",
     "output_type": "stream",
     "text": [
      "72.0 \n",
      "\n",
      "col_0    0    1\n",
      "Y              \n",
      "0      377  271\n",
      "1      177  775 \n",
      "\n",
      "              precision    recall  f1-score   support\n",
      "\n",
      "           0       0.68      0.58      0.63       648\n",
      "           1       0.74      0.81      0.78       952\n",
      "\n",
      "    accuracy                           0.72      1600\n",
      "   macro avg       0.71      0.70      0.70      1600\n",
      "weighted avg       0.72      0.72      0.72      1600\n",
      " \n",
      "\n"
     ]
    }
   ],
   "source": [
    "from sklearn.metrics import accuracy_score,classification_report\n",
    "\n",
    "print(accuracy_score(y_test,y_pred).round(4)*100,'\\n')\n",
    "\n",
    "print(pd.crosstab(y_test,y_pred),'\\n')\n",
    "\n",
    "print(classification_report(y_test,y_pred),'\\n')"
   ]
  },
  {
   "cell_type": "markdown",
   "metadata": {},
   "source": [
    "Se observa que del modelo se obtiene que los resultados de la data de entrenamiento dan valores de 0.74\n",
    "de Accuracy y de 0.6 de Gini. De manera similar se obtiene que para la data de testeo es accuracy es\n",
    "de 0.72 y el Gini de 0.54."
   ]
  },
  {
   "cell_type": "markdown",
   "metadata": {},
   "source": [
    "# APLICACIÓN DE CLUSTERS"
   ]
  },
  {
   "cell_type": "markdown",
   "metadata": {},
   "source": [
    "# K-MEDIAS"
   ]
  },
  {
   "cell_type": "markdown",
   "metadata": {},
   "source": [
    "Es un método de agrupamiento, que tiene como objetivo la partición de un conjunto de n observaciones en k grupos en el que cada observación pertenece al grupo cuyo valor medio es más cercano."
   ]
  },
  {
   "cell_type": "markdown",
   "metadata": {},
   "source": [
    "Importamos las librerias que vamos a utilizar"
   ]
  },
  {
   "cell_type": "code",
   "execution_count": 117,
   "metadata": {},
   "outputs": [],
   "source": [
    "from sklearn.cluster import KMeans"
   ]
  },
  {
   "cell_type": "code",
   "execution_count": 160,
   "metadata": {},
   "outputs": [
    {
     "data": {
      "text/plain": [
       "KMeans(n_clusters=3, random_state=42)"
      ]
     },
     "execution_count": 160,
     "metadata": {},
     "output_type": "execute_result"
    }
   ],
   "source": [
    "#rando_state replicable\n",
    "estimador_kmedias = KMeans(random_state=42, n_clusters=3) #3 cluster por que solo se cuenta con 6 variables\n",
    "\n",
    "estimador_kmedias.fit(X)"
   ]
  },
  {
   "cell_type": "markdown",
   "metadata": {},
   "source": [
    "Dado que es aprendizaje supervisado, nos interesan las clases (los clusters) de los datos de entrenamiento."
   ]
  },
  {
   "cell_type": "code",
   "execution_count": 161,
   "metadata": {},
   "outputs": [
    {
     "data": {
      "text/plain": [
       "array([0, 0, 0, ..., 1, 1, 1])"
      ]
     },
     "execution_count": 161,
     "metadata": {},
     "output_type": "execute_result"
    }
   ],
   "source": [
    "clusters = estimador_kmedias.labels_\n",
    "clusters"
   ]
  },
  {
   "cell_type": "markdown",
   "metadata": {},
   "source": [
    "No obstante, como cualquier estimador, podemos usarlo para asignar clusters a nuevos elementos."
   ]
  },
  {
   "cell_type": "code",
   "execution_count": 162,
   "metadata": {},
   "outputs": [
    {
     "data": {
      "text/plain": [
       "array([0, 0, 0, ..., 1, 1, 1])"
      ]
     },
     "execution_count": 162,
     "metadata": {},
     "output_type": "execute_result"
    }
   ],
   "source": [
    "#misma data\n",
    "estimador_kmedias.predict(X)"
   ]
  },
  {
   "cell_type": "code",
   "execution_count": 163,
   "metadata": {},
   "outputs": [
    {
     "data": {
      "text/html": [
       "<div>\n",
       "<style scoped>\n",
       "    .dataframe tbody tr th:only-of-type {\n",
       "        vertical-align: middle;\n",
       "    }\n",
       "\n",
       "    .dataframe tbody tr th {\n",
       "        vertical-align: top;\n",
       "    }\n",
       "\n",
       "    .dataframe thead th {\n",
       "        text-align: right;\n",
       "    }\n",
       "</style>\n",
       "<table border=\"1\" class=\"dataframe\">\n",
       "  <thead>\n",
       "    <tr style=\"text-align: right;\">\n",
       "      <th></th>\n",
       "      <th>Cluster</th>\n",
       "    </tr>\n",
       "  </thead>\n",
       "  <tbody>\n",
       "    <tr>\n",
       "      <th>0</th>\n",
       "      <td>0</td>\n",
       "    </tr>\n",
       "    <tr>\n",
       "      <th>1</th>\n",
       "      <td>0</td>\n",
       "    </tr>\n",
       "    <tr>\n",
       "      <th>2</th>\n",
       "      <td>0</td>\n",
       "    </tr>\n",
       "    <tr>\n",
       "      <th>3</th>\n",
       "      <td>0</td>\n",
       "    </tr>\n",
       "    <tr>\n",
       "      <th>4</th>\n",
       "      <td>0</td>\n",
       "    </tr>\n",
       "  </tbody>\n",
       "</table>\n",
       "</div>"
      ],
      "text/plain": [
       "   Cluster\n",
       "0        0\n",
       "1        0\n",
       "2        0\n",
       "3        0\n",
       "4        0"
      ]
     },
     "execution_count": 163,
     "metadata": {},
     "output_type": "execute_result"
    }
   ],
   "source": [
    "Target=pd.DataFrame(data=estimador_kmedias.predict(X), columns = ['Cluster'])\n",
    "Target.head()"
   ]
  },
  {
   "cell_type": "markdown",
   "metadata": {},
   "source": [
    "Adjuntamos los clusters al dataframe principal X"
   ]
  },
  {
   "cell_type": "code",
   "execution_count": 164,
   "metadata": {},
   "outputs": [
    {
     "data": {
      "text/html": [
       "<div>\n",
       "<style scoped>\n",
       "    .dataframe tbody tr th:only-of-type {\n",
       "        vertical-align: middle;\n",
       "    }\n",
       "\n",
       "    .dataframe tbody tr th {\n",
       "        vertical-align: top;\n",
       "    }\n",
       "\n",
       "    .dataframe thead th {\n",
       "        text-align: right;\n",
       "    }\n",
       "</style>\n",
       "<table border=\"1\" class=\"dataframe\">\n",
       "  <thead>\n",
       "    <tr style=\"text-align: right;\">\n",
       "      <th></th>\n",
       "      <th>X2</th>\n",
       "      <th>Center</th>\n",
       "      <th>X16</th>\n",
       "      <th>X9</th>\n",
       "      <th>Loc</th>\n",
       "      <th>dieSize</th>\n",
       "      <th>Donut</th>\n",
       "      <th>Cluster</th>\n",
       "    </tr>\n",
       "  </thead>\n",
       "  <tbody>\n",
       "    <tr>\n",
       "      <th>0</th>\n",
       "      <td>1.477667</td>\n",
       "      <td>0.012218</td>\n",
       "      <td>0.924183</td>\n",
       "      <td>105.0</td>\n",
       "      <td>5.125390e-07</td>\n",
       "      <td>1507.0</td>\n",
       "      <td>5.778933e-10</td>\n",
       "      <td>0</td>\n",
       "    </tr>\n",
       "    <tr>\n",
       "      <th>1</th>\n",
       "      <td>1.477667</td>\n",
       "      <td>0.012218</td>\n",
       "      <td>0.924183</td>\n",
       "      <td>105.0</td>\n",
       "      <td>1.960759e-05</td>\n",
       "      <td>1129.0</td>\n",
       "      <td>1.084093e-06</td>\n",
       "      <td>0</td>\n",
       "    </tr>\n",
       "    <tr>\n",
       "      <th>2</th>\n",
       "      <td>1.477667</td>\n",
       "      <td>0.012218</td>\n",
       "      <td>0.924183</td>\n",
       "      <td>200.0</td>\n",
       "      <td>1.081706e-04</td>\n",
       "      <td>776.0</td>\n",
       "      <td>6.231705e-07</td>\n",
       "      <td>0</td>\n",
       "    </tr>\n",
       "    <tr>\n",
       "      <th>3</th>\n",
       "      <td>1.477667</td>\n",
       "      <td>0.012218</td>\n",
       "      <td>0.924183</td>\n",
       "      <td>200.0</td>\n",
       "      <td>4.475594e-04</td>\n",
       "      <td>776.0</td>\n",
       "      <td>2.046773e-05</td>\n",
       "      <td>0</td>\n",
       "    </tr>\n",
       "    <tr>\n",
       "      <th>4</th>\n",
       "      <td>1.477667</td>\n",
       "      <td>0.012218</td>\n",
       "      <td>0.924183</td>\n",
       "      <td>200.0</td>\n",
       "      <td>3.271907e-04</td>\n",
       "      <td>776.0</td>\n",
       "      <td>2.869377e-06</td>\n",
       "      <td>0</td>\n",
       "    </tr>\n",
       "  </tbody>\n",
       "</table>\n",
       "</div>"
      ],
      "text/plain": [
       "         X2    Center       X16     X9           Loc  dieSize         Donut  \\\n",
       "0  1.477667  0.012218  0.924183  105.0  5.125390e-07   1507.0  5.778933e-10   \n",
       "1  1.477667  0.012218  0.924183  105.0  1.960759e-05   1129.0  1.084093e-06   \n",
       "2  1.477667  0.012218  0.924183  200.0  1.081706e-04    776.0  6.231705e-07   \n",
       "3  1.477667  0.012218  0.924183  200.0  4.475594e-04    776.0  2.046773e-05   \n",
       "4  1.477667  0.012218  0.924183  200.0  3.271907e-04    776.0  2.869377e-06   \n",
       "\n",
       "   Cluster  \n",
       "0        0  \n",
       "1        0  \n",
       "2        0  \n",
       "3        0  \n",
       "4        0  "
      ]
     },
     "execution_count": 164,
     "metadata": {},
     "output_type": "execute_result"
    }
   ],
   "source": [
    "X_2=pd.concat([X, Target], axis=1)\n",
    "X_2.head()"
   ]
  },
  {
   "cell_type": "markdown",
   "metadata": {},
   "source": [
    "La relacion para obtener la agrupación es basicamente entre la medida del troncal 'dieSize' y el tipo de oblea que puede ser de tipo 'Center', 'Loc', y 'Donut'"
   ]
  },
  {
   "cell_type": "code",
   "execution_count": 165,
   "metadata": {},
   "outputs": [
    {
     "data": {
      "text/plain": [
       "<matplotlib.collections.PathCollection at 0x1b38c152a90>"
      ]
     },
     "execution_count": 165,
     "metadata": {},
     "output_type": "execute_result"
    },
    {
     "data": {
      "image/png": "[encoded data removed]",
      "text/plain": [
       "<Figure size 1008x1008 with 1 Axes>"
      ]
     },
     "metadata": {},
     "output_type": "display_data"
    }
   ],
   "source": [
    "plt.scatter(X_2[\"Center\"], X_2[\"dieSize\"], c = X_2[\"Cluster\"], s = 50, cmap=\"autumn\")"
   ]
  },
  {
   "cell_type": "markdown",
   "metadata": {},
   "source": [
    "Ahora proseguimos a calcular los centroides"
   ]
  },
  {
   "cell_type": "code",
   "execution_count": 166,
   "metadata": {},
   "outputs": [
    {
     "data": {
      "text/plain": [
       "array([[ 2.51160644e-02,  3.83911289e-03,  2.72312279e-02,\n",
       "         1.72422306e+02,  2.18438746e-03,  8.99894124e+02,\n",
       "         8.05900671e-06],\n",
       "       [ 2.45105887e-01,  5.52030640e-04,  1.12657864e-01,\n",
       "         1.76075448e+02,  5.50831178e-04,  2.35904220e+03,\n",
       "         1.86182662e-06],\n",
       "       [-3.41045888e-02,  1.79564711e-03,  1.63418008e-01,\n",
       "         1.91582638e+02,  1.36329721e-03,  4.26964441e+03,\n",
       "         3.16060499e-06]])"
      ]
     },
     "execution_count": 166,
     "metadata": {},
     "output_type": "execute_result"
    }
   ],
   "source": [
    "centroides = estimador_kmedias.cluster_centers_\n",
    "centroides"
   ]
  },
  {
   "cell_type": "code",
   "execution_count": 167,
   "metadata": {},
   "outputs": [
    {
     "data": {
      "text/plain": [
       "(3, 7)"
      ]
     },
     "execution_count": 167,
     "metadata": {},
     "output_type": "execute_result"
    }
   ],
   "source": [
    "centroides.shape"
   ]
  },
  {
   "cell_type": "markdown",
   "metadata": {},
   "source": [
    "Podemos ver también la inercia final de los cluster"
   ]
  },
  {
   "cell_type": "code",
   "execution_count": 168,
   "metadata": {},
   "outputs": [
    {
     "data": {
      "text/plain": [
       "1098875271.4366107"
      ]
     },
     "execution_count": 168,
     "metadata": {},
     "output_type": "execute_result"
    }
   ],
   "source": [
    "estimador_kmedias.inertia_"
   ]
  },
  {
   "cell_type": "markdown",
   "metadata": {},
   "source": [
    "Se obtubo una relacion muy extraña eso debe ser debido a que no se encuentran muy aglomerados entre si."
   ]
  },
  {
   "cell_type": "markdown",
   "metadata": {},
   "source": [
    "Una pequeña acotación sobre los hiperparámetros más importantes del algoritmo `KMeans`:\n",
    "\n",
    "- **n_clusters**: El número de clusters a crear, o sea **K**. Por defecto es 8\n",
    "- **max_iter**: Máximo número de iteraciones para llegar al criterio de parada.\n",
    "- **tol**: Tolerancia para declarar criterio de parada (cuanto más grande, antes parará el algoritmo).\n"
   ]
  },
  {
   "cell_type": "code",
   "execution_count": 169,
   "metadata": {},
   "outputs": [],
   "source": [
    "from sklearn.metrics import euclidean_distances"
   ]
  },
  {
   "cell_type": "code",
   "execution_count": 170,
   "metadata": {},
   "outputs": [
    {
     "data": {
      "text/plain": [
       "array([[   0.        , 1459.1526679 , 3369.80475911],\n",
       "       [1459.1526679 ,    0.        , 1910.66515909],\n",
       "       [3369.80475911, 1910.66515909,    0.        ]])"
      ]
     },
     "execution_count": 170,
     "metadata": {},
     "output_type": "execute_result"
    }
   ],
   "source": [
    "distancias_centroides = euclidean_distances(centroides)\n",
    "distancias_centroides"
   ]
  },
  {
   "cell_type": "code",
   "execution_count": 171,
   "metadata": {},
   "outputs": [
    {
     "data": {
      "text/plain": [
       "[(2, 3369.8047591134437), (2, 1910.6651590878732), (0, 3369.8047591134437)]"
      ]
     },
     "execution_count": 171,
     "metadata": {},
     "output_type": "execute_result"
    }
   ],
   "source": [
    "list(zip(np.argmax(distancias_centroides, axis=1), np.max(distancias_centroides, axis=1)))"
   ]
  },
  {
   "cell_type": "markdown",
   "metadata": {},
   "source": [
    "Definiremos una funcion para k-means y para un resumen de grafico clustering"
   ]
  },
  {
   "cell_type": "code",
   "execution_count": 172,
   "metadata": {},
   "outputs": [],
   "source": [
    "def kmeans_cluster(df, n_clusters=2):\n",
    "    model = KMeans(n_clusters=n_clusters, random_state=42)\n",
    "    clusters = model.fit_predict(df)\n",
    "    cluster_results = df.copy()\n",
    "    cluster_results['Cluster'] = clusters\n",
    "    return cluster_results\n",
    "\n",
    "def resumen_grafico_clustering(results):\n",
    "    cluster_size = results.groupby(['Cluster']).size().reset_index()\n",
    "    cluster_size.columns = ['Cluster', 'Count']\n",
    "    cluster_means = results.groupby(['Cluster'], as_index=False).mean()\n",
    "    cluster_summary = pd.merge(cluster_size, cluster_means, on='Cluster')\n",
    "    cluster_summary = cluster_summary.drop([\"Count\"], axis=1).set_index(\"Cluster\")\n",
    "    return cluster_summary[sorted(cluster_summary.columns)]"
   ]
  },
  {
   "cell_type": "code",
   "execution_count": 177,
   "metadata": {},
   "outputs": [],
   "source": [
    "cluster_results = kmeans_cluster(X_2, 3)\n",
    "cluster_summary = resumen_grafico_clustering(cluster_results)"
   ]
  },
  {
   "cell_type": "code",
   "execution_count": 178,
   "metadata": {},
   "outputs": [
    {
     "data": {
      "text/html": [
       "<div>\n",
       "<style scoped>\n",
       "    .dataframe tbody tr th:only-of-type {\n",
       "        vertical-align: middle;\n",
       "    }\n",
       "\n",
       "    .dataframe tbody tr th {\n",
       "        vertical-align: top;\n",
       "    }\n",
       "\n",
       "    .dataframe thead th {\n",
       "        text-align: right;\n",
       "    }\n",
       "</style>\n",
       "<table border=\"1\" class=\"dataframe\">\n",
       "  <thead>\n",
       "    <tr style=\"text-align: right;\">\n",
       "      <th></th>\n",
       "      <th>Center</th>\n",
       "      <th>Donut</th>\n",
       "      <th>Loc</th>\n",
       "      <th>X16</th>\n",
       "      <th>X2</th>\n",
       "      <th>X9</th>\n",
       "      <th>dieSize</th>\n",
       "    </tr>\n",
       "    <tr>\n",
       "      <th>Cluster</th>\n",
       "      <th></th>\n",
       "      <th></th>\n",
       "      <th></th>\n",
       "      <th></th>\n",
       "      <th></th>\n",
       "      <th></th>\n",
       "      <th></th>\n",
       "    </tr>\n",
       "  </thead>\n",
       "  <tbody>\n",
       "    <tr>\n",
       "      <th>0</th>\n",
       "      <td>0.003839</td>\n",
       "      <td>0.000008</td>\n",
       "      <td>0.002184</td>\n",
       "      <td>0.027231</td>\n",
       "      <td>0.025116</td>\n",
       "      <td>172.422306</td>\n",
       "      <td>899.894124</td>\n",
       "    </tr>\n",
       "    <tr>\n",
       "      <th>1</th>\n",
       "      <td>0.000552</td>\n",
       "      <td>0.000002</td>\n",
       "      <td>0.000551</td>\n",
       "      <td>0.112658</td>\n",
       "      <td>0.245106</td>\n",
       "      <td>176.075448</td>\n",
       "      <td>2359.042199</td>\n",
       "    </tr>\n",
       "    <tr>\n",
       "      <th>2</th>\n",
       "      <td>0.001796</td>\n",
       "      <td>0.000003</td>\n",
       "      <td>0.001363</td>\n",
       "      <td>0.163418</td>\n",
       "      <td>-0.034105</td>\n",
       "      <td>191.582638</td>\n",
       "      <td>4269.644407</td>\n",
       "    </tr>\n",
       "  </tbody>\n",
       "</table>\n",
       "</div>"
      ],
      "text/plain": [
       "           Center     Donut       Loc       X16        X2          X9  \\\n",
       "Cluster                                                                 \n",
       "0        0.003839  0.000008  0.002184  0.027231  0.025116  172.422306   \n",
       "1        0.000552  0.000002  0.000551  0.112658  0.245106  176.075448   \n",
       "2        0.001796  0.000003  0.001363  0.163418 -0.034105  191.582638   \n",
       "\n",
       "             dieSize  \n",
       "Cluster               \n",
       "0         899.894124  \n",
       "1        2359.042199  \n",
       "2        4269.644407  "
      ]
     },
     "execution_count": 178,
     "metadata": {},
     "output_type": "execute_result"
    }
   ],
   "source": [
    "cluster_summary"
   ]
  },
  {
   "cell_type": "markdown",
   "metadata": {},
   "source": [
    "Para visualizar mejor vamos a graficar una matrix de correlacion"
   ]
  },
  {
   "cell_type": "code",
   "execution_count": 179,
   "metadata": {},
   "outputs": [],
   "source": [
    "plt.rcParams['figure.figsize'] = [14, 14]"
   ]
  },
  {
   "cell_type": "code",
   "execution_count": 180,
   "metadata": {},
   "outputs": [
    {
     "data": {
      "image/png": "[encoded data removed]",
      "text/plain": [
       "<Figure size 1008x1008 with 2 Axes>"
      ]
     },
     "metadata": {},
     "output_type": "display_data"
    }
   ],
   "source": [
    "import seaborn as sns\n",
    "sns.heatmap(cluster_summary.transpose(), annot=True,cmap=\"YlGnBu\");"
   ]
  },
  {
   "cell_type": "markdown",
   "metadata": {},
   "source": [
    "Esta matriz indica para 3 clusters hay una fuer correlacion entre 'dieSize' y que los datos son mayoes en comparación con las demas variables"
   ]
  },
  {
   "cell_type": "markdown",
   "metadata": {},
   "source": [
    "### MiniBatchKMeans"
   ]
  },
  {
   "cell_type": "markdown",
   "metadata": {},
   "source": [
    "Ahora vamos a probar con otro metodo parecido para comparar su velocidad de respuesta"
   ]
  },
  {
   "cell_type": "markdown",
   "metadata": {},
   "source": [
    "\n",
    "`scikit-learn` tiene una implementación distinta del algoritmo K-medias, llamada `MiniBatchKMeans`. Esta implementación procesa el dataset por bloques, y permite hacer análisis de clusters con datasets que no cabrían en memoria completamente. Funciona de forma más rapida que `KMeans` con el coste de potencialmente producir clusters con una inercia mayor.\n",
    "\n",
    "La api es la misma, simplemente toma un parámetro adicional `batch_size` que indica cuantos elementos tomar en cada bloque."
   ]
  },
  {
   "cell_type": "code",
   "execution_count": 183,
   "metadata": {},
   "outputs": [],
   "source": [
    "from sklearn.cluster import MiniBatchKMeans"
   ]
  },
  {
   "cell_type": "code",
   "execution_count": 196,
   "metadata": {},
   "outputs": [
    {
     "name": "stdout",
     "output_type": "stream",
     "text": [
      "91.3 ms ± 2.31 ms per loop (mean ± std. dev. of 7 runs, 1 loop each)\n"
     ]
    }
   ],
   "source": [
    "%%timeit -n 1\n",
    "estimador_kmedias = KMeans(random_state=42, n_clusters=3).fit(X_2)"
   ]
  },
  {
   "cell_type": "markdown",
   "metadata": {},
   "source": [
    "Es rapido comparado a k-means"
   ]
  },
  {
   "cell_type": "code",
   "execution_count": 197,
   "metadata": {},
   "outputs": [
    {
     "data": {
      "text/plain": [
       "1098875271.4366107"
      ]
     },
     "execution_count": 197,
     "metadata": {},
     "output_type": "execute_result"
    }
   ],
   "source": [
    "estimador_kmedias.inertia_"
   ]
  },
  {
   "cell_type": "code",
   "execution_count": 198,
   "metadata": {},
   "outputs": [
    {
     "name": "stdout",
     "output_type": "stream",
     "text": [
      "The slowest run took 6.73 times longer than the fastest. This could mean that an intermediate result is being cached.\n",
      "75.3 ms ± 74.5 ms per loop (mean ± std. dev. of 7 runs, 1 loop each)\n"
     ]
    }
   ],
   "source": [
    "%%timeit -n 1\n",
    "estimador_kmedias_2 = MiniBatchKMeans(random_state=42, n_clusters=3).fit(X_2)\n",
    "estimador_kmedias_2"
   ]
  },
  {
   "cell_type": "code",
   "execution_count": 202,
   "metadata": {},
   "outputs": [
    {
     "data": {
      "text/plain": [
       "MiniBatchKMeans(n_clusters=3, random_state=42)"
      ]
     },
     "execution_count": 202,
     "metadata": {},
     "output_type": "execute_result"
    }
   ],
   "source": [
    "# recomendacion del profesor- para big data es mas optima a nivel de procesamiento\n",
    "estimador_kmedias_2 = MiniBatchKMeans(random_state=42, n_clusters=3).fit(X_2)\n",
    "estimador_kmedias_2"
   ]
  },
  {
   "cell_type": "code",
   "execution_count": 203,
   "metadata": {},
   "outputs": [
    {
     "data": {
      "text/plain": [
       "1159934136.5735626"
      ]
     },
     "execution_count": 203,
     "metadata": {},
     "output_type": "execute_result"
    }
   ],
   "source": [
    "estimador_kmedias_2.inertia_"
   ]
  },
  {
   "cell_type": "code",
   "execution_count": 204,
   "metadata": {},
   "outputs": [
    {
     "data": {
      "text/plain": [
       "1.055564873215435"
      ]
     },
     "execution_count": 204,
     "metadata": {},
     "output_type": "execute_result"
    }
   ],
   "source": [
    "#se ganos algo mas en el procesamiento\n",
    "estimador_kmedias_2.inertia_/estimador_kmedias.inertia_"
   ]
  },
  {
   "cell_type": "markdown",
   "metadata": {},
   "source": [
    "Vemos que MiniBatchKMeans produce unos clusters con un 8% más de inercia. En este caso no hay mejora de tiempo por que el dataset es pequeño (36,000 observaciones)."
   ]
  },
  {
   "cell_type": "markdown",
   "metadata": {},
   "source": [
    "# Elección de K\n",
    "\n",
    "Hay varias opciones para elegir K\n",
    "\n",
    "**1.Conocimiento de dominio**\n",
    "A veces es posible tomar una decisión razonable a priori respecto al número de clusters que queremos. Por ejemplo, si queremos hacer una campaña de marketing podemos definir a priori cuantas clases desearíamos tener\n",
    "\n",
    "**2. Decisión de negocio**\n",
    "Hay veces que la decisión del número de clusters viene dada por el negocio. Por ejemplo, supongamos que estamos agrupando un conjunto de invitados a un banquete. En ese caso el valor de K vendría dado por el número disponible de mesas.\n",
    "\n",
    "**3.Método del codo**\n",
    "El método del codo usa como métrica el porcentaje de la varianza explicado como factor respecto al número de clusters. Se intenta buscar aquel número de clusters donde el añadir un cluster más no aumente demasiado dicho porcentaje (es decir, el \"codo\" de la gráfica que representa esto implica llegar al punto de ganancias decrecientes, donde añadir un cluster nuevo no reduce la varianza de forma significativa.\n",
    "El porcentaje de la varianza se representa como la variance entre grupos dividida de la varianza total"
   ]
  },
  {
   "cell_type": "code",
   "execution_count": 205,
   "metadata": {},
   "outputs": [],
   "source": [
    "from scipy.spatial.distance import cdist"
   ]
  },
  {
   "cell_type": "code",
   "execution_count": 206,
   "metadata": {},
   "outputs": [
    {
     "data": {
      "text/plain": [
       "6350935.231446861"
      ]
     },
     "execution_count": 206,
     "metadata": {},
     "output_type": "execute_result"
    }
   ],
   "source": [
    "varianza_total = cdist(XA=X_2, XB=np.array([X_2.mean()]))\n",
    "suma_varianza_total = varianza_total.sum()\n",
    "suma_varianza_total"
   ]
  },
  {
   "cell_type": "markdown",
   "metadata": {},
   "source": [
    "Ahora creamos funciones para calcular varianza intra cluster (wss) y la medida de varianza explicada (definida como la reduccion de la varianza en porcentaje respecto a la varianza máxima (que sería la varianza para k=1)."
   ]
  },
  {
   "cell_type": "code",
   "execution_count": 207,
   "metadata": {},
   "outputs": [],
   "source": [
    "def varianza_cluster(cluster_id, centroide_cluster, etiquetas_clusters):\n",
    "    elementos_cluster = X_2[etiquetas_clusters==cluster_id]\n",
    "    return cdist(XA=elementos_cluster, XB=np.array([centroide_cluster])).sum()\n",
    "\n",
    "def medida_varianza(estimador_kmedias, suma_varianza_total):\n",
    "    etiquetas_clusters = estimador_kmedias.labels_\n",
    "    wss = 0\n",
    "    for i, cluster_id in enumerate(np.unique(etiquetas_clusters)):\n",
    "        centroide_cluster = estimador_kmedias.cluster_centers_[i]\n",
    "        wss += varianza_cluster(cluster_id, centroide_cluster, etiquetas_clusters)\n",
    "    return (suma_varianza_total-wss) / suma_varianza_total"
   ]
  },
  {
   "cell_type": "markdown",
   "metadata": {},
   "source": [
    "#### Utilizamos ahora otra medida de evaluación que simplemente usa la inercia"
   ]
  },
  {
   "cell_type": "code",
   "execution_count": 208,
   "metadata": {},
   "outputs": [],
   "source": [
    "def medida_inercia(estimador_kmedias):\n",
    "    return estimador_kmedias.inertia_"
   ]
  },
  {
   "cell_type": "code",
   "execution_count": 209,
   "metadata": {},
   "outputs": [],
   "source": [
    "def evaluar_k_kmedias(k, medida, **kwargs):\n",
    "    if medida==\"inercia\":\n",
    "        funcion_medida = medida_inercia\n",
    "    elif medida==\"varianza\":\n",
    "        funcion_medida = medida_varianza\n",
    "        \n",
    "    estimador_kmedias = KMeans(random_state=42, n_clusters=k)\n",
    "    estimador_kmedias.fit(X_2)\n",
    "    return funcion_medida(estimador_kmedias, **kwargs)"
   ]
  },
  {
   "cell_type": "code",
   "execution_count": 211,
   "metadata": {},
   "outputs": [],
   "source": [
    "resultados_k = {}\n",
    "rango_k = [1, 3, 6, 9, 12, 15, 18, 21, 24]\n",
    "for k in rango_k:\n",
    "    resultados_k[k] = evaluar_k_kmedias(k, \n",
    "                                \"inercia\"), evaluar_k_kmedias(k, \"varianza\", \n",
    "                                                              suma_varianza_total=suma_varianza_total)"
   ]
  },
  {
   "cell_type": "markdown",
   "metadata": {},
   "source": [
    "Ahora los resultados"
   ]
  },
  {
   "cell_type": "code",
   "execution_count": 212,
   "metadata": {},
   "outputs": [
    {
     "data": {
      "text/plain": [
       "{1: (8918907909.827213, -1.3197903719811283e-15),\n",
       " 3: (1098875271.4366107, 0.5878285122459299),\n",
       " 6: (212864597.24681732, 0.8333001787812214),\n",
       " 9: (77673188.68020031, 0.8967617905836675),\n",
       " 12: (48750071.64335397, 0.9166101849651587),\n",
       " 15: (33194090.05632227, 0.9318308458890999),\n",
       " 18: (26875298.426417537, 0.9391031142302312),\n",
       " 21: (22752907.07899649, 0.9438524375778182),\n",
       " 24: (19054222.21549328, 0.9513689085054451)}"
      ]
     },
     "execution_count": 212,
     "metadata": {},
     "output_type": "execute_result"
    }
   ],
   "source": [
    "resultados_k\n",
    "#columna 2 es la varianza"
   ]
  },
  {
   "cell_type": "markdown",
   "metadata": {},
   "source": [
    "Ahora hacemos una gráfica para ver donde está el \"codo\" de forma aproximada."
   ]
  },
  {
   "cell_type": "code",
   "execution_count": 213,
   "metadata": {},
   "outputs": [
    {
     "data": {
      "image/png": "[encoded data removed]",
      "text/plain": [
       "<Figure size 1008x1008 with 2 Axes>"
      ]
     },
     "metadata": {},
     "output_type": "display_data"
    }
   ],
   "source": [
    "fig, ax1 = plt.subplots()\n",
    "\n",
    "ax1.plot(\n",
    "    [c[0] for c in resultados_k.items()],\n",
    "    [c[1][0] for c in resultados_k.items()], label=\"inercia\", color=\"red\")\n",
    "ax1.set_ylabel('inercia')\n",
    "\n",
    "ax2 = ax1.twinx()\n",
    "ax2.plot(\n",
    "    [c[0] for c in resultados_k.items()],\n",
    "    [c[1][1] for c in resultados_k.items()], label=\"varianza\")\n",
    "ax2.set_ylabel('var explicada')\n",
    "\n",
    "plt.xlabel(\"K\")\n",
    "plt.legend()\n",
    "plt.title(\"Variación de inercia/varianza respecto a K\");"
   ]
  },
  {
   "cell_type": "markdown",
   "metadata": {},
   "source": [
    "Para este caso en concreto, un valor de K=3 o 5, podria ser una buena opción si no hubiese ningún otro requisito."
   ]
  },
  {
   "cell_type": "markdown",
   "metadata": {},
   "source": [
    "### Medidas de evaluación externa"
   ]
  },
  {
   "cell_type": "markdown",
   "metadata": {},
   "source": [
    "### Indice de RAND"
   ]
  },
  {
   "cell_type": "code",
   "execution_count": 214,
   "metadata": {},
   "outputs": [],
   "source": [
    "#evaluacion con un target particular\n",
    "from sklearn.metrics import homogeneity_completeness_v_measure, adjusted_rand_score"
   ]
  },
  {
   "cell_type": "markdown",
   "metadata": {},
   "source": [
    "homogeneidad, la completación y la medida v (0 a 1)"
   ]
  },
  {
   "cell_type": "markdown",
   "metadata": {},
   "source": [
    "Ahora seleccionamos la clase que en este caso seria Y"
   ]
  },
  {
   "cell_type": "code",
   "execution_count": 216,
   "metadata": {},
   "outputs": [
    {
     "data": {
      "text/plain": [
       "(0.02769561319717118, 0.025111247442742426, 0.026340190939015302)"
      ]
     },
     "execution_count": 216,
     "metadata": {},
     "output_type": "execute_result"
    }
   ],
   "source": [
    "#clase (real) cluster la (prediccion)\n",
    "homogeneity_completeness_v_measure(y, X_2[\"Cluster\"])"
   ]
  },
  {
   "cell_type": "markdown",
   "metadata": {},
   "source": [
    "Mas altos estos valores resultan mejores"
   ]
  },
  {
   "cell_type": "code",
   "execution_count": 217,
   "metadata": {},
   "outputs": [
    {
     "data": {
      "text/plain": [
       "array([0, 1], dtype=int64)"
      ]
     },
     "execution_count": 217,
     "metadata": {},
     "output_type": "execute_result"
    }
   ],
   "source": [
    "np.unique(y)"
   ]
  },
  {
   "cell_type": "markdown",
   "metadata": {},
   "source": [
    "Por tanto EL INDICE DE RAND SERA:"
   ]
  },
  {
   "cell_type": "code",
   "execution_count": 218,
   "metadata": {},
   "outputs": [
    {
     "data": {
      "text/plain": [
       "-0.015047060664630123"
      ]
     },
     "execution_count": 218,
     "metadata": {},
     "output_type": "execute_result"
    }
   ],
   "source": [
    "adjusted_rand_score(y, X_2[\"Cluster\"])"
   ]
  },
  {
   "cell_type": "markdown",
   "metadata": {},
   "source": [
    "#### Cuya validación es:"
   ]
  },
  {
   "cell_type": "code",
   "execution_count": 219,
   "metadata": {},
   "outputs": [],
   "source": [
    "from sklearn.model_selection import cross_val_score"
   ]
  },
  {
   "cell_type": "code",
   "execution_count": 221,
   "metadata": {},
   "outputs": [
    {
     "data": {
      "text/plain": [
       "-0.02817013831265692"
      ]
     },
     "execution_count": 221,
     "metadata": {},
     "output_type": "execute_result"
    }
   ],
   "source": [
    "resultados = cross_val_score(X=X_2, y=y, estimator=KMeans(n_clusters=3), \n",
    "                             scoring=\"adjusted_rand_score\", cv=5)\n",
    "resultados.mean()"
   ]
  },
  {
   "cell_type": "markdown",
   "metadata": {},
   "source": [
    "El hecho que sea indice de Rand negativo dice que el acuerdo es menor de lo que se espera de un resultado aleatorio. Esto significa que los resultados son 'ortogonales' o 'complementarios' hasta cierto punto.\n",
    "\n",
    "Pero esto no debería suceder a menudo, a menos que busque deliberadamente agrupaciones alternativas. ¿Quizás hay un error de implementación."
   ]
  },
  {
   "cell_type": "markdown",
   "metadata": {},
   "source": [
    "### Medidas de evaluación interna"
   ]
  },
  {
   "cell_type": "markdown",
   "metadata": {},
   "source": [
    "### Calculo del Indice SILUETA"
   ]
  },
  {
   "cell_type": "code",
   "execution_count": 222,
   "metadata": {},
   "outputs": [],
   "source": [
    "from sklearn.metrics import silhouette_score"
   ]
  },
  {
   "cell_type": "code",
   "execution_count": 223,
   "metadata": {},
   "outputs": [],
   "source": [
    "try:\n",
    "    from sklearn.metrics import calinski_harabasz_score\n",
    "except ImportError:\n",
    "    from sklearn.metrics import calinski_harabaz_score"
   ]
  },
  {
   "cell_type": "code",
   "execution_count": 224,
   "metadata": {},
   "outputs": [
    {
     "name": "stdout",
     "output_type": "stream",
     "text": [
      "El indice de silueta será:  0.6747172161463272\n"
     ]
    }
   ],
   "source": [
    "print(\"El indice de silueta será: \",silhouette_score(X_2, X_2[\"Cluster\"]))\n",
    "#más grande mejor 0 a 1"
   ]
  },
  {
   "cell_type": "markdown",
   "metadata": {},
   "source": [
    "\n",
    "La métrica de calinski-Harabaz (calinski-harabaz-score)es otra medida de evaluación interna. Nos da una medida de la dispersión dentro de un cluster y de la separación entre clusters. La diferencia con el coeficiente de silueta es que es más eficiente de calcular."
   ]
  },
  {
   "cell_type": "code",
   "execution_count": 225,
   "metadata": {},
   "outputs": [
    {
     "data": {
      "text/plain": [
       "28454.91323480797"
      ]
     },
     "execution_count": 225,
     "metadata": {},
     "output_type": "execute_result"
    }
   ],
   "source": [
    "calinski_harabasz_score(X_2, X_2[\"Cluster\"]) # Mayor es mejor"
   ]
  },
  {
   "cell_type": "markdown",
   "metadata": {},
   "source": [
    " En principio se verifico que el Conjunto de datos proporcionados no tenian valores Missing, luego se procedio a normalizar los valores por ser inerente para el uso de K-medias. Por otro lado, se comprobo para \"Centerr\" y \"dieSize\" por ser variables representativas para analisis de fallas en obleas y aprobación del sistema de manufactura.\n",
    "\n",
    "Se realizó algunos cálculos iniciales para poder obtener algunos parametros de importancia tales como:\n",
    " - El calculo de indice de Rand es del orden de: -0.015\n",
    " - El calculo del coeficiente de silueta es del orden de: 0.67\n",
    "\n",
    "Para una trabajo futuro y mas elaborado se debe escoger las variables que sean mas coherente entre si.\n",
    " "
   ]
  },
  {
   "cell_type": "markdown",
   "metadata": {},
   "source": [
    "## APLICANDO DBSCAN"
   ]
  },
  {
   "cell_type": "markdown",
   "metadata": {},
   "source": [
    "Primero elegimos los mejores parametros"
   ]
  },
  {
   "cell_type": "code",
   "execution_count": 226,
   "metadata": {},
   "outputs": [],
   "source": [
    "from sklearn.cluster import KMeans, DBSCAN \n",
    "from sklearn import metrics\n",
    "from IPython.display import Markdown\n",
    "from sklearn.decomposition import PCA"
   ]
  },
  {
   "cell_type": "code",
   "execution_count": 227,
   "metadata": {},
   "outputs": [],
   "source": [
    "mejores_params = {'eps': 4.9856603649238247, 'min_samples':6, 'p': 1}"
   ]
  },
  {
   "cell_type": "code",
   "execution_count": 228,
   "metadata": {},
   "outputs": [],
   "source": [
    "estimador_dbscan = DBSCAN(n_jobs=-1, **mejores_params)\n",
    "etiquetas_dbscan = estimador_dbscan.fit(X).labels_"
   ]
  },
  {
   "cell_type": "markdown",
   "metadata": {},
   "source": [
    "### Calculo de indice de silueta"
   ]
  },
  {
   "cell_type": "code",
   "execution_count": 229,
   "metadata": {},
   "outputs": [
    {
     "name": "stdout",
     "output_type": "stream",
     "text": [
      "El Coeficiente de Silhouette es: 0.734\n"
     ]
    }
   ],
   "source": [
    "print(\"El Coeficiente de Silhouette es: %0.3f\"\n",
    "      % metrics.silhouette_score(X, etiquetas_dbscan))"
   ]
  },
  {
   "cell_type": "code",
   "execution_count": 230,
   "metadata": {},
   "outputs": [
    {
     "data": {
      "text/plain": [
       "array([ -1,  -1,   0, ..., 128, 128, 128], dtype=int64)"
      ]
     },
     "execution_count": 230,
     "metadata": {},
     "output_type": "execute_result"
    }
   ],
   "source": [
    "etiquetas_dbscan"
   ]
  },
  {
   "cell_type": "markdown",
   "metadata": {},
   "source": [
    "### Cálculo de valores unicos -1\n"
   ]
  },
  {
   "cell_type": "code",
   "execution_count": 231,
   "metadata": {},
   "outputs": [
    {
     "data": {
      "text/markdown": [
       "Los cantidad de valores encontrados son: {-1: 837, 0: 58, 1: 74, 2: 26, 3: 10, 4: 15, 5: 21, 6: 27, 7: 56, 8: 10, 9: 70, 10: 332, 11: 6, 12: 16, 13: 10, 14: 78, 15: 6, 16: 24, 17: 7, 18: 7, 19: 45, 20: 17, 21: 17, 22: 16, 23: 29, 24: 44, 25: 7, 26: 10, 27: 379, 28: 93, 29: 30, 30: 36, 31: 78, 32: 136, 33: 9, 34: 43, 35: 9, 36: 37, 37: 55, 38: 46, 39: 51, 40: 6, 41: 9, 42: 47, 43: 6, 44: 47, 45: 128, 46: 35, 47: 59, 48: 37, 49: 12, 50: 12, 51: 6, 52: 13, 53: 15, 54: 23, 55: 7, 56: 28, 57: 35, 58: 22, 59: 6, 60: 36, 61: 6, 62: 91, 63: 6, 64: 11, 65: 54, 66: 59, 67: 12, 68: 6, 69: 7, 70: 11, 71: 7, 72: 6, 73: 6, 74: 73, 75: 7, 76: 17, 77: 10, 78: 7, 79: 21, 80: 9, 81: 6, 82: 11, 83: 19, 84: 14, 85: 26, 86: 11, 87: 10, 88: 29, 89: 14, 90: 25, 91: 60, 92: 6, 93: 46, 94: 10, 95: 84, 96: 12, 97: 27, 98: 16, 99: 18, 100: 26, 101: 47, 102: 8, 103: 11, 104: 10, 105: 23, 106: 63, 107: 100, 108: 23, 109: 33, 110: 13, 111: 8, 112: 17, 113: 55, 114: 18, 115: 19, 116: 7, 117: 116, 118: 7, 119: 41, 120: 63, 121: 12, 122: 62, 123: 30, 124: 10, 125: 40, 126: 19, 127: 17, 128: 71, 129: 33, 130: 153, 131: 9, 132: 12, 133: 17, 134: 39, 135: 16, 136: 7, 137: 6, 138: 191, 139: 22, 140: 30, 141: 40, 142: 67, 143: 332, 144: 92, 145: 79, 146: 30, 147: 11, 148: 15, 149: 8, 150: 8, 151: 15, 152: 12, 153: 25, 154: 12, 155: 7, 156: 30, 157: 11, 158: 16, 159: 13, 160: 8, 161: 21, 162: 74, 163: 14, 164: 68, 165: 20, 166: 6, 167: 8, 168: 19, 169: 8, 170: 9, 171: 239, 172: 45, 173: 14, 174: 68, 175: 6, 176: 21, 177: 57, 178: 8, 179: 6, 180: 16, 181: 6, 182: 8, 183: 15, 184: 60, 185: 13, 186: 6, 187: 6, 188: 6, 189: 8, 190: 62, 191: 7, 192: 39, 193: 11, 194: 36, 195: 30, 196: 9, 197: 11, 198: 6, 199: 6, 200: 27, 201: 6, 202: 17, 203: 20, 204: 10, 205: 6, 206: 8, 207: 10, 208: 9, 209: 8, 210: 21, 211: 8, 212: 6, 213: 7, 214: 28, 215: 23, 216: 10, 217: 15, 218: 6, 219: 6, 220: 6}"
      ],
      "text/plain": [
       "<IPython.core.display.Markdown object>"
      ]
     },
     "execution_count": 231,
     "metadata": {},
     "output_type": "execute_result"
    }
   ],
   "source": [
    "unique, counts = np.unique(etiquetas_dbscan, return_counts=True)\n",
    "cantidad=dict(zip(unique, counts))\n",
    "Markdown(\"\"\"Los cantidad de valores encontrados son: {cantidad}\"\"\".format(cantidad=cantidad))"
   ]
  },
  {
   "cell_type": "markdown",
   "metadata": {},
   "source": [
    "Sucede algo extraño en la implementación que requiere una meticulosa revisión"
   ]
  },
  {
   "cell_type": "markdown",
   "metadata": {},
   "source": [
    "#### Visualización de datos reducidos por PCA y creando funcion automatizada"
   ]
  },
  {
   "cell_type": "markdown",
   "metadata": {},
   "source": [
    "Reduciendo componente a 2"
   ]
  },
  {
   "cell_type": "code",
   "execution_count": 238,
   "metadata": {},
   "outputs": [],
   "source": [
    "pca = PCA(n_components = 2) \n",
    "X_principal = pca.fit_transform(X_2)\n",
    "X_principal = pd.DataFrame(X_principal) \n",
    "X_principal.columns = ['Pca1', 'Pca2']"
   ]
  },
  {
   "cell_type": "markdown",
   "metadata": {},
   "source": [
    "Aplicando DBSCAN para verificar como sale con 2 componente"
   ]
  },
  {
   "cell_type": "code",
   "execution_count": 240,
   "metadata": {},
   "outputs": [],
   "source": [
    "db = DBSCAN(eps=4.9856603649238247,min_samples=6,n_jobs=-1, p=1)\n",
    "etiquetas_dbscan2=db.fit(X_principal).labels_"
   ]
  },
  {
   "cell_type": "markdown",
   "metadata": {},
   "source": [
    "##### Valores encontrados \"-1\""
   ]
  },
  {
   "cell_type": "code",
   "execution_count": 241,
   "metadata": {},
   "outputs": [
    {
     "name": "stdout",
     "output_type": "stream",
     "text": [
      "Los cantidad de valores encontrados son: {-1: 836, 0: 58, 1: 74, 2: 26, 3: 10, 4: 15, 5: 21, 6: 27, 7: 56, 8: 10, 9: 70, 10: 332, 11: 6, 12: 16, 13: 10, 14: 78, 15: 6, 16: 24, 17: 7, 18: 7, 19: 45, 20: 17, 21: 17, 22: 16, 23: 29, 24: 44, 25: 7, 26: 10, 27: 379, 28: 93, 29: 30, 30: 36, 31: 78, 32: 136, 33: 9, 34: 43, 35: 9, 36: 37, 37: 55, 38: 46, 39: 51, 40: 6, 41: 9, 42: 47, 43: 6, 44: 47, 45: 128, 46: 35, 47: 59, 48: 37, 49: 12, 50: 12, 51: 6, 52: 13, 53: 15, 54: 23, 55: 7, 56: 28, 57: 35, 58: 22, 59: 6, 60: 36, 61: 6, 62: 91, 63: 6, 64: 8, 65: 11, 66: 54, 67: 59, 68: 12, 69: 6, 70: 11, 71: 7, 72: 6, 73: 6, 74: 73, 75: 7, 76: 17, 77: 10, 78: 7, 79: 21, 80: 9, 81: 6, 82: 11, 83: 19, 84: 14, 85: 26, 86: 11, 87: 10, 88: 29, 89: 14, 90: 25, 91: 60, 92: 6, 93: 46, 94: 10, 95: 84, 96: 12, 97: 27, 98: 16, 99: 18, 100: 26, 101: 47, 102: 8, 103: 11, 104: 10, 105: 23, 106: 63, 107: 100, 108: 23, 109: 33, 110: 13, 111: 8, 112: 17, 113: 55, 114: 18, 115: 19, 116: 7, 117: 116, 118: 7, 119: 41, 120: 63, 121: 12, 122: 62, 123: 30, 124: 10, 125: 40, 126: 19, 127: 17, 128: 71, 129: 33, 130: 153, 131: 9, 132: 12, 133: 17, 134: 39, 135: 16, 136: 7, 137: 6, 138: 191, 139: 22, 140: 30, 141: 40, 142: 67, 143: 332, 144: 92, 145: 79, 146: 30, 147: 11, 148: 15, 149: 8, 150: 8, 151: 15, 152: 12, 153: 25, 154: 12, 155: 7, 156: 30, 157: 11, 158: 16, 159: 13, 160: 8, 161: 21, 162: 74, 163: 14, 164: 68, 165: 20, 166: 6, 167: 8, 168: 19, 169: 8, 170: 9, 171: 239, 172: 45, 173: 14, 174: 68, 175: 6, 176: 21, 177: 57, 178: 8, 179: 6, 180: 16, 181: 6, 182: 8, 183: 15, 184: 60, 185: 13, 186: 6, 187: 6, 188: 6, 189: 8, 190: 62, 191: 7, 192: 39, 193: 11, 194: 36, 195: 30, 196: 9, 197: 11, 198: 6, 199: 6, 200: 27, 201: 6, 202: 17, 203: 20, 204: 10, 205: 6, 206: 8, 207: 10, 208: 9, 209: 8, 210: 21, 211: 8, 212: 6, 213: 7, 214: 28, 215: 23, 216: 10, 217: 15, 218: 6, 219: 6, 220: 6}\n"
     ]
    }
   ],
   "source": [
    "unique, counts = np.unique(etiquetas_dbscan2, return_counts=True)\n",
    "cantidad=dict(zip(unique, counts))\n",
    "print(\"Los cantidad de valores encontrados son: {cantidad}\".format(cantidad=cantidad))"
   ]
  },
  {
   "cell_type": "markdown",
   "metadata": {},
   "source": [
    "##### Calculo de coeficiente de silhoette"
   ]
  },
  {
   "cell_type": "code",
   "execution_count": 242,
   "metadata": {},
   "outputs": [
    {
     "name": "stdout",
     "output_type": "stream",
     "text": [
      "El Coeficiente de Silhouette es: 0.746\n"
     ]
    }
   ],
   "source": [
    "print(\"El Coeficiente de Silhouette es: %0.3f\"\n",
    "      % metrics.silhouette_score(X_principal, etiquetas_dbscan2))"
   ]
  },
  {
   "cell_type": "markdown",
   "metadata": {},
   "source": [
    "### Funcion PCA para gráfica"
   ]
  },
  {
   "cell_type": "markdown",
   "metadata": {},
   "source": [
    "Para facilitar el trabajo realizaremos una función de tal manera de clasificar mejor a las variables y ahorrar tiempo"
   ]
  },
  {
   "cell_type": "code",
   "execution_count": 243,
   "metadata": {},
   "outputs": [],
   "source": [
    "def dbscan(data, eps, min_samples,n_jobs,p):\n",
    "    # Elegimos 2 componentes para graficar\n",
    "    pca = PCA(n_components = 2) \n",
    "    X_principal = pca.fit_transform(data)\n",
    "    X_principal = pd.DataFrame(X_principal) \n",
    "    X_principal.columns = ['Pca1', 'Pca2']\n",
    "    # Realizamos un analisis DBSCAN a los datos\n",
    "    db = DBSCAN(eps=eps, min_samples=min_samples, n_jobs=n_jobs,p=p)\n",
    "    db=db.fit(X_principal)\n",
    "    y_pred = db.fit_predict(X_principal)\n",
    "    plt.scatter(X_principal[\"Pca1\"], X_principal[\"Pca2\"],c=y_pred, cmap='Paired')\n",
    "    plt.title(\"Grafico de dispersion de datos por DBSCAN\")"
   ]
  },
  {
   "cell_type": "code",
   "execution_count": 244,
   "metadata": {},
   "outputs": [
    {
     "data": {
      "image/png": "[encoded data removed]",
      "text/plain": [
       "<Figure size 1008x1008 with 1 Axes>"
      ]
     },
     "metadata": {},
     "output_type": "display_data"
    }
   ],
   "source": [
    "dbscan(X_2,eps=4.9856603649238247,min_samples=6,n_jobs=-1, p=1)"
   ]
  },
  {
   "cell_type": "markdown",
   "metadata": {},
   "source": [
    "Conclusiones\n",
    "Se logro calcular el indice de silueta con los parametros mejores_params = 'eps': 4.9856603649238247, 'min_samples':6, 'p': 1 \n",
    "para detectar anamalias usando DBSCAN.\n",
    "\n",
    "- El número de anomalias detectadas fueron de: No se tiene claro debido al modelo incial con el que se partio.\n",
    "\n",
    "- El indice de silueta calculado fue de: 0.74"
   ]
  },
  {
   "cell_type": "markdown",
   "metadata": {},
   "source": [
    "# Pruebas con Redes Neuronales"
   ]
  },
  {
   "cell_type": "markdown",
   "metadata": {},
   "source": [
    "# Propagación hacia atrás"
   ]
  },
  {
   "cell_type": "markdown",
   "metadata": {},
   "source": [
    "Usamos solo las 4 primeras variables para que el input coincida con la capa de entrada de la red"
   ]
  },
  {
   "cell_type": "code",
   "execution_count": 264,
   "metadata": {},
   "outputs": [
    {
     "data": {
      "text/html": [
       "<div>\n",
       "<style scoped>\n",
       "    .dataframe tbody tr th:only-of-type {\n",
       "        vertical-align: middle;\n",
       "    }\n",
       "\n",
       "    .dataframe tbody tr th {\n",
       "        vertical-align: top;\n",
       "    }\n",
       "\n",
       "    .dataframe thead th {\n",
       "        text-align: right;\n",
       "    }\n",
       "</style>\n",
       "<table border=\"1\" class=\"dataframe\">\n",
       "  <thead>\n",
       "    <tr style=\"text-align: right;\">\n",
       "      <th></th>\n",
       "      <th>Center</th>\n",
       "      <th>X16</th>\n",
       "      <th>Loc</th>\n",
       "      <th>Donut</th>\n",
       "    </tr>\n",
       "  </thead>\n",
       "  <tbody>\n",
       "    <tr>\n",
       "      <th>0</th>\n",
       "      <td>1.221805e-02</td>\n",
       "      <td>0.924183</td>\n",
       "      <td>5.125390e-07</td>\n",
       "      <td>5.778933e-10</td>\n",
       "    </tr>\n",
       "    <tr>\n",
       "      <th>1</th>\n",
       "      <td>1.221805e-02</td>\n",
       "      <td>0.924183</td>\n",
       "      <td>1.960759e-05</td>\n",
       "      <td>1.084093e-06</td>\n",
       "    </tr>\n",
       "    <tr>\n",
       "      <th>2</th>\n",
       "      <td>1.221805e-02</td>\n",
       "      <td>0.924183</td>\n",
       "      <td>1.081706e-04</td>\n",
       "      <td>6.231705e-07</td>\n",
       "    </tr>\n",
       "    <tr>\n",
       "      <th>3</th>\n",
       "      <td>1.221805e-02</td>\n",
       "      <td>0.924183</td>\n",
       "      <td>4.475594e-04</td>\n",
       "      <td>2.046773e-05</td>\n",
       "    </tr>\n",
       "    <tr>\n",
       "      <th>4</th>\n",
       "      <td>1.221805e-02</td>\n",
       "      <td>0.924183</td>\n",
       "      <td>3.271907e-04</td>\n",
       "      <td>2.869377e-06</td>\n",
       "    </tr>\n",
       "    <tr>\n",
       "      <th>...</th>\n",
       "      <td>...</td>\n",
       "      <td>...</td>\n",
       "      <td>...</td>\n",
       "      <td>...</td>\n",
       "    </tr>\n",
       "    <tr>\n",
       "      <th>7995</th>\n",
       "      <td>7.860807e-12</td>\n",
       "      <td>-0.496959</td>\n",
       "      <td>4.395741e-16</td>\n",
       "      <td>8.238234e-18</td>\n",
       "    </tr>\n",
       "    <tr>\n",
       "      <th>7996</th>\n",
       "      <td>3.136740e-05</td>\n",
       "      <td>-0.496959</td>\n",
       "      <td>3.013684e-06</td>\n",
       "      <td>1.375660e-10</td>\n",
       "    </tr>\n",
       "    <tr>\n",
       "      <th>7997</th>\n",
       "      <td>2.121396e-09</td>\n",
       "      <td>-0.496959</td>\n",
       "      <td>2.035249e-13</td>\n",
       "      <td>2.659862e-17</td>\n",
       "    </tr>\n",
       "    <tr>\n",
       "      <th>7998</th>\n",
       "      <td>8.457914e-20</td>\n",
       "      <td>-0.496959</td>\n",
       "      <td>5.367670e-21</td>\n",
       "      <td>9.804817e-25</td>\n",
       "    </tr>\n",
       "    <tr>\n",
       "      <th>7999</th>\n",
       "      <td>3.995504e-08</td>\n",
       "      <td>-0.496959</td>\n",
       "      <td>3.372209e-16</td>\n",
       "      <td>4.552690e-19</td>\n",
       "    </tr>\n",
       "  </tbody>\n",
       "</table>\n",
       "<p>8000 rows × 4 columns</p>\n",
       "</div>"
      ],
      "text/plain": [
       "            Center       X16           Loc         Donut\n",
       "0     1.221805e-02  0.924183  5.125390e-07  5.778933e-10\n",
       "1     1.221805e-02  0.924183  1.960759e-05  1.084093e-06\n",
       "2     1.221805e-02  0.924183  1.081706e-04  6.231705e-07\n",
       "3     1.221805e-02  0.924183  4.475594e-04  2.046773e-05\n",
       "4     1.221805e-02  0.924183  3.271907e-04  2.869377e-06\n",
       "...            ...       ...           ...           ...\n",
       "7995  7.860807e-12 -0.496959  4.395741e-16  8.238234e-18\n",
       "7996  3.136740e-05 -0.496959  3.013684e-06  1.375660e-10\n",
       "7997  2.121396e-09 -0.496959  2.035249e-13  2.659862e-17\n",
       "7998  8.457914e-20 -0.496959  5.367670e-21  9.804817e-25\n",
       "7999  3.995504e-08 -0.496959  3.372209e-16  4.552690e-19\n",
       "\n",
       "[8000 rows x 4 columns]"
      ]
     },
     "execution_count": 264,
     "metadata": {},
     "output_type": "execute_result"
    }
   ],
   "source": [
    "X_3=X_2.copy()\n",
    "X_3=X_3.drop(columns=['X2','X9','Cluster','dieSize'])\n",
    "X_3"
   ]
  },
  {
   "cell_type": "markdown",
   "metadata": {},
   "source": [
    "## Creación de la red neuronal"
   ]
  },
  {
   "cell_type": "markdown",
   "metadata": {},
   "source": [
    "Vamos a crear la siguente red neuronal\n",
    "\n",
    "E implementaremos el algoritmo de propagación hacia atrás (backpropagation) que es lo que permitirá que la red aprenda.\n",
    "\n",
    "Es decir, una capa de entrada con 4 neuronas (*también llamadas unidades^), una capa oculta con 5 neuronas y una capa de salida que convertirá los outputs (o activaciones de la capa oculta en clase positiva o negativa\n",
    "\n",
    "En primer lugar definimos las funciones de activación distintas:\n",
    "\n",
    "- Función identidad, que se usa en la capa de entrada y no hace nada (o sea,  f(x)=x ) (simplofocar calculos entre capas)\n",
    "- Función Sigmoide, que aplica la función sigmoide  f(x)=11+e−x  que convierte los números al rango [0,1] y que se usa para problemas de clasificación binaria (probabilidad)"
   ]
  },
  {
   "cell_type": "code",
   "execution_count": 265,
   "metadata": {},
   "outputs": [],
   "source": [
    "y_3=b"
   ]
  },
  {
   "cell_type": "code",
   "execution_count": 266,
   "metadata": {},
   "outputs": [
    {
     "name": "stdout",
     "output_type": "stream",
     "text": [
      "[1.22180497e-02 9.24183241e-01 5.12538975e-07 5.77893344e-10] 1\n"
     ]
    }
   ],
   "source": [
    "x1 = X_3.values\n",
    "x0=x1[0]\n",
    "y0 = y_3[0]\n",
    "print(x0, y0)"
   ]
  },
  {
   "cell_type": "markdown",
   "metadata": {},
   "source": [
    "Definimos las funciones activadoras para la red"
   ]
  },
  {
   "cell_type": "code",
   "execution_count": 267,
   "metadata": {},
   "outputs": [],
   "source": [
    "def fn_identidad(x, derivada=False):\n",
    "    if derivada:\n",
    "        return np.ones(x.shape)\n",
    "    return x\n",
    "                \n",
    "def fn_sigmoide(x, derivada=False):\n",
    "    if derivada:\n",
    "        return x*(1-x)\n",
    "    return 1/(1+np.exp(-x))"
   ]
  },
  {
   "cell_type": "markdown",
   "metadata": {},
   "source": [
    "también tenemos que definir una manera de computar el error de una predicción (error, coste y perdida se usan indistintamente).\n",
    "\n",
    "Para un problema de clasificación binaria, una buena métrica es la pérdida logarítmica (logloss)"
   ]
  },
  {
   "cell_type": "code",
   "execution_count": 268,
   "metadata": {},
   "outputs": [],
   "source": [
    "def error_logloss(y_pred, y):\n",
    "    p = np.clip(y_pred, 1e-15, 1 - 1e-15) #notacion cientifica\n",
    "    if y == 1:\n",
    "        return -np.log(p)\n",
    "    else:\n",
    "        return -np.log(1 - p) "
   ]
  },
  {
   "cell_type": "markdown",
   "metadata": {},
   "source": [
    "En primer lugar, definimos la capa básica, que tiene un número de unidades un bias, y una función de activaciónr"
   ]
  },
  {
   "cell_type": "code",
   "execution_count": 269,
   "metadata": {},
   "outputs": [],
   "source": [
    "class Layer:\n",
    "    def __init__(self, n_unidades, fn_activacion, bias=True):\n",
    "        self.n_unidades = n_unidades\n",
    "        self.fn_activacion = fn_activacion\n",
    "        self.dim_output = n_unidades\n",
    "        \n",
    "        # añadimos un peso más para la unidad de bias\n",
    "        self.bias = bias\n",
    "\n",
    "        self.dimensiones = \"no generada\"\n",
    "        self.w = None\n",
    "        \n",
    "    def __repr__(self):\n",
    "        return \"\"\"\n",
    "        Capa {}. dimensiones = {}.\n",
    "        pesos: {}\n",
    "        \"\"\".format(\n",
    "        self.nombre, self.dimensiones, self.w)\n",
    "    \n",
    "    def generar_pesos(self, dim_output_anterior):\n",
    "        if self.bias:\n",
    "            self.dimensiones = (self.n_unidades, dim_output_anterior+1)\n",
    "        else:\n",
    "            self.dimensiones = (self.n_unidades, dim_output_anterior)\n",
    "        self.w = np.random.random(self.dimensiones)\n",
    "\n",
    "    def add_bias(self, x):\n",
    "        if not self.bias:\n",
    "            return x\n",
    "        x_con_bias_1d = np.append(1, x)\n",
    "        # append convierte en array 1dimensional necesitamos 2d\n",
    "        return x_con_bias_1d.reshape(\n",
    "             x_con_bias_1d.shape[0], 1\n",
    "        )\n",
    "    \n",
    "    def activar(self, x):\n",
    "        x_con_bias_2d = self.add_bias(x)\n",
    "        return self.fn_activacion( self.w @ x_con_bias_2d )\n",
    "#propagando el error a la capa\n",
    "    def calcular_delta(self, producto_capa, output_capa):\n",
    "        return producto_capa * self.fn_activacion(output_capa, derivada=True)"
   ]
  },
  {
   "cell_type": "markdown",
   "metadata": {},
   "source": [
    "Tenemos 3 tipos de Capas de neuronas.\n",
    "\n",
    "- Capa de Entrada, no hace nada, simplemente conecta el input con el resto de la red\n",
    "- Capa Oculta, también llamada capa densa, realiza el algoritmo perceptrón con una función de activación no lineal\n",
    "- Capa de Salida, esta capa traduce el output de la capa antepenúltima a la variable objetivo deseada"
   ]
  },
  {
   "cell_type": "code",
   "execution_count": 270,
   "metadata": {},
   "outputs": [],
   "source": [
    "class InputLayer(Layer):\n",
    "    nombre = \"entrada\"\n",
    "\n",
    "    def generar_pesos(self):\n",
    "        pass      \n",
    "    \n",
    "    def activar(self, x):\n",
    "        return x\n",
    "\n",
    "class HiddenLayer(Layer):\n",
    "    nombre = \"oculta\"\n",
    "    \n",
    "class OutputLayer(Layer):\n",
    "    nombre = \"salida\" "
   ]
  },
  {
   "cell_type": "markdown",
   "metadata": {},
   "source": [
    "Ahora creamos la red neuronal, que es simplemente una lista de capas y con capacidad de hacer propagación hacia delante y hacia atrás.\n"
   ]
  },
  {
   "cell_type": "code",
   "execution_count": 271,
   "metadata": {},
   "outputs": [],
   "source": [
    "class RedNeuronal:\n",
    "    def __init__(self, ratio_aprendizaje, fn_error):\n",
    "        self.layers = []\n",
    "        self.ratio_aprendizaje = ratio_aprendizaje\n",
    "        self.fn_error = fn_error\n",
    "        \n",
    "    def add_layer(self, layer):\n",
    "        if layer.nombre == \"entrada\":\n",
    "            layer.generar_pesos()\n",
    "        else:\n",
    "            layer.generar_pesos(self.layers[-1].dim_output)\n",
    "        self.layers.append(layer)\n",
    "            \n",
    "    def __repr__(self):\n",
    "        info_red = \"\"\n",
    "        for layer in self.layers:\n",
    "            info_red += \"\\nCapa: {} Nº unidades: {}\".format(\n",
    "                        layer.nombre, layer.n_unidades)\n",
    "        return info_red\n",
    "  #hacia adelante  \n",
    "    def forward(self, x):\n",
    "        \n",
    "        for layer in self.layers:\n",
    "            layer.input = layer.add_bias(x).T\n",
    "            x = layer.activar(x)\n",
    "            layer.output = x\n",
    "        return x\n",
    "    \n",
    "    def calcular_error_prediccion(self, y_pred, y):\n",
    "        return self.fn_error(y_pred, y)\n",
    "  # hacia atras\n",
    "    def backward(self, y_pred, y):\n",
    "        # El error de prediccion final\n",
    "        delta_capa = self.calcular_error_prediccion(y_pred, y)\n",
    "        for layer in reversed(self.layers):\n",
    "            if layer.nombre == \"entrada\":\n",
    "                continue    \n",
    "            if layer.nombre == \"salida\":\n",
    "                producto_capa = delta_capa @ layer.w\n",
    "            else:\n",
    "                #quitamos el error del bias de la capa anterior\n",
    "                producto_capa = delta_capa[:,1:] @ layer.w\n",
    "            delta_capa = layer.calcular_delta(producto_capa, layer.output) \n",
    "            layer.delta = delta_capa       \n",
    "                   \n",
    "                \n",
    "    def actualizar_pesos(self):\n",
    "        \"\"\"\n",
    "        Actualiza pesos mediante el descenso de gradiente\"\"\"\n",
    "        for layer in self.layers[1:]:\n",
    "            layer.w = layer.w - self.ratio_aprendizaje \\\n",
    "                      *layer.delta * layer.input\n",
    "\n",
    "    def aprendizaje(self, x, y):\n",
    "        \"\"\"\n",
    "        Función principal para entrenar la red\n",
    "        \"\"\"\n",
    "        y_pred = self.forward(x)\n",
    "        self.backward(y_pred, y)\n",
    "        self.actualizar_pesos()\n",
    "        error_prediccion = self.calcular_error_prediccion(y_pred, y)\n",
    "        return error_prediccion\n",
    "\n",
    "    def predict_proba(self, x):\n",
    "        return self.forward(x)\n",
    "    \n",
    "    def predict(self, x):\n",
    "        probabilidad = self.predict_proba(x)\n",
    "        if probabilidad>=0.5:\n",
    "            return 1\n",
    "        else:\n",
    "            return 0"
   ]
  },
  {
   "cell_type": "markdown",
   "metadata": {},
   "source": [
    "## Creación de la red neuronal"
   ]
  },
  {
   "cell_type": "markdown",
   "metadata": {},
   "source": [
    "En primer lugar tenemos que definir los tamaños de cada capa, y si van a incluir sesgo (bias) o no."
   ]
  },
  {
   "cell_type": "code",
   "execution_count": 272,
   "metadata": {},
   "outputs": [],
   "source": [
    "n_input = 4\n",
    "n_oculta = 5\n",
    "n_output = 1\n",
    "#hiperparametros\n",
    "RATIO_APRENDIZAJE = 0.0001\n",
    "N_ITERACIONES=1000"
   ]
  },
  {
   "cell_type": "code",
   "execution_count": 273,
   "metadata": {},
   "outputs": [],
   "source": [
    "red_sigmoide = RedNeuronal(ratio_aprendizaje=RATIO_APRENDIZAJE, fn_error=error_logloss)\n",
    "\n",
    "red_sigmoide.add_layer(InputLayer(n_input, bias=False, fn_activacion=fn_identidad))\n",
    "red_sigmoide.add_layer(HiddenLayer(n_oculta, fn_activacion=fn_sigmoide))\n",
    "red_sigmoide.add_layer(OutputLayer(n_output, fn_activacion=fn_sigmoide))"
   ]
  },
  {
   "cell_type": "markdown",
   "metadata": {},
   "source": [
    "Inicialmente la red tiene unos pesos aleatorios"
   ]
  },
  {
   "cell_type": "code",
   "execution_count": 274,
   "metadata": {},
   "outputs": [
    {
     "data": {
      "text/plain": [
       "[\n",
       "         Capa entrada. dimensiones = no generada.\n",
       "         pesos: None\n",
       "         ,\n",
       " \n",
       "         Capa oculta. dimensiones = (5, 5).\n",
       "         pesos: [[0.85331424 0.84251593 0.993586   0.73683173 0.50016255]\n",
       "  [0.71010467 0.07182256 0.58676402 0.58163666 0.73515374]\n",
       "  [0.66181206 0.35032482 0.34699283 0.95795784 0.4080359 ]\n",
       "  [0.31276662 0.44872597 0.70711942 0.75397289 0.07092472]\n",
       "  [0.74268957 0.10475369 0.40015677 0.94623575 0.91005116]]\n",
       "         ,\n",
       " \n",
       "         Capa salida. dimensiones = (1, 6).\n",
       "         pesos: [[0.61911223 0.03783661 0.97993805 0.97404946 0.22441449 0.66187375]]\n",
       "         ]"
      ]
     },
     "execution_count": 274,
     "metadata": {},
     "output_type": "execute_result"
    }
   ],
   "source": [
    "red_sigmoide.layers"
   ]
  },
  {
   "cell_type": "code",
   "execution_count": 275,
   "metadata": {},
   "outputs": [
    {
     "data": {
      "text/plain": [
       "array([[0.05993424]])"
      ]
     },
     "execution_count": 275,
     "metadata": {},
     "output_type": "execute_result"
    }
   ],
   "source": [
    "red_sigmoide.aprendizaje(x0, y0)"
   ]
  },
  {
   "cell_type": "markdown",
   "metadata": {},
   "source": [
    "Vemos que los pesos de las capas se han actualizado"
   ]
  },
  {
   "cell_type": "code",
   "execution_count": 276,
   "metadata": {},
   "outputs": [
    {
     "data": {
      "text/plain": [
       "[\n",
       "         Capa entrada. dimensiones = no generada.\n",
       "         pesos: None\n",
       "         ,\n",
       " \n",
       "         Capa oculta. dimensiones = (5, 5).\n",
       "         pesos: [[0.85331416 0.84251593 0.99358595 0.73683173 0.50016255]\n",
       "  [0.71010456 0.07182256 0.58676395 0.58163666 0.73515374]\n",
       "  [0.66181193 0.35032482 0.34699275 0.95795784 0.4080359 ]\n",
       "  [0.31276649 0.44872597 0.70711933 0.75397289 0.07092472]\n",
       "  [0.74268945 0.10475369 0.4001567  0.94623575 0.91005116]]\n",
       "         ,\n",
       " \n",
       "         Capa salida. dimensiones = (1, 6).\n",
       "         pesos: [[0.61911203 0.0378366  0.9799378  0.97404923 0.22441444 0.66187359]]\n",
       "         ]"
      ]
     },
     "execution_count": 276,
     "metadata": {},
     "output_type": "execute_result"
    }
   ],
   "source": [
    "red_sigmoide.layers"
   ]
  },
  {
   "cell_type": "markdown",
   "metadata": {},
   "source": [
    "Esto es el equivalente a hacer los siguientes pasos"
   ]
  },
  {
   "cell_type": "code",
   "execution_count": 277,
   "metadata": {},
   "outputs": [
    {
     "data": {
      "text/plain": [
       "array([[0.94182642]])"
      ]
     },
     "execution_count": 277,
     "metadata": {},
     "output_type": "execute_result"
    }
   ],
   "source": [
    "#hacia adelante (prediccion)\n",
    "prediccion = red_sigmoide.forward(x0)\n",
    "prediccion"
   ]
  },
  {
   "cell_type": "code",
   "execution_count": 278,
   "metadata": {},
   "outputs": [],
   "source": [
    "#hacia atras en base a esa predicción (utiliza esa predccion para atras)\n",
    "red_sigmoide.backward(prediccion, y0)"
   ]
  },
  {
   "cell_type": "code",
   "execution_count": 279,
   "metadata": {},
   "outputs": [],
   "source": [
    "#actualizamos los pesos\n",
    "red_sigmoide.actualizar_pesos()"
   ]
  },
  {
   "cell_type": "code",
   "execution_count": 280,
   "metadata": {},
   "outputs": [
    {
     "data": {
      "text/plain": [
       "[\n",
       "         Capa entrada. dimensiones = no generada.\n",
       "         pesos: None\n",
       "         ,\n",
       " \n",
       "         Capa oculta. dimensiones = (5, 5).\n",
       "         pesos: [[0.85331408 0.84251593 0.9935859  0.73683173 0.50016255]\n",
       "  [0.71010445 0.07182256 0.58676388 0.58163666 0.73515374]\n",
       "  [0.66181181 0.35032482 0.34699267 0.95795784 0.4080359 ]\n",
       "  [0.31276637 0.44872597 0.70711925 0.75397289 0.07092472]\n",
       "  [0.74268933 0.10475369 0.40015662 0.94623575 0.91005116]]\n",
       "         ,\n",
       " \n",
       "         Capa salida. dimensiones = (1, 6).\n",
       "         pesos: [[0.61911182 0.03783659 0.97993755 0.97404899 0.22441439 0.66187342]]\n",
       "         ]"
      ]
     },
     "execution_count": 280,
     "metadata": {},
     "output_type": "execute_result"
    }
   ],
   "source": [
    "red_sigmoide.layers"
   ]
  },
  {
   "cell_type": "markdown",
   "metadata": {},
   "source": [
    "Ya tenemos una red neuronal que aprende para optimizar una observación usando el método del descenso de gradiente. Ahora solo tenemos que implementar el método de descenso estocástico de gradiente (SGD) para iterar en todo el dataset de entrenamiento e ir modificando los pesos para minimizar los errores de entrenamiento\n"
   ]
  },
  {
   "cell_type": "code",
   "execution_count": 281,
   "metadata": {},
   "outputs": [],
   "source": [
    "def iteracion_sgd(red, X, y):\n",
    "    # seleecionamos aleatoriament los datos de entrenamiento\n",
    "    indice_aleatorio = np.random.permutation(X.shape[0])\n",
    "    error =  []\n",
    "    # iteramos todo el dataset\n",
    "    for i in range(indice_aleatorio.shape[0]):\n",
    "        x0 = X[indice_aleatorio[i]]\n",
    "        y0 = y[indice_aleatorio[i]]\n",
    "        err = red.aprendizaje(x0, y0)\n",
    "        error.append(err)\n",
    "    return np.nanmean(np.array(error))\n",
    "\n",
    "def entrenar_sgd(red, n_epocas, X, y):\n",
    "    epocas = []\n",
    "    for epoca in range(n_epocas):\n",
    "        error_epoca = iteracion_sgd(red, X, y)\n",
    "        epocas.append([epoca, error_epoca])\n",
    "    return np.array(epocas)"
   ]
  },
  {
   "cell_type": "markdown",
   "metadata": {},
   "source": [
    "Ahora por ejemplo corremos el algoritmo durante varias iteraciones.\n"
   ]
  },
  {
   "cell_type": "code",
   "execution_count": 282,
   "metadata": {},
   "outputs": [],
   "source": [
    "resultados_sigmoide = entrenar_sgd(red_sigmoide, N_ITERACIONES, x1, y)"
   ]
  },
  {
   "cell_type": "markdown",
   "metadata": {},
   "source": [
    "Si ahora visualizamos la evolución del error medio"
   ]
  },
  {
   "cell_type": "code",
   "execution_count": 283,
   "metadata": {},
   "outputs": [
    {
     "data": {
      "image/png": "[encoded data removed]",
      "text/plain": [
       "<Figure size 1008x1008 with 1 Axes>"
      ]
     },
     "metadata": {},
     "output_type": "display_data"
    }
   ],
   "source": [
    "plt.scatter(x=resultados_sigmoide[:,0], y=resultados_sigmoide[:,1])\n",
    "plt.title(\"Error para red con funcion sigmoide en capa oculta\")\n",
    "plt.xlabel(\"Número de Iteraciones\")\n",
    "plt.ylabel(\"Error medio\");\n",
    "#sobre los hiperametros numero optimo seria 200"
   ]
  },
  {
   "cell_type": "markdown",
   "metadata": {},
   "source": [
    "Vemos que a cada iteración (época) de aprendizaje el error medio total se va reduciendo\n",
    "\n",
    "Lo bueno de las redes neuronales es que tienen una flexibilidad que otros modelos no tienen.\n",
    "\n",
    "Por ejemplo podemos cambiar la función de activación de la capa oculta.\n",
    "\n",
    "En la práctica la función sigmoide no se usa para capas ocultas, se suele usar más la Unidad Linear rectificada (ReLU)."
   ]
  },
  {
   "cell_type": "code",
   "execution_count": 284,
   "metadata": {},
   "outputs": [],
   "source": [
    "def fn_relu(x, derivada=False):\n",
    "    if derivada:\n",
    "        return 1. * (x>0.)\n",
    "    return np.maximum(x, 0.)\n",
    "\n",
    "def fn_leakyrelu(x, derivada=False):\n",
    "    if derivada:\n",
    "        if x.any()>0:\n",
    "            return 1.\n",
    "        else:\n",
    "            return 0.01\n",
    "    return np.maximum(x, 0.01*x)"
   ]
  },
  {
   "cell_type": "markdown",
   "metadata": {},
   "source": [
    "o incluso modificar la red y añadir otra capa con el doble de unidades"
   ]
  },
  {
   "cell_type": "code",
   "execution_count": 285,
   "metadata": {},
   "outputs": [],
   "source": [
    "red_relu = RedNeuronal(ratio_aprendizaje=RATIO_APRENDIZAJE, fn_error=error_logloss)\n",
    "red_relu.add_layer(InputLayer(n_input, bias=False, fn_activacion=fn_identidad))\n",
    "#2 capas ocultas\n",
    "red_relu.add_layer(HiddenLayer(n_oculta, fn_activacion=fn_relu))\n",
    "red_relu.add_layer(HiddenLayer(n_oculta, fn_activacion=fn_relu))\n",
    "red_relu.add_layer(OutputLayer(n_output, fn_activacion=fn_sigmoide))\n",
    "\n",
    "# en esta estamos usando la gfuncion relu"
   ]
  },
  {
   "cell_type": "code",
   "execution_count": 286,
   "metadata": {},
   "outputs": [],
   "source": [
    "resultados_relu = entrenar_sgd(red_relu, N_ITERACIONES, x1, y)\n"
   ]
  },
  {
   "cell_type": "code",
   "execution_count": 287,
   "metadata": {},
   "outputs": [
    {
     "data": {
      "image/png": "[encoded data removed]",
      "text/plain": [
       "<Figure size 1008x1008 with 1 Axes>"
      ]
     },
     "metadata": {},
     "output_type": "display_data"
    }
   ],
   "source": [
    "plt.scatter(x=resultados_relu[:,0], y=resultados_relu[:,1])\n",
    "plt.title(\"Error para red con funcion ReLU en capa oculta\");\n",
    "# recomendable regreseion logistica"
   ]
  },
  {
   "cell_type": "markdown",
   "metadata": {},
   "source": [
    "# Conclusiones"
   ]
  },
  {
   "cell_type": "markdown",
   "metadata": {},
   "source": [
    "En la Primera Parte de la monografía, se hizo una breve introducción en lo que respecta al manufactura de chips o dispositivos semiconductores y como es que recolectan los datos en empresas bien establecidas en ese área. En la segunda parte, se realiza la exploración de datos, como la obtención y el tratamiento de estos datos previamente previamente comprendiendo la problemática en cuanto la toma de decisiones o predicción de aprobación o desaprobación del material manufacturado y como influye en el coste operativo el cual puede ser aprovechado enormemente evitando degradamiento en los mismos. Por otro lado, el aprendizaje supervisado ayuda bastante en cuanto a la identificación de variables, realizándose un correcto tratamiento de información verificando los valores Faltantes o missing y Atípicos Outliers cabe mencionar que se selecciono el metodo Boxplot o por cuartiles por ser mas practico para implementar.\n",
    "\n",
    "En cuanto a la selección de variables se escogieron método trabajado en clase que resultaron bastantes prácticos y relativamente simples de implementar tales como el WOE y IV para variables categóricas y continuas al igual que el indicie de gini individual, además, se utilizo una librería mas trabajada para selección de variables mediante WOE, randomForest, CHicuadrado, entre otros, dando como resultado una selección \"por quien tiene mas fallas\". Esta ultima función también proporciona la conversión de variables dummies en función a sus índices calculados. Para agregar se utilizo las funciones de KBest y la técnica de correlación que ayudaron a reducir variables a 7 como data final.\n",
    "\n",
    "Una vez seleccionada la data, se procedió a probar los distintos modelos de selección de las cuales se eligió el modelo de regresión logística donde se siguió el criterio de evitar sobreajuste y subajuste. El accuracy obtenido para este modelo fue de 0.74 en train y 0.72  en test. Mientras que el índice de gini fue de 0,6 en train y 0,54 en test. se calculo de igual manera algunas métricas adicionales y la curva de ROC DANDO 0,77.\n",
    "\n",
    "Se aplico clusters K-Medias y DBSCAN, donde se calcularon el numero de cluster igual a 3 por el método de codo.\n",
    "\n",
    "Como ultima prueba se realizo pruebas con Redes Neuronales eligiendo las variables mas representativas de nuestra data que basicamente son los distintos tipos de fallas de obleas.\n",
    "\n",
    "En conclusión final se puede decir que los modelos de clasificación ayudan en cuanto a la predicción de aprobación o desaprobación de semiconductores obtenido por tasa de rendimiento de una combinación específica de máquina-producto y tipo de oblea durante la producción de un semiconductores y posiblemente puedan utilizadas como nuevas herramientas para mediciones de errores fallas etc en un que necesita bastante precisión."
   ]
  }
 ],
 "metadata": {
  "kernelspec": {
   "display_name": "Python 3",
   "language": "python",
   "name": "python3"
  },
  "language_info": {
   "codemirror_mode": {
    "name": "ipython",
    "version": 3
   },
   "file_extension": ".py",
   "mimetype": "text/x-python",
   "name": "python",
   "nbconvert_exporter": "python",
   "pygments_lexer": "ipython3",
   "version": "3.8.3"
  }
 },
 "nbformat": 4,
 "nbformat_minor": 4
}
